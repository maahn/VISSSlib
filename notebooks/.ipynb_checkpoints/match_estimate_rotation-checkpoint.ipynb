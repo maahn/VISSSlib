{
 "cells": [
  {
   "cell_type": "code",
   "execution_count": 1,
   "id": "38b95793",
   "metadata": {},
   "outputs": [],
   "source": [
    "import VISSSlib\n",
    "import yaml"
   ]
  },
  {
   "cell_type": "code",
   "execution_count": 7,
   "id": "1cbf536c",
   "metadata": {},
   "outputs": [],
   "source": [
    "settings = \"/projekt1//ag_maahn/VISSS_config/hyytiala_v1.yaml\"; case = \"20220331-104000\"\n",
    "settings = \"/projekt1//ag_maahn/VISSS_config/hyytiala_v1.yaml\"; case = \"20220402-223000\"\n",
    "settings = \"/projekt1//ag_maahn/VISSS_config/nyaalesund_v4.yaml\"; case = \"20220630-030000\"\n",
    "version = \"20220521\" \n"
   ]
  },
  {
   "cell_type": "code",
   "execution_count": 8,
   "id": "805b7caf",
   "metadata": {},
   "outputs": [
    {
     "data": {
      "text/plain": [
       "<module 'VISSSlib.tools' from '/home/mmaahn/projectsSrv/VISSSlib/src/VISSSlib/tools.py'>"
      ]
     },
     "execution_count": 8,
     "metadata": {},
     "output_type": "execute_result"
    }
   ],
   "source": [
    "\n",
    "from importlib import reload\n",
    "reload(VISSSlib.matching)\n",
    "reload(VISSSlib.fixes)\n",
    "reload(VISSSlib.tools)"
   ]
  },
  {
   "cell_type": "code",
   "execution_count": 9,
   "id": "9d8616d3",
   "metadata": {},
   "outputs": [],
   "source": [
    "config = VISSSlib.tools.readSettings(settings)\n",
    "fl = VISSSlib.files.FindFiles(case, config.leader, config, version)\n",
    "fname1L = fl.listFiles(\"level1detect\")[0]\n",
    "fname1Match = VISSSlib.files.FilenamesFromLevel(fname1L, config).fname[\"level1match\"]"
   ]
  },
  {
   "cell_type": "code",
   "execution_count": 10,
   "id": "851e7b56",
   "metadata": {},
   "outputs": [],
   "source": [
    "rotate_default = {\n",
    "    \"phi\": 0,\n",
    "    \"theta\": 0,\n",
    "    \"Ofz\": 0, \n",
    "}\n",
    "\n",
    "rotate_err_default = {\n",
    "    \"phi\":  5,\n",
    "    \"theta\":  5,\n",
    "    \"Ofz\":  50,\n",
    "}"
   ]
  },
  {
   "cell_type": "code",
   "execution_count": 11,
   "id": "b59d6dcf",
   "metadata": {},
   "outputs": [
    {
     "name": "stdout",
     "output_type": "stream",
     "text": [
      "opening /projekt4/ag_maahn/data_obs_nobackup/hyytiala/visss/level1detect/2022/04/02/level1detect_V20220521_hyytiala_visss_visss_trigger_S1145792_20220402-223000.nc\n",
      "captureIdOverflows: expecting 1 jumps, found and fixed 1 jumps\n",
      "take default values for previous rotation\n",
      "opening ['/projekt4/ag_maahn/data_obs_nobackup/hyytiala/visss/level1detect/2022/04/02/level1detect_V20220521_hyytiala_visss_visss_follower_S1143155_20220402-223000.nc']\n",
      "captureIdOverflows: expecting 1 jumps, found and fixed 1 jumps\n",
      "making follower times even\n",
      "0 of 1 slice for follower restart 2022-04-02T22:30:00.085472000 2022-04-02T22:39:59.997470000\n",
      "using 400 of 500\n",
      "estimateCaptureIdDiff statistic: {-19: 400}\n",
      "capture_id determined -19, 100.0% have the same value\n",
      "rotation coefficients iteration 0 of 20\n",
      "slicing data into 6 pieces\n",
      "doMatch 1000 1303\n",
      "trigger_S1145792 particles have been matched twice, fixing 0\n",
      "doMatch 1000 2021\n",
      "follower_S1143155 particles have been matched twice, fixing 0\n",
      "doMatch 1000 1763\n",
      "follower_S1143155 particles have been matched twice, fixing 0\n",
      "doMatch 1000 1845\n",
      "follower_S1143155 particles have been matched twice, fixing 0\n",
      "doMatch 1000 1860\n",
      "follower_S1143155 particles have been matched twice, fixing 0\n",
      "doMatch 1000 778\n",
      "2 matches found. Setting match coefficients to NAN\n"
     ]
    },
    {
     "name": "stderr",
     "output_type": "stream",
     "text": [
      "/home/mmaahn/miniconda3/envs/py310/lib/python3.10/site-packages/numpy/core/_methods.py:163: VisibleDeprecationWarning: Creating an ndarray from ragged nested sequences (which is a list-or-tuple of lists-or-tuples-or ndarrays with different lengths or shapes) is deprecated. If you meant to do this, you must specify 'dtype=object' when creating the ndarray.\n",
      "  arr = asanyarray(a)\n"
     ]
    },
    {
     "name": "stdout",
     "output_type": "stream",
     "text": [
      "MATCH 0 0.0035765737\n",
      "ROTATE 0 phi      0.140904\n",
      "theta    0.022846\n",
      "Ofz     -0.751365\n",
      "dtype: float64\n",
      "rotation coefficients iteration 1 of 20\n",
      "slicing data into 6 pieces\n",
      "doMatch 1000 1303\n",
      "trigger_S1145792 particles have been matched twice, fixing 0\n",
      "doMatch 1000 2021\n",
      "follower_S1143155 particles have been matched twice, fixing 0\n",
      "doMatch 1000 1763\n",
      "follower_S1143155 particles have been matched twice, fixing 0\n",
      "doMatch 1000 1845\n",
      "follower_S1143155 particles have been matched twice, fixing 0\n",
      "doMatch 1000 1860\n",
      "trigger_S1145792 particles have been matched twice, fixing 0\n",
      "follower_S1143155 particles have been matched twice, fixing 0\n",
      "doMatch 1000 778\n",
      "2 matches found. Setting match coefficients to NAN\n"
     ]
    },
    {
     "name": "stderr",
     "output_type": "stream",
     "text": [
      "/home/mmaahn/miniconda3/envs/py310/lib/python3.10/site-packages/numpy/core/_methods.py:163: VisibleDeprecationWarning: Creating an ndarray from ragged nested sequences (which is a list-or-tuple of lists-or-tuples-or ndarrays with different lengths or shapes) is deprecated. If you meant to do this, you must specify 'dtype=object' when creating the ndarray.\n",
      "  arr = asanyarray(a)\n"
     ]
    },
    {
     "name": "stdout",
     "output_type": "stream",
     "text": [
      "MATCH 1 0.003761927\n",
      "ROTATE 1 phi      0.282671\n",
      "theta    0.039001\n",
      "Ofz     -1.524333\n",
      "dtype: float64\n",
      "rotation coefficients iteration 2 of 20\n",
      "slicing data into 6 pieces\n",
      "doMatch 1000 1303\n",
      "trigger_S1145792 particles have been matched twice, fixing 0\n",
      "doMatch 1000 2021\n",
      "follower_S1143155 particles have been matched twice, fixing 0\n",
      "doMatch 1000 1763\n",
      "follower_S1143155 particles have been matched twice, fixing 0\n",
      "doMatch 1000 1845\n",
      "trigger_S1145792 particles have been matched twice, fixing 0\n",
      "follower_S1143155 particles have been matched twice, fixing 0\n",
      "doMatch 1000 1860\n",
      "trigger_S1145792 particles have been matched twice, fixing 0\n",
      "follower_S1143155 particles have been matched twice, fixing 0\n",
      "doMatch 1000 778\n",
      "2 matches found. Setting match coefficients to NAN\n"
     ]
    },
    {
     "name": "stderr",
     "output_type": "stream",
     "text": [
      "/home/mmaahn/miniconda3/envs/py310/lib/python3.10/site-packages/numpy/core/_methods.py:163: VisibleDeprecationWarning: Creating an ndarray from ragged nested sequences (which is a list-or-tuple of lists-or-tuples-or ndarrays with different lengths or shapes) is deprecated. If you meant to do this, you must specify 'dtype=object' when creating the ndarray.\n",
      "  arr = asanyarray(a)\n"
     ]
    },
    {
     "name": "stdout",
     "output_type": "stream",
     "text": [
      "MATCH 2 0.003724446\n",
      "ROTATE 2 phi      0.354981\n",
      "theta    0.105987\n",
      "Ofz     -1.575169\n",
      "dtype: float64\n",
      "rotation coefficients iteration 3 of 20\n",
      "slicing data into 6 pieces\n",
      "doMatch 1000 1303\n",
      "trigger_S1145792 particles have been matched twice, fixing 0\n",
      "doMatch 1000 2021\n",
      "follower_S1143155 particles have been matched twice, fixing 0\n",
      "doMatch 1000 1763\n",
      "follower_S1143155 particles have been matched twice, fixing 0\n",
      "doMatch 1000 1845\n",
      "trigger_S1145792 particles have been matched twice, fixing 0\n",
      "follower_S1143155 particles have been matched twice, fixing 0\n",
      "doMatch 1000 1860\n",
      "trigger_S1145792 particles have been matched twice, fixing 0\n",
      "follower_S1143155 particles have been matched twice, fixing 0\n",
      "doMatch 1000 778\n",
      "2 matches found. Setting match coefficients to NAN\n"
     ]
    },
    {
     "name": "stderr",
     "output_type": "stream",
     "text": [
      "/home/mmaahn/miniconda3/envs/py310/lib/python3.10/site-packages/numpy/core/_methods.py:163: VisibleDeprecationWarning: Creating an ndarray from ragged nested sequences (which is a list-or-tuple of lists-or-tuples-or ndarrays with different lengths or shapes) is deprecated. If you meant to do this, you must specify 'dtype=object' when creating the ndarray.\n",
      "  arr = asanyarray(a)\n"
     ]
    },
    {
     "name": "stdout",
     "output_type": "stream",
     "text": [
      "MATCH 3 0.0036876055\n",
      "ROTATE 3 phi      0.410210\n",
      "theta    0.168415\n",
      "Ofz     -1.847492\n",
      "dtype: float64\n",
      "rotation coefficients iteration 4 of 20\n",
      "slicing data into 6 pieces\n",
      "doMatch 1000 1303\n",
      "trigger_S1145792 particles have been matched twice, fixing 0\n",
      "doMatch 1000 2021\n",
      "follower_S1143155 particles have been matched twice, fixing 0\n",
      "doMatch 1000 1763\n",
      "follower_S1143155 particles have been matched twice, fixing 0\n",
      "doMatch 1000 1845\n",
      "trigger_S1145792 particles have been matched twice, fixing 0\n",
      "follower_S1143155 particles have been matched twice, fixing 0\n",
      "doMatch 1000 1860\n",
      "trigger_S1145792 particles have been matched twice, fixing 0\n",
      "follower_S1143155 particles have been matched twice, fixing 0\n",
      "doMatch 1000 778\n",
      "4 matches found. Setting match coefficients to NAN\n"
     ]
    },
    {
     "name": "stderr",
     "output_type": "stream",
     "text": [
      "/home/mmaahn/miniconda3/envs/py310/lib/python3.10/site-packages/numpy/core/_methods.py:163: VisibleDeprecationWarning: Creating an ndarray from ragged nested sequences (which is a list-or-tuple of lists-or-tuples-or ndarrays with different lengths or shapes) is deprecated. If you meant to do this, you must specify 'dtype=object' when creating the ndarray.\n",
      "  arr = asanyarray(a)\n"
     ]
    },
    {
     "name": "stdout",
     "output_type": "stream",
     "text": [
      "MATCH 4 0.0035508631\n",
      "ROTATE 4 phi      0.507330\n",
      "theta    0.213597\n",
      "Ofz     -2.956888\n",
      "dtype: float64\n",
      "rotation coefficients iteration 5 of 20\n",
      "slicing data into 6 pieces\n",
      "doMatch 1000 1303\n",
      "trigger_S1145792 particles have been matched twice, fixing 0\n",
      "doMatch 1000 2021\n",
      "follower_S1143155 particles have been matched twice, fixing 0\n",
      "doMatch 1000 1763\n",
      "follower_S1143155 particles have been matched twice, fixing 0\n",
      "doMatch 1000 1845\n",
      "trigger_S1145792 particles have been matched twice, fixing 0\n",
      "follower_S1143155 particles have been matched twice, fixing 0\n",
      "doMatch 1000 1860\n",
      "trigger_S1145792 particles have been matched twice, fixing 0\n",
      "follower_S1143155 particles have been matched twice, fixing 0\n",
      "doMatch 1000 778\n",
      "4 matches found. Setting match coefficients to NAN\n"
     ]
    },
    {
     "name": "stderr",
     "output_type": "stream",
     "text": [
      "/home/mmaahn/miniconda3/envs/py310/lib/python3.10/site-packages/numpy/core/_methods.py:163: VisibleDeprecationWarning: Creating an ndarray from ragged nested sequences (which is a list-or-tuple of lists-or-tuples-or ndarrays with different lengths or shapes) is deprecated. If you meant to do this, you must specify 'dtype=object' when creating the ndarray.\n",
      "  arr = asanyarray(a)\n"
     ]
    },
    {
     "name": "stdout",
     "output_type": "stream",
     "text": [
      "MATCH 5 0.0036363858\n",
      "ROTATE 5 phi      0.581067\n",
      "theta    0.279827\n",
      "Ofz     -3.298737\n",
      "dtype: float64\n",
      "rotation coefficients iteration 6 of 20\n",
      "slicing data into 6 pieces\n",
      "doMatch 1000 1303\n",
      "trigger_S1145792 particles have been matched twice, fixing 0\n",
      "doMatch 1000 2021\n",
      "doMatch 1000 1763\n",
      "follower_S1143155 particles have been matched twice, fixing 0\n",
      "doMatch 1000 1845\n",
      "trigger_S1145792 particles have been matched twice, fixing 0\n",
      "follower_S1143155 particles have been matched twice, fixing 0\n",
      "doMatch 1000 1860\n",
      "trigger_S1145792 particles have been matched twice, fixing 0\n",
      "doMatch 1000 778\n",
      "4 matches found. Setting match coefficients to NAN\n"
     ]
    },
    {
     "name": "stderr",
     "output_type": "stream",
     "text": [
      "/home/mmaahn/miniconda3/envs/py310/lib/python3.10/site-packages/numpy/core/_methods.py:163: VisibleDeprecationWarning: Creating an ndarray from ragged nested sequences (which is a list-or-tuple of lists-or-tuples-or ndarrays with different lengths or shapes) is deprecated. If you meant to do this, you must specify 'dtype=object' when creating the ndarray.\n",
      "  arr = asanyarray(a)\n"
     ]
    },
    {
     "name": "stdout",
     "output_type": "stream",
     "text": [
      "MATCH 6 0.0034281428\n",
      "ROTATE 6 phi      0.657911\n",
      "theta    0.361057\n",
      "Ofz     -3.689198\n",
      "dtype: float64\n",
      "rotation coefficients iteration 7 of 20\n",
      "slicing data into 6 pieces\n",
      "doMatch 1000 1303\n",
      "trigger_S1145792 particles have been matched twice, fixing 0\n",
      "doMatch 1000 2021\n",
      "doMatch 1000 1763\n",
      "follower_S1143155 particles have been matched twice, fixing 0\n",
      "doMatch 1000 1845\n",
      "trigger_S1145792 particles have been matched twice, fixing 0\n",
      "follower_S1143155 particles have been matched twice, fixing 0\n",
      "doMatch 1000 1860\n",
      "trigger_S1145792 particles have been matched twice, fixing 0\n",
      "doMatch 1000 778\n",
      "4 matches found. Setting match coefficients to NAN\n"
     ]
    },
    {
     "name": "stderr",
     "output_type": "stream",
     "text": [
      "/home/mmaahn/miniconda3/envs/py310/lib/python3.10/site-packages/numpy/core/_methods.py:163: VisibleDeprecationWarning: Creating an ndarray from ragged nested sequences (which is a list-or-tuple of lists-or-tuples-or ndarrays with different lengths or shapes) is deprecated. If you meant to do this, you must specify 'dtype=object' when creating the ndarray.\n",
      "  arr = asanyarray(a)\n"
     ]
    },
    {
     "name": "stdout",
     "output_type": "stream",
     "text": [
      "MATCH 7 0.0033276556\n",
      "ROTATE 7 phi      0.694243\n",
      "theta    0.399227\n",
      "Ofz     -3.902137\n",
      "dtype: float64\n",
      "rotation coefficients iteration 8 of 20\n",
      "slicing data into 6 pieces\n",
      "doMatch 1000 1303\n",
      "trigger_S1145792 particles have been matched twice, fixing 0\n",
      "doMatch 1000 2021\n",
      "doMatch 1000 1763\n",
      "follower_S1143155 particles have been matched twice, fixing 0\n",
      "doMatch 1000 1845\n",
      "follower_S1143155 particles have been matched twice, fixing 0\n",
      "doMatch 1000 1860\n",
      "trigger_S1145792 particles have been matched twice, fixing 0\n",
      "doMatch 1000 778\n",
      "5 matches found. Setting match coefficients to NAN\n"
     ]
    },
    {
     "name": "stderr",
     "output_type": "stream",
     "text": [
      "/home/mmaahn/miniconda3/envs/py310/lib/python3.10/site-packages/numpy/core/_methods.py:163: VisibleDeprecationWarning: Creating an ndarray from ragged nested sequences (which is a list-or-tuple of lists-or-tuples-or ndarrays with different lengths or shapes) is deprecated. If you meant to do this, you must specify 'dtype=object' when creating the ndarray.\n",
      "  arr = asanyarray(a)\n"
     ]
    },
    {
     "name": "stdout",
     "output_type": "stream",
     "text": [
      "MATCH 8 0.0033280174\n",
      "ROTATE 8 phi      0.715316\n",
      "theta    0.422278\n",
      "Ofz     -4.022007\n",
      "dtype: float64\n",
      "rotation coefficients iteration 9 of 20\n",
      "slicing data into 6 pieces\n",
      "doMatch 1000 1303\n",
      "trigger_S1145792 particles have been matched twice, fixing 0\n",
      "doMatch 1000 2021\n",
      "doMatch 1000 1763\n",
      "follower_S1143155 particles have been matched twice, fixing 0\n",
      "doMatch 1000 1845\n",
      "follower_S1143155 particles have been matched twice, fixing 0\n",
      "doMatch 1000 1860\n",
      "trigger_S1145792 particles have been matched twice, fixing 0\n",
      "doMatch 1000 778\n",
      "5 matches found. Setting match coefficients to NAN\n"
     ]
    },
    {
     "name": "stderr",
     "output_type": "stream",
     "text": [
      "/home/mmaahn/miniconda3/envs/py310/lib/python3.10/site-packages/numpy/core/_methods.py:163: VisibleDeprecationWarning: Creating an ndarray from ragged nested sequences (which is a list-or-tuple of lists-or-tuples-or ndarrays with different lengths or shapes) is deprecated. If you meant to do this, you must specify 'dtype=object' when creating the ndarray.\n",
      "  arr = asanyarray(a)\n"
     ]
    },
    {
     "name": "stdout",
     "output_type": "stream",
     "text": [
      "MATCH 9 0.0033552917\n",
      "ROTATE 9 phi      0.727849\n",
      "theta    0.424209\n",
      "Ofz     -4.216441\n",
      "dtype: float64\n",
      "interupting loop\n",
      "phi      0.727849\n",
      "theta    0.424209\n",
      "Ofz     -4.216441\n",
      "dtype: float64\n"
     ]
    }
   ],
   "source": [
    "fout, matchedDat, rot, rot_err = VISSSlib.matching.matchParticles(fname1L, config, rotationOnly=True, rotate=rotate_default, rotate_err=rotate_err_default, maxDiffMs=3.6, nPoints=500)\n"
   ]
  },
  {
   "cell_type": "code",
   "execution_count": 12,
   "id": "558021b8",
   "metadata": {},
   "outputs": [
    {
     "data": {
      "text/plain": [
       "(phi      0.727849\n",
       " theta    0.424209\n",
       " Ofz     -4.216441\n",
       " dtype: float64,\n",
       " phi      0.023061\n",
       " theta    0.021776\n",
       " Ofz      0.338757\n",
       " dtype: float64)"
      ]
     },
     "execution_count": 12,
     "metadata": {},
     "output_type": "execute_result"
    }
   ],
   "source": [
    "rot, rot_err"
   ]
  },
  {
   "cell_type": "code",
   "execution_count": 13,
   "id": "6a50c91b",
   "metadata": {},
   "outputs": [
    {
     "name": "stdout",
     "output_type": "stream",
     "text": [
      "opening /projekt4/ag_maahn/data_obs_nobackup/hyytiala/visss/level1detect/2022/04/02/level1detect_V20220521_hyytiala_visss_visss_trigger_S1145792_20220402-223000.nc\n",
      "captureIdOverflows: expecting 1 jumps, found and fixed 1 jumps\n",
      "take default values for previous rotation\n",
      "opening ['/projekt4/ag_maahn/data_obs_nobackup/hyytiala/visss/level1detect/2022/04/02/level1detect_V20220521_hyytiala_visss_visss_follower_S1143155_20220402-223000.nc']\n",
      "captureIdOverflows: expecting 1 jumps, found and fixed 1 jumps\n",
      "making follower times even\n",
      "0 of 1 slice for follower restart 2022-04-02T22:30:00.085472000 2022-04-02T22:39:59.997470000\n",
      "using 400 of 500\n",
      "estimateCaptureIdDiff statistic: {-19: 400}\n",
      "capture_id determined -19, 100.0% have the same value\n",
      "rotation coefficients iteration 0 of 20\n",
      "slicing data into 6 pieces\n",
      "doMatch 1000 1303\n",
      "trigger_S1145792 particles have been matched twice, fixing 0\n",
      "doMatch 1000 2021\n",
      "doMatch 1000 1763\n",
      "follower_S1143155 particles have been matched twice, fixing 0\n",
      "doMatch 1000 1845\n",
      "follower_S1143155 particles have been matched twice, fixing 0\n",
      "doMatch 1000 1860\n",
      "trigger_S1145792 particles have been matched twice, fixing 0\n",
      "doMatch 1000 778\n",
      "5 matches found. Setting match coefficients to NAN\n"
     ]
    },
    {
     "name": "stderr",
     "output_type": "stream",
     "text": [
      "/home/mmaahn/miniconda3/envs/py310/lib/python3.10/site-packages/numpy/core/_methods.py:163: VisibleDeprecationWarning: Creating an ndarray from ragged nested sequences (which is a list-or-tuple of lists-or-tuples-or ndarrays with different lengths or shapes) is deprecated. If you meant to do this, you must specify 'dtype=object' when creating the ndarray.\n",
      "  arr = asanyarray(a)\n"
     ]
    },
    {
     "name": "stdout",
     "output_type": "stream",
     "text": [
      "MATCH 0 0.0034055326\n",
      "ROTATE 0 phi      0.744757\n",
      "theta    0.422929\n",
      "Ofz     -4.486917\n",
      "dtype: float64\n",
      "rotation coefficients iteration 1 of 20\n",
      "slicing data into 6 pieces\n",
      "doMatch 1000 1303\n",
      "trigger_S1145792 particles have been matched twice, fixing 0\n",
      "doMatch 1000 2021\n",
      "doMatch 1000 1763\n",
      "follower_S1143155 particles have been matched twice, fixing 0\n",
      "doMatch 1000 1845\n",
      "follower_S1143155 particles have been matched twice, fixing 0\n",
      "doMatch 1000 1860\n",
      "trigger_S1145792 particles have been matched twice, fixing 0\n",
      "doMatch 1000 778\n",
      "4 matches found. Setting match coefficients to NAN\n"
     ]
    },
    {
     "name": "stderr",
     "output_type": "stream",
     "text": [
      "/home/mmaahn/miniconda3/envs/py310/lib/python3.10/site-packages/numpy/core/_methods.py:163: VisibleDeprecationWarning: Creating an ndarray from ragged nested sequences (which is a list-or-tuple of lists-or-tuples-or ndarrays with different lengths or shapes) is deprecated. If you meant to do this, you must specify 'dtype=object' when creating the ndarray.\n",
      "  arr = asanyarray(a)\n"
     ]
    },
    {
     "name": "stdout",
     "output_type": "stream",
     "text": [
      "MATCH 1 0.0034598205\n",
      "ROTATE 1 phi      0.757745\n",
      "theta    0.406439\n",
      "Ofz     -4.878857\n",
      "dtype: float64\n",
      "rotation coefficients iteration 2 of 20\n",
      "slicing data into 6 pieces\n",
      "doMatch 1000 1303\n",
      "trigger_S1145792 particles have been matched twice, fixing 0\n",
      "doMatch 1000 2021\n",
      "doMatch 1000 1763\n",
      "follower_S1143155 particles have been matched twice, fixing 0\n",
      "doMatch 1000 1845\n",
      "follower_S1143155 particles have been matched twice, fixing 0\n",
      "doMatch 1000 1860\n",
      "trigger_S1145792 particles have been matched twice, fixing 0\n",
      "doMatch 1000 778\n",
      "4 matches found. Setting match coefficients to NAN\n"
     ]
    },
    {
     "name": "stderr",
     "output_type": "stream",
     "text": [
      "/home/mmaahn/miniconda3/envs/py310/lib/python3.10/site-packages/numpy/core/_methods.py:163: VisibleDeprecationWarning: Creating an ndarray from ragged nested sequences (which is a list-or-tuple of lists-or-tuples-or ndarrays with different lengths or shapes) is deprecated. If you meant to do this, you must specify 'dtype=object' when creating the ndarray.\n",
      "  arr = asanyarray(a)\n"
     ]
    },
    {
     "name": "stdout",
     "output_type": "stream",
     "text": [
      "MATCH 2 0.0035025869\n",
      "ROTATE 2 phi      0.758019\n",
      "theta    0.406142\n",
      "Ofz     -4.885635\n",
      "dtype: float64\n",
      "interupting loop\n",
      "phi      0.758019\n",
      "theta    0.406142\n",
      "Ofz     -4.885635\n",
      "dtype: float64\n"
     ]
    },
    {
     "data": {
      "text/plain": [
       "(phi      0.758019\n",
       " theta    0.406142\n",
       " Ofz     -4.885635\n",
       " dtype: float64,\n",
       " phi      0.023319\n",
       " theta    0.021945\n",
       " Ofz      0.347498\n",
       " dtype: float64)"
      ]
     },
     "execution_count": 13,
     "metadata": {},
     "output_type": "execute_result"
    }
   ],
   "source": [
    "fout, matchedDat, rot2, rot_err2 = VISSSlib.matching.matchParticles(fname1L, config, rotationOnly=True, rotate=rot, rotate_err=rot_err, maxDiffMs=3.6, nPoints=500)\n",
    "rot2, rot_err2"
   ]
  },
  {
   "cell_type": "code",
   "execution_count": 14,
   "id": "f997b040",
   "metadata": {},
   "outputs": [
    {
     "name": "stdout",
     "output_type": "stream",
     "text": [
      "opening /projekt4/ag_maahn/data_obs_nobackup/hyytiala/visss/level1detect/2022/04/02/level1detect_V20220521_hyytiala_visss_visss_trigger_S1145792_20220402-223000.nc\n",
      "captureIdOverflows: expecting 1 jumps, found and fixed 1 jumps\n",
      "take default values for previous rotation\n",
      "opening ['/projekt4/ag_maahn/data_obs_nobackup/hyytiala/visss/level1detect/2022/04/02/level1detect_V20220521_hyytiala_visss_visss_follower_S1143155_20220402-223000.nc']\n",
      "captureIdOverflows: expecting 1 jumps, found and fixed 1 jumps\n",
      "making follower times even\n",
      "0 of 1 slice for follower restart 2022-04-02T22:30:00.085472000 2022-04-02T22:39:59.997470000\n",
      "using 400 of 500\n",
      "estimateCaptureIdDiff statistic: {-19: 400}\n",
      "capture_id determined -19, 100.0% have the same value\n",
      "rotation coefficients iteration 0 of 20\n",
      "slicing data into 6 pieces\n",
      "doMatch 1000 1303\n",
      "trigger_S1145792 particles have been matched twice, fixing 0\n",
      "doMatch 1000 2021\n",
      "doMatch 1000 1763\n",
      "follower_S1143155 particles have been matched twice, fixing 0\n",
      "doMatch 1000 1845\n",
      "follower_S1143155 particles have been matched twice, fixing 0\n",
      "doMatch 1000 1860\n",
      "trigger_S1145792 particles have been matched twice, fixing 0\n",
      "doMatch 1000 778\n",
      "4 matches found. Setting match coefficients to NAN\n"
     ]
    },
    {
     "name": "stderr",
     "output_type": "stream",
     "text": [
      "/home/mmaahn/miniconda3/envs/py310/lib/python3.10/site-packages/numpy/core/_methods.py:163: VisibleDeprecationWarning: Creating an ndarray from ragged nested sequences (which is a list-or-tuple of lists-or-tuples-or ndarrays with different lengths or shapes) is deprecated. If you meant to do this, you must specify 'dtype=object' when creating the ndarray.\n",
      "  arr = asanyarray(a)\n"
     ]
    },
    {
     "name": "stdout",
     "output_type": "stream",
     "text": [
      "MATCH 0 0.0035029321\n",
      "ROTATE 0 phi      0.758024\n",
      "theta    0.406137\n",
      "Ofz     -4.885755\n",
      "dtype: float64\n",
      "rotation coefficients iteration 1 of 20\n",
      "slicing data into 6 pieces\n",
      "doMatch 1000 1303\n",
      "trigger_S1145792 particles have been matched twice, fixing 0\n",
      "doMatch 1000 2021\n",
      "doMatch 1000 1763\n",
      "follower_S1143155 particles have been matched twice, fixing 0\n",
      "doMatch 1000 1845\n",
      "follower_S1143155 particles have been matched twice, fixing 0\n",
      "doMatch 1000 1860\n",
      "trigger_S1145792 particles have been matched twice, fixing 0\n",
      "doMatch 1000 778\n",
      "4 matches found. Setting match coefficients to NAN\n"
     ]
    },
    {
     "name": "stderr",
     "output_type": "stream",
     "text": [
      "/home/mmaahn/miniconda3/envs/py310/lib/python3.10/site-packages/numpy/core/_methods.py:163: VisibleDeprecationWarning: Creating an ndarray from ragged nested sequences (which is a list-or-tuple of lists-or-tuples-or ndarrays with different lengths or shapes) is deprecated. If you meant to do this, you must specify 'dtype=object' when creating the ndarray.\n",
      "  arr = asanyarray(a)\n"
     ]
    },
    {
     "name": "stdout",
     "output_type": "stream",
     "text": [
      "MATCH 1 0.0035029377\n",
      "ROTATE 1 phi      0.758024\n",
      "theta    0.406137\n",
      "Ofz     -4.885757\n",
      "dtype: float64\n",
      "interupting loop\n",
      "phi      0.758024\n",
      "theta    0.406137\n",
      "Ofz     -4.885757\n",
      "dtype: float64\n"
     ]
    }
   ],
   "source": [
    "fout, matchedDat, rot3, rot_err3 = VISSSlib.matching.matchParticles(fname1L, config, rotationOnly=True, rotate=rot2, rotate_err=rot_err2, maxDiffMs=3.6, nPoints=500)\n"
   ]
  },
  {
   "cell_type": "code",
   "execution_count": 24,
   "id": "feede4b0",
   "metadata": {},
   "outputs": [
    {
     "name": "stdout",
     "output_type": "stream",
     "text": [
      "rotate:\n",
      "  Ofz: -4.885757\n",
      "  phi: 0.758024\n",
      "  theta: 0.406137\n",
      "rotate_err:\n",
      "  Ofz: 0.347499\n",
      "  phi: 0.023319\n",
      "  theta: 0.021945\n",
      "\n"
     ]
    }
   ],
   "source": [
    "print(yaml.dump({\"rotate\":rot3.round(6).to_dict(), \"rotate_err\": rot_err3.round(6).to_dict()}))"
   ]
  },
  {
   "cell_type": "code",
   "execution_count": 19,
   "id": "0b5df971",
   "metadata": {},
   "outputs": [
    {
     "name": "stdout",
     "output_type": "stream",
     "text": [
      "Ofz: 0.347499\n",
      "phi: 0.023319\n",
      "theta: 0.021945\n",
      "\n"
     ]
    }
   ],
   "source": [
    "print()"
   ]
  },
  {
   "cell_type": "code",
   "execution_count": null,
   "id": "d32722cf",
   "metadata": {},
   "outputs": [],
   "source": []
  }
 ],
 "metadata": {
  "kernelspec": {
   "display_name": "py310",
   "language": "python",
   "name": "py310"
  },
  "language_info": {
   "codemirror_mode": {
    "name": "ipython",
    "version": 3
   },
   "file_extension": ".py",
   "mimetype": "text/x-python",
   "name": "python",
   "nbconvert_exporter": "python",
   "pygments_lexer": "ipython3",
   "version": "3.10.5"
  },
  "notify_time": "5",
  "toc": {
   "base_numbering": 1,
   "nav_menu": {},
   "number_sections": true,
   "sideBar": true,
   "skip_h1_title": false,
   "title_cell": "Table of Contents",
   "title_sidebar": "Contents",
   "toc_cell": false,
   "toc_position": {
    "height": "calc(100% - 180px)",
    "left": "10px",
    "top": "150px",
    "width": "165px"
   },
   "toc_section_display": true,
   "toc_window_display": true
  }
 },
 "nbformat": 4,
 "nbformat_minor": 5
}

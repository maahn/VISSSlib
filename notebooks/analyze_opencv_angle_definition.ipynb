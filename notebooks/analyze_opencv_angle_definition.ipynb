{
 "cells": [
  {
   "cell_type": "markdown",
   "id": "ff3f98bf",
   "metadata": {},
   "source": [
    "Script to devlop/run events file product"
   ]
  },
  {
   "cell_type": "markdown",
   "id": "65733b1b",
   "metadata": {},
   "source": []
  },
  {
   "cell_type": "markdown",
   "id": "0f2e9aad",
   "metadata": {},
   "source": [
    "    python -m VISSSlib detection.detectParticles  {fname} {settings}"
   ]
  },
  {
   "cell_type": "code",
   "execution_count": 1,
   "id": "99b0abf8",
   "metadata": {},
   "outputs": [],
   "source": [
    "import importlib\n",
    "import cv2\n",
    "import numpy as np\n",
    "import matplotlib.pyplot as plt\n",
    "\n",
    "from PIL import Image"
   ]
  },
  {
   "cell_type": "code",
   "execution_count": 2,
   "id": "5786b89d",
   "metadata": {},
   "outputs": [
    {
     "data": {
      "text/plain": [
       "'4.6.0'"
      ]
     },
     "execution_count": 2,
     "metadata": {},
     "output_type": "execute_result"
    }
   ],
   "source": [
    "cv2.__version__"
   ]
  },
  {
   "cell_type": "code",
   "execution_count": 3,
   "id": "8df1a628",
   "metadata": {},
   "outputs": [
    {
     "name": "stdout",
     "output_type": "stream",
     "text": [
      "((135.0, 115.0), (10.0, 50.0), 90.0)\n",
      "0.0\n"
     ]
    },
    {
     "data": {
      "image/png": "[encoded data removed]",
      "text/plain": [
       "<PIL.Image.Image image mode=RGB size=200x200>"
      ]
     },
     "execution_count": 3,
     "metadata": {},
     "output_type": "execute_result"
    }
   ],
   "source": [
    "frame = np.ones((200,200, 3), dtype=np.uint8) + 254\n",
    "\n",
    "cnts = np.array([[10, 10], [10,20], [60, 20], [60, 10]])+100\n",
    "\n",
    "cv2.drawContours(frame, [cnts],0,np.array(100) * 2/3,1)\n",
    "\n",
    "rect = cv2.minAreaRect(cnts)\n",
    "print(rect)\n",
    "\n",
    "angle = rect[2]\n",
    "if rect[1][1] > rect[1][0]:\n",
    "    angle = angle -90\n",
    "\n",
    "print(angle)\n",
    "\n",
    "Image.fromarray(frame)\n"
   ]
  },
  {
   "cell_type": "code",
   "execution_count": 4,
   "id": "f33d31b2",
   "metadata": {},
   "outputs": [
    {
     "name": "stdout",
     "output_type": "stream",
     "text": [
      "((140.0, 109.99999237060547), (11.766969680786133, 58.834842681884766), 78.69007110595703)\n",
      "-11.309928894042969\n"
     ]
    },
    {
     "data": {
      "image/png": "[encoded data removed]",
      "text/plain": [
       "<PIL.Image.Image image mode=RGB size=200x200>"
      ]
     },
     "execution_count": 4,
     "metadata": {},
     "output_type": "execute_result"
    }
   ],
   "source": [
    "frame = np.ones((200,200, 3), dtype=np.uint8) + 254\n",
    "\n",
    "cnts = np.array([[10, 10], [20,20], [70, 10], [60, 0]])+100\n",
    "\n",
    "cv2.drawContours(frame, [cnts],0,np.array(100) * 2/3,1)\n",
    "\n",
    "rect = cv2.minAreaRect(cnts)\n",
    "print(rect)\n",
    "\n",
    "angle = rect[2]\n",
    "if rect[1][1] > rect[1][0]:\n",
    "    angle = angle -90\n",
    "\n",
    "print(angle)\n",
    "\n",
    "Image.fromarray(frame)\n"
   ]
  },
  {
   "cell_type": "code",
   "execution_count": 5,
   "id": "dbdfdf82",
   "metadata": {},
   "outputs": [
    {
     "name": "stdout",
     "output_type": "stream",
     "text": [
      "((115.0, 135.0), (50.0, 10.0), 90.0)\n",
      "90.0\n"
     ]
    },
    {
     "data": {
      "image/png": "[encoded data removed]",
      "text/plain": [
       "<PIL.Image.Image image mode=RGB size=200x200>"
      ]
     },
     "execution_count": 5,
     "metadata": {},
     "output_type": "execute_result"
    }
   ],
   "source": [
    "frame = np.ones((200,200, 3), dtype=np.uint8) + 254\n",
    "\n",
    "cnts = np.array([[10, 10], [20,10], [20, 60], [10, 60]])+100\n",
    "\n",
    "cv2.drawContours(frame, [cnts],0,np.array(100) * 2/3,1)\n",
    "\n",
    "rect = cv2.minAreaRect(cnts)\n",
    "print(rect)\n",
    "\n",
    "angle = rect[2]\n",
    "if rect[1][1] > rect[1][0]:\n",
    "    angle = angle -90\n",
    "\n",
    "print(angle)\n",
    "\n",
    "Image.fromarray(frame)\n"
   ]
  },
  {
   "cell_type": "code",
   "execution_count": 6,
   "id": "637ee654",
   "metadata": {},
   "outputs": [
    {
     "name": "stdout",
     "output_type": "stream",
     "text": [
      "((120.0, 130.0), (58.834842681884766, 11.766969680786133), 78.69007110595703)\n",
      "78.69007110595703\n"
     ]
    },
    {
     "data": {
      "image/png": "[encoded data removed]",
      "text/plain": [
       "<PIL.Image.Image image mode=RGB size=200x200>"
      ]
     },
     "execution_count": 6,
     "metadata": {},
     "output_type": "execute_result"
    }
   ],
   "source": [
    "frame = np.ones((200,200, 3), dtype=np.uint8) + 254\n",
    "\n",
    "cnts = np.array([[10, 10], [20,0], [30, 50], [20, 60]])+100\n",
    "\n",
    "cv2.drawContours(frame, [cnts],0,np.array(100) * 2/3,1)\n",
    "\n",
    "rect = cv2.minAreaRect(cnts)\n",
    "print(rect)\n",
    "\n",
    "angle = rect[2]\n",
    "if rect[1][1] > rect[1][0]:\n",
    "    angle = angle -90\n",
    "\n",
    "print(angle)\n",
    "\n",
    "Image.fromarray(frame)\n"
   ]
  },
  {
   "cell_type": "code",
   "execution_count": null,
   "id": "f517ac90",
   "metadata": {},
   "outputs": [],
   "source": []
  },
  {
   "cell_type": "code",
   "execution_count": null,
   "id": "25c36576",
   "metadata": {},
   "outputs": [],
   "source": []
  },
  {
   "cell_type": "code",
   "execution_count": null,
   "id": "5e84655c",
   "metadata": {},
   "outputs": [],
   "source": []
  },
  {
   "cell_type": "code",
   "execution_count": null,
   "id": "6888d681",
   "metadata": {},
   "outputs": [],
   "source": []
  }
 ],
 "metadata": {
  "kernelspec": {
   "display_name": "Python [conda env:py310]",
   "language": "python",
   "name": "conda-env-py310-py"
  },
  "language_info": {
   "codemirror_mode": {
    "name": "ipython",
    "version": 3
   },
   "file_extension": ".py",
   "mimetype": "text/x-python",
   "name": "python",
   "nbconvert_exporter": "python",
   "pygments_lexer": "ipython3",
   "version": "3.10.5"
  },
  "toc": {
   "base_numbering": 1,
   "nav_menu": {},
   "number_sections": true,
   "sideBar": true,
   "skip_h1_title": false,
   "title_cell": "Table of Contents",
   "title_sidebar": "Contents",
   "toc_cell": false,
   "toc_position": {
    "height": "781.45px",
    "left": "36px",
    "top": "111.483px",
    "width": "318.2px"
   },
   "toc_section_display": true,
   "toc_window_display": false
  }
 },
 "nbformat": 4,
 "nbformat_minor": 5
}

{
 "cells": [
  {
   "cell_type": "code",
   "execution_count": null,
   "id": "7e550ddd-e8df-4678-86bf-f7124715201e",
   "metadata": {},
   "outputs": [],
   "source": [
    "import VISSSlib\n",
    "VISSSlib.__version__"
   ]
  },
  {
   "cell_type": "code",
   "execution_count": null,
   "id": "e71e37fd-eb15-4d1e-842e-fe28e354ddcb",
   "metadata": {},
   "outputs": [],
   "source": []
  }
 ],
 "metadata": {
  "kernelspec": {
   "display_name": "Python [conda env:py312]",
   "language": "python",
   "name": "conda-env-py312-py"
  },
  "language_info": {
   "codemirror_mode": {
    "name": "ipython",
    "version": 3
   },
   "file_extension": ".py",
   "mimetype": "text/x-python",
   "name": "python",
   "nbconvert_exporter": "python",
   "pygments_lexer": "ipython3",
   "version": "3.12.2"
  }
 },
 "nbformat": 4,
 "nbformat_minor": 5
}

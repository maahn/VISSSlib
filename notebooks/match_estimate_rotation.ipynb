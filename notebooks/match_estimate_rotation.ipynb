{
 "cells": [
  {
   "cell_type": "code",
   "execution_count": 1,
   "id": "38b95793",
   "metadata": {
    "ExecuteTime": {
     "end_time": "2022-12-07T15:02:45.824558Z",
     "start_time": "2022-12-07T15:02:43.261011Z"
    }
   },
   "outputs": [],
   "source": [
    "import VISSSlib\n",
    "import yaml\n",
    "import matplotlib.pyplot as plt\n",
    "import numpy as np\n",
    "import pandas as pd"
   ]
  },
  {
   "cell_type": "code",
   "execution_count": null,
   "id": "bc9e8334",
   "metadata": {},
   "outputs": [],
   "source": []
  },
  {
   "cell_type": "code",
   "execution_count": 2,
   "id": "1cbf536c",
   "metadata": {
    "ExecuteTime": {
     "end_time": "2022-12-07T15:36:29.689820Z",
     "start_time": "2022-12-07T15:36:29.686162Z"
    }
   },
   "outputs": [],
   "source": [
    "settings = \"/projekt1//ag_maahn/VISSS_config/hyytiala_v1.yaml\"\n",
    "case = \"20211221-000000\"\n",
    "case = \"20220117-070000\"\n",
    "case = \"20220225-090000\"\n",
    "case = \"20220404-000000\"\n",
    "settings = \"/projekt1//ag_maahn/VISSS_config/sail_v1.yaml\"; case = \"20221106-2000\"\n",
    "settings = \"/projekt1//ag_maahn/VISSS_config/sail_v1.yaml\"; case = \"20221114-151000\" #backlight adjusted\n",
    "settings = \"/projekt1//ag_maahn/VISSS_config/sail_v1.yaml\"; case = \"20230120-180000\" #snow removal\n",
    "settings = \"/projekt1//ag_maahn/VISSS_config/nyaalesund_v4.yaml\"; case = \"20221231-073000\"\n",
    "settings = \"/projekt1//ag_maahn/VISSS_config/hyytiala_v1.yaml\"; case = \"20210924-2100\" #rain?\n",
    "settings = \"/projekt1//ag_maahn/VISSS_config/hyytiala_v1.yaml\"; case = \"20210909-1100\" #rain?\n",
    "#settings = \"/projekt1//ag_maahn/VISSS_config/sail_v1.yaml\"; case = \"20230213-200000\" #backlight adjusted\n",
    "settings = \"/projekt1//ag_maahn/VISSS_config/nyaalesund_v3.yaml\"; case = \"20220504-183000\"\n",
    "settings = \"/projekt1//ag_maahn/VISSS_config/nyaalesund_v4.yaml\"; case = \"20230120-210000\"\n",
    "settings = \"/projekt1//ag_maahn/VISSS_config/sail_v1.yaml\"; case = \"20230414-064000\"\n",
    "\n",
    "version='2023.1.6'\n",
    "\n"
   ]
  },
  {
   "cell_type": "code",
   "execution_count": null,
   "id": "1ad624cf",
   "metadata": {},
   "outputs": [],
   "source": []
  },
  {
   "cell_type": "code",
   "execution_count": null,
   "id": "6adfad17",
   "metadata": {},
   "outputs": [],
   "source": []
  },
  {
   "cell_type": "code",
   "execution_count": 3,
   "id": "805b7caf",
   "metadata": {
    "ExecuteTime": {
     "end_time": "2022-12-07T15:36:29.870037Z",
     "start_time": "2022-12-07T15:36:29.860770Z"
    }
   },
   "outputs": [
    {
     "data": {
      "text/plain": [
       "<module 'VISSSlib.tools' from '/home/mmaahn/projectsSrv/VISSSlib/src/VISSSlib/tools.py'>"
      ]
     },
     "execution_count": 3,
     "metadata": {},
     "output_type": "execute_result"
    }
   ],
   "source": [
    "\n",
    "from importlib import reload\n",
    "reload(VISSSlib.matching)\n",
    "reload(VISSSlib.fixes)\n",
    "reload(VISSSlib.tools)"
   ]
  },
  {
   "cell_type": "code",
   "execution_count": 4,
   "id": "9d8616d3",
   "metadata": {
    "ExecuteTime": {
     "end_time": "2022-12-07T15:36:30.041564Z",
     "start_time": "2022-12-07T15:36:30.027432Z"
    }
   },
   "outputs": [],
   "source": [
    "config = VISSSlib.tools.readSettings(settings)\n",
    "fl = VISSSlib.files.FindFiles(case, config.leader, config)\n",
    "fname1L = fl.listFiles(\"level1detect\")[0]\n",
    "fname1Match = VISSSlib.files.FilenamesFromLevel(fname1L, config).fname[\"level1match\"]"
   ]
  },
  {
   "cell_type": "code",
   "execution_count": 5,
   "id": "851e7b56",
   "metadata": {
    "ExecuteTime": {
     "end_time": "2022-12-07T15:36:30.207856Z",
     "start_time": "2022-12-07T15:36:30.204228Z"
    }
   },
   "outputs": [],
   "source": [
    "rotate_default = pd.Series({\n",
    "    \"camera_phi\": 0.0, #zero is unstable!\n",
    "    \"camera_theta\": 0.0, #zero is unstable!\n",
    "#     \"psi\": 0.0, #zero is unstable!\n",
    "#     \"Of_y\": 0.0, #zero is unstable!\n",
    "    \"camera_Ofz\": 0.0, #zero is unstable!\n",
    "#     \"Ol_x\": 0.0, #zero is unstable!\n",
    "})\n",
    "# \n",
    "rotate_err_default = pd.Series({\n",
    "    \"camera_phi\":  5,\n",
    "    \"camera_theta\":  5,\n",
    "#     \"psi\": .1,\n",
    "#     \"Of_y\": 50, \n",
    "    \"camera_Ofz\": 50, \n",
    "#     \"Ol_x\":50, #zero is unstable!\n",
    "})"
   ]
  },
  {
   "cell_type": "code",
   "execution_count": 6,
   "id": "3a3c5f98",
   "metadata": {},
   "outputs": [],
   "source": [
    "#rotate_default = pd.Series(config.rotate['20221105-0000'][\"transformation\"])\n",
    "#rotate_err_default = pd.Series(config.rotate['20221105-0000'][\"transformation_err\"])"
   ]
  },
  {
   "cell_type": "markdown",
   "id": "1c1ec73f",
   "metadata": {},
   "source": [
    "## in the first step, use only large particles and do not use Z difference at all!\n",
    "\n",
    "set minDMax4rot so that matched twice does appear not that often\n",
    "\n",
    "do not choose a case where more than one particle is seen at the sma etime - filter this data ??"
   ]
  },
  {
   "cell_type": "code",
   "execution_count": 7,
   "id": "b59d6dcf",
   "metadata": {
    "ExecuteTime": {
     "end_time": "2022-12-07T15:37:14.934524Z",
     "start_time": "2022-12-07T15:36:33.134186Z"
    },
    "scrolled": false
   },
   "outputs": [
    {
     "name": "stdout",
     "output_type": "stream",
     "text": [
      "2023-05-05 16:43:45,104: INFO: VISSSlib.matching.matchParticles: opening /projekt6/ag_maahn/data_obs_nobackup/sail/visss_2023.1.6/level1detect/2023/04/14/level1detect_V2023.1.6_sail_visss01_visss_leader_S1145792_20230414-064000.nc\n",
      "open_mflevel1detect /projekt6/ag_maahn/data_obs_nobackup/sail/visss_2023.1.6/level1detect/2023/04/14/level1detect_V2023.1.6_sail_visss01_visss_leader_S1145792_20230414-064000.nc\n",
      "2023-05-05 16:43:45,953: INFO: VISSSlib.matching.matchParticles: 9932\n",
      "2023-05-05 16:43:46,085: INFO: VISSSlib.matching.matchParticles: opening ['/projekt6/ag_maahn/data_obs_nobackup/sail/visss_2023.1.6/level1detect/2023/04/14/level1detect_V2023.1.6_sail_visss01_visss_follower_S1143155_20230414-063959.nc', '/projekt6/ag_maahn/data_obs_nobackup/sail/visss_2023.1.6/level1detect/2023/04/14/level1detect_V2023.1.6_sail_visss01_visss_follower_S1143155_20230414-064959.nc']\n"
     ]
    },
    {
     "name": "stderr",
     "output_type": "stream",
     "text": [
      "/home/mmaahn/miniconda3/envs/py311/lib/python3.11/site-packages/xarray/coding/times.py:251: RuntimeWarning: invalid value encountered in cast\n",
      "  flat_num_dates_ns_int = (flat_num_dates * _NS_PER_TIME_DELTA[delta]).astype(\n",
      "/home/mmaahn/miniconda3/envs/py311/lib/python3.11/site-packages/xarray/coding/times.py:251: RuntimeWarning: invalid value encountered in cast\n",
      "  flat_num_dates_ns_int = (flat_num_dates * _NS_PER_TIME_DELTA[delta]).astype(\n",
      "/home/mmaahn/miniconda3/envs/py311/lib/python3.11/site-packages/xarray/coding/times.py:251: RuntimeWarning: invalid value encountered in cast\n",
      "  flat_num_dates_ns_int = (flat_num_dates * _NS_PER_TIME_DELTA[delta]).astype(\n"
     ]
    },
    {
     "name": "stdout",
     "output_type": "stream",
     "text": [
      "open_mflevel1detect /projekt6/ag_maahn/data_obs_nobackup/sail/visss_2023.1.6/level1detect/2023/04/14/level1detect_V2023.1.6_sail_visss01_visss_follower_S1143155_20230414-063959.nc\n",
      "open_mflevel1detect /projekt6/ag_maahn/data_obs_nobackup/sail/visss_2023.1.6/level1detect/2023/04/14/level1detect_V2023.1.6_sail_visss01_visss_follower_S1143155_20230414-064959.nc\n",
      "2023-05-05 16:43:46,403: INFO: VISSSlib.matching.matchParticles: 1 of 2 slice for follower restart 2023-04-14T06:40:00.256617000 2023-04-14T06:49:50.707711000\n",
      "using 474 of 1000\n",
      "estimateCaptureIdDiff statistic: {-207768112: 389, -207768113: 71, -207768114: 14} capture_time\n",
      "capture_id determined -207768112, 82.0675105485232% have the same value\n",
      "using 540 of 1000\n",
      "estimateCaptureIdDiff statistic: {-207768112: 540} record_time\n",
      "capture_id determined -207768112, 100.0% have the same value\n",
      "2023-05-05 16:43:49,338: INFO: VISSSlib.matching.matchParticles: Taking offset from record_time (-207768112, 540) intead of capture_time (-207768112, 474)\n",
      "2023-05-05 16:43:49,340: INFO: VISSSlib.matching.matchParticles: DMax filter leader: 10 35.85380587998389 %\n",
      "2023-05-05 16:43:49,346: INFO: VISSSlib.matching.matchParticles: DMax filter follower: 10 37.53201396973225 %\n",
      "2023-05-05 16:43:49,356: INFO: VISSSlib.matching.matchParticles: rotation coefficients iteration 0 of 20\n",
      "2.52 s, iteration 1, degrees of freedom: 3.00 of 3, not converged (x-space):  162.284\n",
      "4.25 s, iteration 2, degrees of freedom: 3.00 of 3, not converged (x-space):  3.404\n",
      "6.30 s, iteration 3, degrees of freedom: 3.00 of 3, converged (x-space):  0.007\n",
      "6.98 s, iteration 4, degrees of freedom: 3.00 of 3, done.  0.000\n",
      "2023-05-05 16:43:59,679: INFO: VISSSlib.matching.matchParticles: MATCH 0 0.19080316\n",
      "2023-05-05 16:43:59,686: INFO: VISSSlib.matching.matchParticles: ROTATE 0 \n",
      " camera_phi       1.970397\n",
      "camera_theta     1.103546\n",
      "camera_Ofz     -83.525129\n",
      "dtype: float64 \n",
      " error \n",
      " camera_phi      0.016594\n",
      "camera_theta    0.014979\n",
      "camera_Ofz      0.254030\n",
      "dtype: float64 \n",
      " dgf \n",
      " camera_phi      1.0\n",
      "camera_theta    1.0\n",
      "camera_Ofz      1.0\n",
      "dtype: float64\n",
      "2023-05-05 16:43:59,688: INFO: VISSSlib.matching.matchParticles: rotation coefficients iteration 1 of 20\n",
      "2.93 s, iteration 1, degrees of freedom: 2.97 of 3, not converged (x-space):  2.526\n",
      "5.22 s, iteration 2, degrees of freedom: 2.97 of 3, converged (x-space):  0.017\n",
      "6.55 s, iteration 3, degrees of freedom: 2.97 of 3, done.  0.000\n",
      "2023-05-05 16:44:09,412: INFO: VISSSlib.matching.matchParticles: MATCH 1 0.19080316\n",
      "2023-05-05 16:44:09,415: INFO: VISSSlib.matching.matchParticles: ROTATE 1 \n",
      " camera_phi       1.704340\n",
      "camera_theta     1.292252\n",
      "camera_Ofz     -78.825318\n",
      "dtype: float64 \n",
      " error \n",
      " camera_phi      0.016962\n",
      "camera_theta    0.014975\n",
      "camera_Ofz      0.261613\n",
      "dtype: float64 \n",
      " dgf \n",
      " camera_phi      0.989552\n",
      "camera_theta    0.990005\n",
      "camera_Ofz      0.989394\n",
      "dtype: float64\n",
      "2023-05-05 16:44:09,417: INFO: VISSSlib.matching.matchParticles: rotation coefficients iteration 2 of 20\n",
      "0.96 s, iteration 1, degrees of freedom: 2.97 of 3, converged (x-space):  0.001\n",
      "1.24 s, iteration 2, degrees of freedom: 2.97 of 3, done.  0.000\n",
      "2023-05-05 16:44:13,771: INFO: VISSSlib.matching.matchParticles: MATCH 2 0.19080316\n",
      "2023-05-05 16:44:13,774: INFO: VISSSlib.matching.matchParticles: ROTATE 2 \n",
      " camera_phi       1.698890\n",
      "camera_theta     1.295701\n",
      "camera_Ofz     -78.724803\n",
      "dtype: float64 \n",
      " error \n",
      " camera_phi      0.016976\n",
      "camera_theta    0.014977\n",
      "camera_Ofz      0.261718\n",
      "dtype: float64 \n",
      " dgf \n",
      " camera_phi      0.989984\n",
      "camera_theta    0.989998\n",
      "camera_Ofz      0.989992\n",
      "dtype: float64\n",
      "2023-05-05 16:44:13,775: INFO: VISSSlib.matching.matchParticles: interupting loop\n",
      "2023-05-05 16:44:13,777: INFO: VISSSlib.matching.matchParticles: camera_phi       1.698890\n",
      "camera_theta     1.295701\n",
      "camera_Ofz     -78.724803\n",
      "dtype: float64\n",
      "2023-05-05 16:44:13,778: INFO: VISSSlib.matching.matchParticles: 2 of 2 slice for follower restart 2023-04-14T06:49:50.707711000 2023-04-14T11:27:01.476933000\n",
      "2023-05-05 16:44:13,780: WARNING: VISSSlib.matching.matchParticles: CONTINUE, too little follower data 1\n"
     ]
    }
   ],
   "source": [
    "reload(VISSSlib.matching)\n",
    "reload(VISSSlib.tools)\n",
    "fout, matchedDat, rot, rot_err = VISSSlib.matching.matchParticles(fname1L, config, doRot=True, rotationOnly=True, \n",
    "                rotate=rotate_default, rotate_err=rotate_err_default, maxDiffMs=\"config\", nPoints=1000, testing=False, chunckSize=10000, minSamples4rot=40,\n",
    "                  minDMax4rot=10,\n",
    "                  singleParticleFramesOnly=True,\n",
    "                  sigma = {\n",
    "#             \"Z\" : 1.7, # estimated from OE results\n",
    "            \"H\" : 1.2, # estimated from OE results\n",
    "            \"I\" : .01,\n",
    "        })\n"
   ]
  },
  {
   "cell_type": "code",
   "execution_count": 8,
   "id": "6a50c91b",
   "metadata": {
    "ExecuteTime": {
     "end_time": "2022-12-07T15:38:42.104090Z",
     "start_time": "2022-12-07T15:37:37.082228Z"
    },
    "scrolled": false
   },
   "outputs": [
    {
     "name": "stdout",
     "output_type": "stream",
     "text": [
      "2023-05-05 16:45:01,886: INFO: VISSSlib.matching.matchParticles: opening /projekt6/ag_maahn/data_obs_nobackup/sail/visss_2023.1.6/level1detect/2023/04/14/level1detect_V2023.1.6_sail_visss01_visss_leader_S1145792_20230414-064000.nc\n",
      "open_mflevel1detect /projekt6/ag_maahn/data_obs_nobackup/sail/visss_2023.1.6/level1detect/2023/04/14/level1detect_V2023.1.6_sail_visss01_visss_leader_S1145792_20230414-064000.nc\n",
      "2023-05-05 16:45:02,109: INFO: VISSSlib.matching.matchParticles: 9932\n",
      "2023-05-05 16:45:02,238: INFO: VISSSlib.matching.matchParticles: opening ['/projekt6/ag_maahn/data_obs_nobackup/sail/visss_2023.1.6/level1detect/2023/04/14/level1detect_V2023.1.6_sail_visss01_visss_follower_S1143155_20230414-063959.nc', '/projekt6/ag_maahn/data_obs_nobackup/sail/visss_2023.1.6/level1detect/2023/04/14/level1detect_V2023.1.6_sail_visss01_visss_follower_S1143155_20230414-064959.nc']\n",
      "open_mflevel1detect /projekt6/ag_maahn/data_obs_nobackup/sail/visss_2023.1.6/level1detect/2023/04/14/level1detect_V2023.1.6_sail_visss01_visss_follower_S1143155_20230414-063959.nc\n"
     ]
    },
    {
     "name": "stderr",
     "output_type": "stream",
     "text": [
      "/home/mmaahn/miniconda3/envs/py311/lib/python3.11/site-packages/xarray/coding/times.py:251: RuntimeWarning: invalid value encountered in cast\n",
      "  flat_num_dates_ns_int = (flat_num_dates * _NS_PER_TIME_DELTA[delta]).astype(\n",
      "/home/mmaahn/miniconda3/envs/py311/lib/python3.11/site-packages/xarray/coding/times.py:251: RuntimeWarning: invalid value encountered in cast\n",
      "  flat_num_dates_ns_int = (flat_num_dates * _NS_PER_TIME_DELTA[delta]).astype(\n",
      "/home/mmaahn/miniconda3/envs/py311/lib/python3.11/site-packages/xarray/coding/times.py:251: RuntimeWarning: invalid value encountered in cast\n",
      "  flat_num_dates_ns_int = (flat_num_dates * _NS_PER_TIME_DELTA[delta]).astype(\n"
     ]
    },
    {
     "name": "stdout",
     "output_type": "stream",
     "text": [
      "open_mflevel1detect /projekt6/ag_maahn/data_obs_nobackup/sail/visss_2023.1.6/level1detect/2023/04/14/level1detect_V2023.1.6_sail_visss01_visss_follower_S1143155_20230414-064959.nc\n",
      "2023-05-05 16:45:02,610: INFO: VISSSlib.matching.matchParticles: 1 of 2 slice for follower restart 2023-04-14T06:40:00.256617000 2023-04-14T06:49:50.707711000\n",
      "using 239 of 500\n",
      "estimateCaptureIdDiff statistic: {-207768112: 193, -207768113: 40, -207768114: 6} capture_time\n",
      "capture_id determined -207768112, 80.75313807531381% have the same value\n",
      "using 269 of 500\n",
      "estimateCaptureIdDiff statistic: {-207768112: 269} record_time\n",
      "capture_id determined -207768112, 100.0% have the same value\n",
      "2023-05-05 16:45:04,314: INFO: VISSSlib.matching.matchParticles: Taking offset from record_time (-207768112, 269) intead of capture_time (-207768112, 239)\n",
      "2023-05-05 16:45:04,318: INFO: VISSSlib.matching.matchParticles: rotation coefficients iteration 0 of 20\n",
      "0.03 s, iteration 1, degrees of freedom: 2.78 of 3, converged (x-space):  0.002\n",
      "0.04 s, iteration 2, degrees of freedom: 2.78 of 3, done.  0.000\n",
      "2023-05-05 16:45:08,355: INFO: VISSSlib.matching.matchParticles: MATCH 0 0.0029732608\n",
      "2023-05-05 16:45:08,358: INFO: VISSSlib.matching.matchParticles: ROTATE 0 \n",
      " camera_phi       2.138707\n",
      "camera_theta     1.062934\n",
      "camera_Ofz     -87.742957\n",
      "dtype: float64 \n",
      " error \n",
      " camera_phi      0.051568\n",
      "camera_theta    0.044047\n",
      "camera_Ofz      0.521559\n",
      "dtype: float64 \n",
      " dgf \n",
      " camera_phi      0.907721\n",
      "camera_theta    0.913507\n",
      "camera_Ofz      0.960286\n",
      "dtype: float64\n",
      "2023-05-05 16:45:08,359: INFO: VISSSlib.matching.matchParticles: rotation coefficients iteration 1 of 20\n",
      "0.70 s, iteration 1, degrees of freedom: 2.99 of 3, converged (x-space):  0.002\n",
      "0.92 s, iteration 2, degrees of freedom: 2.99 of 3, done.  0.000\n",
      "2023-05-05 16:45:14,512: INFO: VISSSlib.matching.matchParticles: MATCH 1 0.0010811923\n",
      "2023-05-05 16:45:14,517: INFO: VISSSlib.matching.matchParticles: ROTATE 1 \n",
      " camera_phi       1.928254\n",
      "camera_theta     1.241300\n",
      "camera_Ofz     -92.722651\n",
      "dtype: float64 \n",
      " error \n",
      " camera_phi      0.028887\n",
      "camera_theta    0.024171\n",
      "camera_Ofz      0.235097\n",
      "dtype: float64 \n",
      " dgf \n",
      " camera_phi      0.996862\n",
      "camera_theta    0.996989\n",
      "camera_Ofz      0.997968\n",
      "dtype: float64\n",
      "2023-05-05 16:45:14,518: INFO: VISSSlib.matching.matchParticles: rotation coefficients iteration 2 of 20\n",
      "0.60 s, iteration 1, degrees of freedom: 2.97 of 3, converged (x-space):  0.003\n",
      "0.85 s, iteration 2, degrees of freedom: 2.97 of 3, done.  0.000\n",
      "2023-05-05 16:45:20,709: INFO: VISSSlib.matching.matchParticles: MATCH 2 0.0050769546\n",
      "2023-05-05 16:45:20,712: INFO: VISSSlib.matching.matchParticles: ROTATE 2 \n",
      " camera_phi       1.567859\n",
      "camera_theta     1.548229\n",
      "camera_Ofz     -90.202453\n",
      "dtype: float64 \n",
      " error \n",
      " camera_phi      0.026917\n",
      "camera_theta    0.025356\n",
      "camera_Ofz      0.262295\n",
      "dtype: float64 \n",
      " dgf \n",
      " camera_phi      0.991317\n",
      "camera_theta    0.988995\n",
      "camera_Ofz      0.987552\n",
      "dtype: float64\n",
      "2023-05-05 16:45:20,716: INFO: VISSSlib.matching.matchParticles: rotation coefficients iteration 3 of 20\n",
      "1.02 s, iteration 1, degrees of freedom: 2.98 of 3, converged (x-space):  0.000\n",
      "1.61 s, iteration 2, degrees of freedom: 2.98 of 3, done.  0.000\n",
      "2023-05-05 16:45:26,894: INFO: VISSSlib.matching.matchParticles: MATCH 3 0.017652364\n",
      "2023-05-05 16:45:26,897: INFO: VISSSlib.matching.matchParticles: ROTATE 3 \n",
      " camera_phi       1.493567\n",
      "camera_theta     1.569895\n",
      "camera_Ofz     -89.806788\n",
      "dtype: float64 \n",
      " error \n",
      " camera_phi      0.023430\n",
      "camera_theta    0.019488\n",
      "camera_Ofz      0.274567\n",
      "dtype: float64 \n",
      " dgf \n",
      " camera_phi      0.992423\n",
      "camera_theta    0.994093\n",
      "camera_Ofz      0.989042\n",
      "dtype: float64\n",
      "2023-05-05 16:45:26,901: INFO: VISSSlib.matching.matchParticles: rotation coefficients iteration 4 of 20\n",
      "1.00 s, iteration 1, degrees of freedom: 2.97 of 3, converged (x-space):  0.000\n",
      "2.72 s, iteration 2, degrees of freedom: 2.97 of 3, done.  0.000\n",
      "2023-05-05 16:45:34,736: INFO: VISSSlib.matching.matchParticles: MATCH 4 0.022029074\n",
      "2023-05-05 16:45:34,741: INFO: VISSSlib.matching.matchParticles: ROTATE 4 \n",
      " camera_phi       1.444392\n",
      "camera_theta     1.598153\n",
      "camera_Ofz     -89.385146\n",
      "dtype: float64 \n",
      " error \n",
      " camera_phi      0.019071\n",
      "camera_theta    0.018131\n",
      "camera_Ofz      0.276324\n",
      "dtype: float64 \n",
      " dgf \n",
      " camera_phi      0.993375\n",
      "camera_theta    0.991345\n",
      "camera_Ofz      0.989872\n",
      "dtype: float64\n",
      "2023-05-05 16:45:34,743: INFO: VISSSlib.matching.matchParticles: rotation coefficients iteration 5 of 20\n",
      "0.85 s, iteration 1, degrees of freedom: 2.97 of 3, converged (x-space):  0.000\n",
      "1.14 s, iteration 2, degrees of freedom: 2.97 of 3, done.  0.000\n",
      "2023-05-05 16:45:40,932: INFO: VISSSlib.matching.matchParticles: MATCH 5 0.023868363\n",
      "2023-05-05 16:45:40,937: INFO: VISSSlib.matching.matchParticles: ROTATE 5 \n",
      " camera_phi       1.423864\n",
      "camera_theta     1.616369\n",
      "camera_Ofz     -89.089440\n",
      "dtype: float64 \n",
      " error \n",
      " camera_phi      0.018499\n",
      "camera_theta    0.017203\n",
      "camera_Ofz      0.274205\n",
      "dtype: float64 \n",
      " dgf \n",
      " camera_phi      0.990591\n",
      "camera_theta    0.990998\n",
      "camera_Ofz      0.990153\n",
      "dtype: float64\n",
      "2023-05-05 16:45:40,940: INFO: VISSSlib.matching.matchParticles: rotation coefficients iteration 6 of 20\n",
      "0.93 s, iteration 1, degrees of freedom: 2.97 of 3, converged (x-space):  0.000\n",
      "1.43 s, iteration 2, degrees of freedom: 2.97 of 3, done.  0.000\n",
      "2023-05-05 16:45:47,831: INFO: VISSSlib.matching.matchParticles: MATCH 6 0.024063343\n",
      "2023-05-05 16:45:47,835: INFO: VISSSlib.matching.matchParticles: ROTATE 6 \n",
      " camera_phi       1.422043\n",
      "camera_theta     1.618793\n",
      "camera_Ofz     -89.059189\n",
      "dtype: float64 \n",
      " error \n",
      " camera_phi      0.018468\n",
      "camera_theta    0.017127\n",
      "camera_Ofz      0.274707\n",
      "dtype: float64 \n",
      " dgf \n",
      " camera_phi      0.990033\n",
      "camera_theta    0.990087\n",
      "camera_Ofz      0.989963\n",
      "dtype: float64\n",
      "2023-05-05 16:45:47,837: INFO: VISSSlib.matching.matchParticles: interupting loop\n",
      "2023-05-05 16:45:47,839: INFO: VISSSlib.matching.matchParticles: camera_phi       1.422043\n",
      "camera_theta     1.618793\n",
      "camera_Ofz     -89.059189\n",
      "dtype: float64\n",
      "2023-05-05 16:45:47,840: INFO: VISSSlib.matching.matchParticles: 2 of 2 slice for follower restart 2023-04-14T06:49:50.707711000 2023-04-14T11:27:01.476933000\n",
      "2023-05-05 16:45:47,845: WARNING: VISSSlib.matching.matchParticles: CONTINUE, too little follower data 1\n"
     ]
    },
    {
     "data": {
      "text/plain": [
       "(camera_phi       1.422043\n",
       " camera_theta     1.618793\n",
       " camera_Ofz     -89.059189\n",
       " dtype: float64,\n",
       " camera_phi      0.018468\n",
       " camera_theta    0.017127\n",
       " camera_Ofz      0.274707\n",
       " dtype: float64)"
      ]
     },
     "execution_count": 8,
     "metadata": {},
     "output_type": "execute_result"
    }
   ],
   "source": [
    "reload(VISSSlib.matching)\n",
    "fout, matchedDat, rot2, rot_err2 = VISSSlib.matching.matchParticles(fname1L, config, doRot=True, rotationOnly=True, rotate=rot, rotate_err=rot_err, nPoints=500, minSamples4rot=5)\n",
    "rot2, rot_err2"
   ]
  },
  {
   "cell_type": "code",
   "execution_count": 9,
   "id": "f997b040",
   "metadata": {
    "ExecuteTime": {
     "end_time": "2022-12-07T15:38:53.354719Z",
     "start_time": "2022-12-07T15:38:42.109053Z"
    }
   },
   "outputs": [
    {
     "name": "stdout",
     "output_type": "stream",
     "text": [
      "2023-05-05 16:45:47,871: INFO: VISSSlib.matching.matchParticles: opening /projekt6/ag_maahn/data_obs_nobackup/sail/visss_2023.1.6/level1detect/2023/04/14/level1detect_V2023.1.6_sail_visss01_visss_leader_S1145792_20230414-064000.nc\n",
      "open_mflevel1detect /projekt6/ag_maahn/data_obs_nobackup/sail/visss_2023.1.6/level1detect/2023/04/14/level1detect_V2023.1.6_sail_visss01_visss_leader_S1145792_20230414-064000.nc\n",
      "2023-05-05 16:45:48,059: INFO: VISSSlib.matching.matchParticles: 9932\n",
      "2023-05-05 16:45:48,152: INFO: VISSSlib.matching.matchParticles: opening ['/projekt6/ag_maahn/data_obs_nobackup/sail/visss_2023.1.6/level1detect/2023/04/14/level1detect_V2023.1.6_sail_visss01_visss_follower_S1143155_20230414-063959.nc', '/projekt6/ag_maahn/data_obs_nobackup/sail/visss_2023.1.6/level1detect/2023/04/14/level1detect_V2023.1.6_sail_visss01_visss_follower_S1143155_20230414-064959.nc']\n",
      "open_mflevel1detect /projekt6/ag_maahn/data_obs_nobackup/sail/visss_2023.1.6/level1detect/2023/04/14/level1detect_V2023.1.6_sail_visss01_visss_follower_S1143155_20230414-063959.nc\n",
      "open_mflevel1detect /projekt6/ag_maahn/data_obs_nobackup/sail/visss_2023.1.6/level1detect/2023/04/14/level1detect_V2023.1.6_sail_visss01_visss_follower_S1143155_20230414-064959.nc\n"
     ]
    },
    {
     "name": "stderr",
     "output_type": "stream",
     "text": [
      "/home/mmaahn/miniconda3/envs/py311/lib/python3.11/site-packages/xarray/coding/times.py:251: RuntimeWarning: invalid value encountered in cast\n",
      "  flat_num_dates_ns_int = (flat_num_dates * _NS_PER_TIME_DELTA[delta]).astype(\n",
      "/home/mmaahn/miniconda3/envs/py311/lib/python3.11/site-packages/xarray/coding/times.py:251: RuntimeWarning: invalid value encountered in cast\n",
      "  flat_num_dates_ns_int = (flat_num_dates * _NS_PER_TIME_DELTA[delta]).astype(\n",
      "/home/mmaahn/miniconda3/envs/py311/lib/python3.11/site-packages/xarray/coding/times.py:251: RuntimeWarning: invalid value encountered in cast\n",
      "  flat_num_dates_ns_int = (flat_num_dates * _NS_PER_TIME_DELTA[delta]).astype(\n"
     ]
    },
    {
     "name": "stdout",
     "output_type": "stream",
     "text": [
      "2023-05-05 16:45:48,463: INFO: VISSSlib.matching.matchParticles: 1 of 2 slice for follower restart 2023-04-14T06:40:00.256617000 2023-04-14T06:49:50.707711000\n",
      "using 239 of 500\n",
      "estimateCaptureIdDiff statistic: {-207768112: 193, -207768113: 40, -207768114: 6} capture_time\n",
      "capture_id determined -207768112, 80.75313807531381% have the same value\n",
      "using 269 of 500\n",
      "estimateCaptureIdDiff statistic: {-207768112: 269} record_time\n",
      "capture_id determined -207768112, 100.0% have the same value\n",
      "2023-05-05 16:45:50,116: INFO: VISSSlib.matching.matchParticles: Taking offset from record_time (-207768112, 269) intead of capture_time (-207768112, 239)\n",
      "2023-05-05 16:45:50,119: INFO: VISSSlib.matching.matchParticles: rotation coefficients iteration 0 of 20\n",
      "0.94 s, iteration 1, degrees of freedom: 2.97 of 3, converged (x-space):  0.000\n",
      "1.22 s, iteration 2, degrees of freedom: 2.97 of 3, done.  0.000\n",
      "2023-05-05 16:45:56,349: INFO: VISSSlib.matching.matchParticles: MATCH 0 0.024076227\n",
      "2023-05-05 16:45:56,354: INFO: VISSSlib.matching.matchParticles: ROTATE 0 \n",
      " camera_phi       1.421373\n",
      "camera_theta     1.622328\n",
      "camera_Ofz     -89.034141\n",
      "dtype: float64 \n",
      " error \n",
      " camera_phi      0.018503\n",
      "camera_theta    0.016926\n",
      "camera_Ofz      0.275743\n",
      "dtype: float64 \n",
      " dgf \n",
      " camera_phi      0.989962\n",
      "camera_theta    0.990234\n",
      "camera_Ofz      0.989924\n",
      "dtype: float64\n",
      "2023-05-05 16:45:56,356: INFO: VISSSlib.matching.matchParticles: rotation coefficients iteration 1 of 20\n",
      "0.92 s, iteration 1, degrees of freedom: 2.97 of 3, converged (x-space):  0.000\n",
      "1.23 s, iteration 2, degrees of freedom: 2.97 of 3, done.  0.000\n",
      "2023-05-05 16:46:02,288: INFO: VISSSlib.matching.matchParticles: MATCH 1 0.024092728\n",
      "2023-05-05 16:46:02,295: INFO: VISSSlib.matching.matchParticles: ROTATE 1 \n",
      " camera_phi       1.423379\n",
      "camera_theta     1.624183\n",
      "camera_Ofz     -89.055665\n",
      "dtype: float64 \n",
      " error \n",
      " camera_phi      0.018593\n",
      "camera_theta    0.016908\n",
      "camera_Ofz      0.276589\n",
      "dtype: float64 \n",
      " dgf \n",
      " camera_phi      0.989902\n",
      "camera_theta    0.990021\n",
      "camera_Ofz      0.989939\n",
      "dtype: float64\n",
      "2023-05-05 16:46:02,296: INFO: VISSSlib.matching.matchParticles: interupting loop\n",
      "2023-05-05 16:46:02,298: INFO: VISSSlib.matching.matchParticles: camera_phi       1.423379\n",
      "camera_theta     1.624183\n",
      "camera_Ofz     -89.055665\n",
      "dtype: float64\n",
      "2023-05-05 16:46:02,299: INFO: VISSSlib.matching.matchParticles: 2 of 2 slice for follower restart 2023-04-14T06:49:50.707711000 2023-04-14T11:27:01.476933000\n",
      "2023-05-05 16:46:02,301: WARNING: VISSSlib.matching.matchParticles: CONTINUE, too little follower data 1\n"
     ]
    }
   ],
   "source": [
    "fout, matchedDat, rot3, rot_err3 = VISSSlib.matching.matchParticles(fname1L, config, doRot=True, rotationOnly=True, rotate=rot2, rotate_err=rot_err2, nPoints=500, minSamples4rot=5)\n"
   ]
  },
  {
   "cell_type": "code",
   "execution_count": 10,
   "id": "424c84e4",
   "metadata": {
    "ExecuteTime": {
     "end_time": "2022-12-07T15:38:53.364816Z",
     "start_time": "2022-12-07T15:38:53.358962Z"
    }
   },
   "outputs": [
    {
     "name": "stdout",
     "output_type": "stream",
     "text": [
      "rotate:\n",
      "  camera_Ofz: -89.055665\n",
      "  camera_phi: 1.423379\n",
      "  camera_theta: 1.624183\n",
      "rotate_err:\n",
      "  camera_Ofz: 0.276589\n",
      "  camera_phi: 0.018593\n",
      "  camera_theta: 0.016908\n",
      "\n"
     ]
    }
   ],
   "source": [
    "print(yaml.dump({\"rotate\":rot3.round(6).to_dict(), \"rotate_err\": rot_err3.round(6).to_dict()}))"
   ]
  },
  {
   "cell_type": "code",
   "execution_count": 11,
   "id": "a75cccf3",
   "metadata": {
    "ExecuteTime": {
     "end_time": "2022-12-07T15:38:53.374338Z",
     "start_time": "2022-12-07T15:38:53.368130Z"
    }
   },
   "outputs": [
    {
     "name": "stdout",
     "output_type": "stream",
     "text": [
      "rotate:\n",
      "  camera_Ofz: -89.055665\n",
      "  camera_phi: 1.423379\n",
      "  camera_theta: 1.624183\n",
      "rotate_err:\n",
      "  camera_Ofz: 0.276589\n",
      "  camera_phi: 0.018593\n",
      "  camera_theta: 0.016908\n",
      "\n"
     ]
    }
   ],
   "source": [
    "print(yaml.dump({\"rotate\":rot3.round(6).to_dict(), \"rotate_err\": rot_err3.round(6).to_dict()}))"
   ]
  },
  {
   "cell_type": "code",
   "execution_count": 12,
   "id": "d0581558",
   "metadata": {
    "ExecuteTime": {
     "end_time": "2022-12-07T15:39:04.517541Z",
     "start_time": "2022-12-07T15:38:53.376214Z"
    },
    "scrolled": false
   },
   "outputs": [
    {
     "name": "stdout",
     "output_type": "stream",
     "text": [
      "2023-05-05 16:46:02,339: INFO: VISSSlib.matching.matchParticles: opening /projekt6/ag_maahn/data_obs_nobackup/sail/visss_2023.1.6/level1detect/2023/04/14/level1detect_V2023.1.6_sail_visss01_visss_leader_S1145792_20230414-064000.nc\n",
      "open_mflevel1detect /projekt6/ag_maahn/data_obs_nobackup/sail/visss_2023.1.6/level1detect/2023/04/14/level1detect_V2023.1.6_sail_visss01_visss_leader_S1145792_20230414-064000.nc\n",
      "2023-05-05 16:46:02,528: INFO: VISSSlib.matching.matchParticles: 9932\n",
      "2023-05-05 16:46:02,646: INFO: VISSSlib.matching.matchParticles: opening ['/projekt6/ag_maahn/data_obs_nobackup/sail/visss_2023.1.6/level1detect/2023/04/14/level1detect_V2023.1.6_sail_visss01_visss_follower_S1143155_20230414-063959.nc', '/projekt6/ag_maahn/data_obs_nobackup/sail/visss_2023.1.6/level1detect/2023/04/14/level1detect_V2023.1.6_sail_visss01_visss_follower_S1143155_20230414-064959.nc']\n",
      "open_mflevel1detect /projekt6/ag_maahn/data_obs_nobackup/sail/visss_2023.1.6/level1detect/2023/04/14/level1detect_V2023.1.6_sail_visss01_visss_follower_S1143155_20230414-063959.nc\n",
      "open_mflevel1detect /projekt6/ag_maahn/data_obs_nobackup/sail/visss_2023.1.6/level1detect/2023/04/14/level1detect_V2023.1.6_sail_visss01_visss_follower_S1143155_20230414-064959.nc\n"
     ]
    },
    {
     "name": "stderr",
     "output_type": "stream",
     "text": [
      "/home/mmaahn/miniconda3/envs/py311/lib/python3.11/site-packages/xarray/coding/times.py:251: RuntimeWarning: invalid value encountered in cast\n",
      "  flat_num_dates_ns_int = (flat_num_dates * _NS_PER_TIME_DELTA[delta]).astype(\n",
      "/home/mmaahn/miniconda3/envs/py311/lib/python3.11/site-packages/xarray/coding/times.py:251: RuntimeWarning: invalid value encountered in cast\n",
      "  flat_num_dates_ns_int = (flat_num_dates * _NS_PER_TIME_DELTA[delta]).astype(\n",
      "/home/mmaahn/miniconda3/envs/py311/lib/python3.11/site-packages/xarray/coding/times.py:251: RuntimeWarning: invalid value encountered in cast\n",
      "  flat_num_dates_ns_int = (flat_num_dates * _NS_PER_TIME_DELTA[delta]).astype(\n"
     ]
    },
    {
     "name": "stdout",
     "output_type": "stream",
     "text": [
      "2023-05-05 16:46:02,964: INFO: VISSSlib.matching.matchParticles: 1 of 2 slice for follower restart 2023-04-14T06:40:00.256617000 2023-04-14T06:49:50.707711000\n",
      "using 239 of 500\n",
      "estimateCaptureIdDiff statistic: {-207768112: 193, -207768113: 40, -207768114: 6} capture_time\n",
      "capture_id determined -207768112, 80.75313807531381% have the same value\n",
      "using 269 of 500\n",
      "estimateCaptureIdDiff statistic: {-207768112: 269} record_time\n",
      "capture_id determined -207768112, 100.0% have the same value\n",
      "2023-05-05 16:46:04,480: INFO: VISSSlib.matching.matchParticles: Taking offset from record_time (-207768112, 269) intead of capture_time (-207768112, 239)\n",
      "2023-05-05 16:46:04,483: INFO: VISSSlib.matching.matchParticles: rotation coefficients iteration 0 of 20\n",
      "1.13 s, iteration 1, degrees of freedom: 2.97 of 3, converged (x-space):  0.000\n",
      "1.70 s, iteration 2, degrees of freedom: 2.97 of 3, done.  0.000\n",
      "2023-05-05 16:46:11,012: INFO: VISSSlib.matching.matchParticles: MATCH 0 0.02411074\n",
      "2023-05-05 16:46:11,017: INFO: VISSSlib.matching.matchParticles: ROTATE 0 \n",
      " camera_phi       1.423027\n",
      "camera_theta     1.625102\n",
      "camera_Ofz     -89.050010\n",
      "dtype: float64 \n",
      " error \n",
      " camera_phi      0.018559\n",
      "camera_theta    0.016855\n",
      "camera_Ofz      0.275941\n",
      "dtype: float64 \n",
      " dgf \n",
      " camera_phi      0.990036\n",
      "camera_theta    0.990063\n",
      "camera_Ofz      0.990047\n",
      "dtype: float64\n",
      "2023-05-05 16:46:11,020: INFO: VISSSlib.matching.matchParticles: rotation coefficients iteration 1 of 20\n",
      "0.78 s, iteration 1, degrees of freedom: 2.97 of 3, converged (x-space):  0.000\n",
      "1.13 s, iteration 2, degrees of freedom: 2.97 of 3, done.  0.000\n",
      "2023-05-05 16:46:17,104: INFO: VISSSlib.matching.matchParticles: MATCH 1 0.024114607\n",
      "2023-05-05 16:46:17,109: INFO: VISSSlib.matching.matchParticles: ROTATE 1 \n",
      " camera_phi       1.423055\n",
      "camera_theta     1.626012\n",
      "camera_Ofz     -89.049116\n",
      "dtype: float64 \n",
      " error \n",
      " camera_phi      0.018558\n",
      "camera_theta    0.016998\n",
      "camera_Ofz      0.276005\n",
      "dtype: float64 \n",
      " dgf \n",
      " camera_phi      0.990002\n",
      "camera_theta    0.989829\n",
      "camera_Ofz      0.989995\n",
      "dtype: float64\n",
      "2023-05-05 16:46:17,112: INFO: VISSSlib.matching.matchParticles: interupting loop\n",
      "2023-05-05 16:46:17,115: INFO: VISSSlib.matching.matchParticles: camera_phi       1.423055\n",
      "camera_theta     1.626012\n",
      "camera_Ofz     -89.049116\n",
      "dtype: float64\n",
      "2023-05-05 16:46:17,117: INFO: VISSSlib.matching.matchParticles: 2 of 2 slice for follower restart 2023-04-14T06:49:50.707711000 2023-04-14T11:27:01.476933000\n",
      "2023-05-05 16:46:17,121: WARNING: VISSSlib.matching.matchParticles: CONTINUE, too little follower data 1\n"
     ]
    }
   ],
   "source": [
    "fout, matchedDat, rot4, rot_err4 = VISSSlib.matching.matchParticles(fname1L, config, doRot=True, rotationOnly=True, rotate=rot3, rotate_err=rot_err3, nPoints=500, minSamples4rot=5)\n"
   ]
  },
  {
   "cell_type": "code",
   "execution_count": 13,
   "id": "0baa7279",
   "metadata": {
    "ExecuteTime": {
     "end_time": "2022-12-07T15:39:04.527218Z",
     "start_time": "2022-12-07T15:39:04.520958Z"
    }
   },
   "outputs": [
    {
     "name": "stdout",
     "output_type": "stream",
     "text": [
      "rotate:\n",
      "  camera_Ofz: -89.049116\n",
      "  camera_phi: 1.423055\n",
      "  camera_theta: 1.626012\n",
      "rotate_err:\n",
      "  camera_Ofz: 0.276005\n",
      "  camera_phi: 0.018558\n",
      "  camera_theta: 0.016998\n",
      "\n"
     ]
    }
   ],
   "source": [
    "print(yaml.dump({\"rotate\":rot4.round(6).to_dict(), \"rotate_err\": rot_err4.round(6).to_dict()}))"
   ]
  },
  {
   "cell_type": "code",
   "execution_count": 14,
   "id": "be0379cf",
   "metadata": {
    "ExecuteTime": {
     "end_time": "2022-12-07T15:39:04.536148Z",
     "start_time": "2022-12-07T15:39:04.530059Z"
    }
   },
   "outputs": [
    {
     "name": "stdout",
     "output_type": "stream",
     "text": [
      "rotate:\n",
      "  20230414-064000:\n",
      "    transformation:\n",
      "      camera_Ofz: -89.049116\n",
      "      camera_phi: 1.423055\n",
      "      camera_theta: 1.626012\n",
      "    transformation_err:\n",
      "      camera_Ofz: 0.276005\n",
      "      camera_phi: 0.018558\n",
      "      camera_theta: 0.016998\n",
      "\n"
     ]
    }
   ],
   "source": [
    "print(yaml.dump({\"rotate\": {case: {\"transformation\": rot4.round(\n",
    "    6).to_dict(), \"transformation_err\": rot_err4.round(6).to_dict()}}#\n",
    "                }))"
   ]
  },
  {
   "cell_type": "markdown",
   "id": "6f7100b0",
   "metadata": {},
   "source": [
    "# check camera positions"
   ]
  },
  {
   "cell_type": "code",
   "execution_count": 106,
   "id": "51bab4d2",
   "metadata": {
    "ExecuteTime": {
     "end_time": "2022-12-07T15:35:33.331639Z",
     "start_time": "2022-12-07T15:34:33.854423Z"
    }
   },
   "outputs": [
    {
     "ename": "FileNotFoundError",
     "evalue": "[Errno 2] No such file or directory: b'/projekt6/ag_maahn/data_obs_nobackup/nyaalesund/visss_2023.1.6/metaRotation/2022/05/04/metaRotation_V2023.1.6_nyaalesund_visss01_visss2_trigger_S1242799_20220504.nc'",
     "output_type": "error",
     "traceback": [
      "\u001b[0;31m---------------------------------------------------------------------------\u001b[0m",
      "\u001b[0;31mKeyError\u001b[0m                                  Traceback (most recent call last)",
      "File \u001b[0;32m~/miniconda3/envs/py311/lib/python3.11/site-packages/xarray/backends/file_manager.py:209\u001b[0m, in \u001b[0;36mCachingFileManager._acquire_with_cache_info\u001b[0;34m(self, needs_lock)\u001b[0m\n\u001b[1;32m    208\u001b[0m \u001b[38;5;28;01mtry\u001b[39;00m:\n\u001b[0;32m--> 209\u001b[0m     file \u001b[38;5;241m=\u001b[39m \u001b[38;5;28;43mself\u001b[39;49m\u001b[38;5;241;43m.\u001b[39;49m\u001b[43m_cache\u001b[49m\u001b[43m[\u001b[49m\u001b[38;5;28;43mself\u001b[39;49m\u001b[38;5;241;43m.\u001b[39;49m\u001b[43m_key\u001b[49m\u001b[43m]\u001b[49m\n\u001b[1;32m    210\u001b[0m \u001b[38;5;28;01mexcept\u001b[39;00m \u001b[38;5;167;01mKeyError\u001b[39;00m:\n",
      "File \u001b[0;32m~/miniconda3/envs/py311/lib/python3.11/site-packages/xarray/backends/lru_cache.py:55\u001b[0m, in \u001b[0;36mLRUCache.__getitem__\u001b[0;34m(self, key)\u001b[0m\n\u001b[1;32m     54\u001b[0m \u001b[38;5;28;01mwith\u001b[39;00m \u001b[38;5;28mself\u001b[39m\u001b[38;5;241m.\u001b[39m_lock:\n\u001b[0;32m---> 55\u001b[0m     value \u001b[38;5;241m=\u001b[39m \u001b[38;5;28;43mself\u001b[39;49m\u001b[38;5;241;43m.\u001b[39;49m\u001b[43m_cache\u001b[49m\u001b[43m[\u001b[49m\u001b[43mkey\u001b[49m\u001b[43m]\u001b[49m\n\u001b[1;32m     56\u001b[0m     \u001b[38;5;28mself\u001b[39m\u001b[38;5;241m.\u001b[39m_cache\u001b[38;5;241m.\u001b[39mmove_to_end(key)\n",
      "\u001b[0;31mKeyError\u001b[0m: [<class 'netCDF4._netCDF4.Dataset'>, ('/projekt6/ag_maahn/data_obs_nobackup/nyaalesund/visss_2023.1.6/metaRotation/2022/05/04/metaRotation_V2023.1.6_nyaalesund_visss01_visss2_trigger_S1242799_20220504.nc',), 'r', (('clobber', True), ('diskless', False), ('format', 'NETCDF4'), ('persist', False)), '2a62443f-3df5-4105-822e-7f75a10b635f']",
      "\nDuring handling of the above exception, another exception occurred:\n",
      "\u001b[0;31mFileNotFoundError\u001b[0m                         Traceback (most recent call last)",
      "Cell \u001b[0;32mIn [106], line 1\u001b[0m\n\u001b[0;32m----> 1\u001b[0m fout, matchedDat, rot5, rot_err5 \u001b[38;5;241m=\u001b[39m \u001b[43mVISSSlib\u001b[49m\u001b[38;5;241;43m.\u001b[39;49m\u001b[43mmatching\u001b[49m\u001b[38;5;241;43m.\u001b[39;49m\u001b[43mmatchParticles\u001b[49m\u001b[43m(\u001b[49m\u001b[43mfname1L\u001b[49m\u001b[43m,\u001b[49m\u001b[43m \u001b[49m\u001b[43mconfig\u001b[49m\u001b[43m,\u001b[49m\u001b[43m \u001b[49m\u001b[43mrotate\u001b[49m\u001b[38;5;241;43m=\u001b[39;49m\u001b[43mrot4\u001b[49m\u001b[43m,\u001b[49m\u001b[43m \u001b[49m\u001b[43mrotate_err\u001b[49m\u001b[38;5;241;43m=\u001b[39;49m\u001b[43mrot_err4\u001b[49m\u001b[43m,\u001b[49m\u001b[43m \u001b[49m\u001b[43mminSamples4rot\u001b[49m\u001b[38;5;241;43m=\u001b[39;49m\u001b[38;5;241;43m5\u001b[39;49m\u001b[43m)\u001b[49m\n",
      "File \u001b[0;32m~/projectsSrv/VISSSlib/src/VISSSlib/matching.py:830\u001b[0m, in \u001b[0;36mmatchParticles\u001b[0;34m(fnameLv1Detect, config, y_cov_diag, version, chunckSize, rotate, rotate_err, maxDiffMs, rotationOnly, nPoints, sigma, nSamples4rot, minSamples4rot, testing, minDMax4rot, singleParticleFramesOnly, doRot)\u001b[0m\n\u001b[1;32m    827\u001b[0m \u001b[38;5;28;01mif\u001b[39;00m \u001b[38;5;129;01mnot\u001b[39;00m doRot:\n\u001b[1;32m    828\u001b[0m     \u001b[38;5;66;03m# get rotation estimates and add to config instead of etimating them\u001b[39;00m\n\u001b[1;32m    829\u001b[0m     fnameMetaRotation \u001b[38;5;241m=\u001b[39m ffl1\u001b[38;5;241m.\u001b[39mfname[\u001b[38;5;124m\"\u001b[39m\u001b[38;5;124mmetaRotation\u001b[39m\u001b[38;5;124m\"\u001b[39m]\n\u001b[0;32m--> 830\u001b[0m     metaRotationDat \u001b[38;5;241m=\u001b[39m \u001b[43mxr\u001b[49m\u001b[38;5;241;43m.\u001b[39;49m\u001b[43mopen_dataset\u001b[49m\u001b[43m(\u001b[49m\u001b[43mfnameMetaRotation\u001b[49m\u001b[43m)\u001b[49m\n\u001b[1;32m    831\u001b[0m     config \u001b[38;5;241m=\u001b[39m tools\u001b[38;5;241m.\u001b[39mrotXr2dict(metaRotationDat, config)\n\u001b[1;32m    833\u001b[0m \u001b[38;5;28;01mif\u001b[39;00m np\u001b[38;5;241m.\u001b[39many(rotate \u001b[38;5;241m==\u001b[39m \u001b[38;5;124m\"\u001b[39m\u001b[38;5;124mconfig\u001b[39m\u001b[38;5;124m\"\u001b[39m):\n",
      "File \u001b[0;32m~/miniconda3/envs/py311/lib/python3.11/site-packages/xarray/backends/api.py:539\u001b[0m, in \u001b[0;36mopen_dataset\u001b[0;34m(filename_or_obj, engine, chunks, cache, decode_cf, mask_and_scale, decode_times, decode_timedelta, use_cftime, concat_characters, decode_coords, drop_variables, inline_array, backend_kwargs, **kwargs)\u001b[0m\n\u001b[1;32m    527\u001b[0m decoders \u001b[38;5;241m=\u001b[39m _resolve_decoders_kwargs(\n\u001b[1;32m    528\u001b[0m     decode_cf,\n\u001b[1;32m    529\u001b[0m     open_backend_dataset_parameters\u001b[38;5;241m=\u001b[39mbackend\u001b[38;5;241m.\u001b[39mopen_dataset_parameters,\n\u001b[0;32m   (...)\u001b[0m\n\u001b[1;32m    535\u001b[0m     decode_coords\u001b[38;5;241m=\u001b[39mdecode_coords,\n\u001b[1;32m    536\u001b[0m )\n\u001b[1;32m    538\u001b[0m overwrite_encoded_chunks \u001b[38;5;241m=\u001b[39m kwargs\u001b[38;5;241m.\u001b[39mpop(\u001b[38;5;124m\"\u001b[39m\u001b[38;5;124moverwrite_encoded_chunks\u001b[39m\u001b[38;5;124m\"\u001b[39m, \u001b[38;5;28;01mNone\u001b[39;00m)\n\u001b[0;32m--> 539\u001b[0m backend_ds \u001b[38;5;241m=\u001b[39m \u001b[43mbackend\u001b[49m\u001b[38;5;241;43m.\u001b[39;49m\u001b[43mopen_dataset\u001b[49m\u001b[43m(\u001b[49m\n\u001b[1;32m    540\u001b[0m \u001b[43m    \u001b[49m\u001b[43mfilename_or_obj\u001b[49m\u001b[43m,\u001b[49m\n\u001b[1;32m    541\u001b[0m \u001b[43m    \u001b[49m\u001b[43mdrop_variables\u001b[49m\u001b[38;5;241;43m=\u001b[39;49m\u001b[43mdrop_variables\u001b[49m\u001b[43m,\u001b[49m\n\u001b[1;32m    542\u001b[0m \u001b[43m    \u001b[49m\u001b[38;5;241;43m*\u001b[39;49m\u001b[38;5;241;43m*\u001b[39;49m\u001b[43mdecoders\u001b[49m\u001b[43m,\u001b[49m\n\u001b[1;32m    543\u001b[0m \u001b[43m    \u001b[49m\u001b[38;5;241;43m*\u001b[39;49m\u001b[38;5;241;43m*\u001b[39;49m\u001b[43mkwargs\u001b[49m\u001b[43m,\u001b[49m\n\u001b[1;32m    544\u001b[0m \u001b[43m\u001b[49m\u001b[43m)\u001b[49m\n\u001b[1;32m    545\u001b[0m ds \u001b[38;5;241m=\u001b[39m _dataset_from_backend_dataset(\n\u001b[1;32m    546\u001b[0m     backend_ds,\n\u001b[1;32m    547\u001b[0m     filename_or_obj,\n\u001b[0;32m   (...)\u001b[0m\n\u001b[1;32m    555\u001b[0m     \u001b[38;5;241m*\u001b[39m\u001b[38;5;241m*\u001b[39mkwargs,\n\u001b[1;32m    556\u001b[0m )\n\u001b[1;32m    557\u001b[0m \u001b[38;5;28;01mreturn\u001b[39;00m ds\n",
      "File \u001b[0;32m~/miniconda3/envs/py311/lib/python3.11/site-packages/xarray/backends/netCDF4_.py:572\u001b[0m, in \u001b[0;36mNetCDF4BackendEntrypoint.open_dataset\u001b[0;34m(self, filename_or_obj, mask_and_scale, decode_times, concat_characters, decode_coords, drop_variables, use_cftime, decode_timedelta, group, mode, format, clobber, diskless, persist, lock, autoclose)\u001b[0m\n\u001b[1;32m    551\u001b[0m \u001b[38;5;28;01mdef\u001b[39;00m \u001b[38;5;21mopen_dataset\u001b[39m(\n\u001b[1;32m    552\u001b[0m     \u001b[38;5;28mself\u001b[39m,\n\u001b[1;32m    553\u001b[0m     filename_or_obj,\n\u001b[0;32m   (...)\u001b[0m\n\u001b[1;32m    568\u001b[0m     autoclose\u001b[38;5;241m=\u001b[39m\u001b[38;5;28;01mFalse\u001b[39;00m,\n\u001b[1;32m    569\u001b[0m ):\n\u001b[1;32m    571\u001b[0m     filename_or_obj \u001b[38;5;241m=\u001b[39m _normalize_path(filename_or_obj)\n\u001b[0;32m--> 572\u001b[0m     store \u001b[38;5;241m=\u001b[39m \u001b[43mNetCDF4DataStore\u001b[49m\u001b[38;5;241;43m.\u001b[39;49m\u001b[43mopen\u001b[49m\u001b[43m(\u001b[49m\n\u001b[1;32m    573\u001b[0m \u001b[43m        \u001b[49m\u001b[43mfilename_or_obj\u001b[49m\u001b[43m,\u001b[49m\n\u001b[1;32m    574\u001b[0m \u001b[43m        \u001b[49m\u001b[43mmode\u001b[49m\u001b[38;5;241;43m=\u001b[39;49m\u001b[43mmode\u001b[49m\u001b[43m,\u001b[49m\n\u001b[1;32m    575\u001b[0m \u001b[43m        \u001b[49m\u001b[38;5;28;43mformat\u001b[39;49m\u001b[38;5;241;43m=\u001b[39;49m\u001b[38;5;28;43mformat\u001b[39;49m\u001b[43m,\u001b[49m\n\u001b[1;32m    576\u001b[0m \u001b[43m        \u001b[49m\u001b[43mgroup\u001b[49m\u001b[38;5;241;43m=\u001b[39;49m\u001b[43mgroup\u001b[49m\u001b[43m,\u001b[49m\n\u001b[1;32m    577\u001b[0m \u001b[43m        \u001b[49m\u001b[43mclobber\u001b[49m\u001b[38;5;241;43m=\u001b[39;49m\u001b[43mclobber\u001b[49m\u001b[43m,\u001b[49m\n\u001b[1;32m    578\u001b[0m \u001b[43m        \u001b[49m\u001b[43mdiskless\u001b[49m\u001b[38;5;241;43m=\u001b[39;49m\u001b[43mdiskless\u001b[49m\u001b[43m,\u001b[49m\n\u001b[1;32m    579\u001b[0m \u001b[43m        \u001b[49m\u001b[43mpersist\u001b[49m\u001b[38;5;241;43m=\u001b[39;49m\u001b[43mpersist\u001b[49m\u001b[43m,\u001b[49m\n\u001b[1;32m    580\u001b[0m \u001b[43m        \u001b[49m\u001b[43mlock\u001b[49m\u001b[38;5;241;43m=\u001b[39;49m\u001b[43mlock\u001b[49m\u001b[43m,\u001b[49m\n\u001b[1;32m    581\u001b[0m \u001b[43m        \u001b[49m\u001b[43mautoclose\u001b[49m\u001b[38;5;241;43m=\u001b[39;49m\u001b[43mautoclose\u001b[49m\u001b[43m,\u001b[49m\n\u001b[1;32m    582\u001b[0m \u001b[43m    \u001b[49m\u001b[43m)\u001b[49m\n\u001b[1;32m    584\u001b[0m     store_entrypoint \u001b[38;5;241m=\u001b[39m StoreBackendEntrypoint()\n\u001b[1;32m    585\u001b[0m     \u001b[38;5;28;01mwith\u001b[39;00m close_on_error(store):\n",
      "File \u001b[0;32m~/miniconda3/envs/py311/lib/python3.11/site-packages/xarray/backends/netCDF4_.py:376\u001b[0m, in \u001b[0;36mNetCDF4DataStore.open\u001b[0;34m(cls, filename, mode, format, group, clobber, diskless, persist, lock, lock_maker, autoclose)\u001b[0m\n\u001b[1;32m    370\u001b[0m kwargs \u001b[38;5;241m=\u001b[39m \u001b[38;5;28mdict\u001b[39m(\n\u001b[1;32m    371\u001b[0m     clobber\u001b[38;5;241m=\u001b[39mclobber, diskless\u001b[38;5;241m=\u001b[39mdiskless, persist\u001b[38;5;241m=\u001b[39mpersist, \u001b[38;5;28mformat\u001b[39m\u001b[38;5;241m=\u001b[39m\u001b[38;5;28mformat\u001b[39m\n\u001b[1;32m    372\u001b[0m )\n\u001b[1;32m    373\u001b[0m manager \u001b[38;5;241m=\u001b[39m CachingFileManager(\n\u001b[1;32m    374\u001b[0m     netCDF4\u001b[38;5;241m.\u001b[39mDataset, filename, mode\u001b[38;5;241m=\u001b[39mmode, kwargs\u001b[38;5;241m=\u001b[39mkwargs\n\u001b[1;32m    375\u001b[0m )\n\u001b[0;32m--> 376\u001b[0m \u001b[38;5;28;01mreturn\u001b[39;00m \u001b[38;5;28;43mcls\u001b[39;49m\u001b[43m(\u001b[49m\u001b[43mmanager\u001b[49m\u001b[43m,\u001b[49m\u001b[43m \u001b[49m\u001b[43mgroup\u001b[49m\u001b[38;5;241;43m=\u001b[39;49m\u001b[43mgroup\u001b[49m\u001b[43m,\u001b[49m\u001b[43m \u001b[49m\u001b[43mmode\u001b[49m\u001b[38;5;241;43m=\u001b[39;49m\u001b[43mmode\u001b[49m\u001b[43m,\u001b[49m\u001b[43m \u001b[49m\u001b[43mlock\u001b[49m\u001b[38;5;241;43m=\u001b[39;49m\u001b[43mlock\u001b[49m\u001b[43m,\u001b[49m\u001b[43m \u001b[49m\u001b[43mautoclose\u001b[49m\u001b[38;5;241;43m=\u001b[39;49m\u001b[43mautoclose\u001b[49m\u001b[43m)\u001b[49m\n",
      "File \u001b[0;32m~/miniconda3/envs/py311/lib/python3.11/site-packages/xarray/backends/netCDF4_.py:323\u001b[0m, in \u001b[0;36mNetCDF4DataStore.__init__\u001b[0;34m(self, manager, group, mode, lock, autoclose)\u001b[0m\n\u001b[1;32m    321\u001b[0m \u001b[38;5;28mself\u001b[39m\u001b[38;5;241m.\u001b[39m_group \u001b[38;5;241m=\u001b[39m group\n\u001b[1;32m    322\u001b[0m \u001b[38;5;28mself\u001b[39m\u001b[38;5;241m.\u001b[39m_mode \u001b[38;5;241m=\u001b[39m mode\n\u001b[0;32m--> 323\u001b[0m \u001b[38;5;28mself\u001b[39m\u001b[38;5;241m.\u001b[39mformat \u001b[38;5;241m=\u001b[39m \u001b[38;5;28;43mself\u001b[39;49m\u001b[38;5;241;43m.\u001b[39;49m\u001b[43mds\u001b[49m\u001b[38;5;241m.\u001b[39mdata_model\n\u001b[1;32m    324\u001b[0m \u001b[38;5;28mself\u001b[39m\u001b[38;5;241m.\u001b[39m_filename \u001b[38;5;241m=\u001b[39m \u001b[38;5;28mself\u001b[39m\u001b[38;5;241m.\u001b[39mds\u001b[38;5;241m.\u001b[39mfilepath()\n\u001b[1;32m    325\u001b[0m \u001b[38;5;28mself\u001b[39m\u001b[38;5;241m.\u001b[39mis_remote \u001b[38;5;241m=\u001b[39m is_remote_uri(\u001b[38;5;28mself\u001b[39m\u001b[38;5;241m.\u001b[39m_filename)\n",
      "File \u001b[0;32m~/miniconda3/envs/py311/lib/python3.11/site-packages/xarray/backends/netCDF4_.py:385\u001b[0m, in \u001b[0;36mNetCDF4DataStore.ds\u001b[0;34m(self)\u001b[0m\n\u001b[1;32m    383\u001b[0m \u001b[38;5;129m@property\u001b[39m\n\u001b[1;32m    384\u001b[0m \u001b[38;5;28;01mdef\u001b[39;00m \u001b[38;5;21mds\u001b[39m(\u001b[38;5;28mself\u001b[39m):\n\u001b[0;32m--> 385\u001b[0m     \u001b[38;5;28;01mreturn\u001b[39;00m \u001b[38;5;28;43mself\u001b[39;49m\u001b[38;5;241;43m.\u001b[39;49m\u001b[43m_acquire\u001b[49m\u001b[43m(\u001b[49m\u001b[43m)\u001b[49m\n",
      "File \u001b[0;32m~/miniconda3/envs/py311/lib/python3.11/site-packages/xarray/backends/netCDF4_.py:379\u001b[0m, in \u001b[0;36mNetCDF4DataStore._acquire\u001b[0;34m(self, needs_lock)\u001b[0m\n\u001b[1;32m    378\u001b[0m \u001b[38;5;28;01mdef\u001b[39;00m \u001b[38;5;21m_acquire\u001b[39m(\u001b[38;5;28mself\u001b[39m, needs_lock\u001b[38;5;241m=\u001b[39m\u001b[38;5;28;01mTrue\u001b[39;00m):\n\u001b[0;32m--> 379\u001b[0m \u001b[43m    \u001b[49m\u001b[38;5;28;43;01mwith\u001b[39;49;00m\u001b[43m \u001b[49m\u001b[38;5;28;43mself\u001b[39;49m\u001b[38;5;241;43m.\u001b[39;49m\u001b[43m_manager\u001b[49m\u001b[38;5;241;43m.\u001b[39;49m\u001b[43macquire_context\u001b[49m\u001b[43m(\u001b[49m\u001b[43mneeds_lock\u001b[49m\u001b[43m)\u001b[49m\u001b[43m \u001b[49m\u001b[38;5;28;43;01mas\u001b[39;49;00m\u001b[43m \u001b[49m\u001b[43mroot\u001b[49m\u001b[43m:\u001b[49m\n\u001b[1;32m    380\u001b[0m \u001b[43m        \u001b[49m\u001b[43mds\u001b[49m\u001b[43m \u001b[49m\u001b[38;5;241;43m=\u001b[39;49m\u001b[43m \u001b[49m\u001b[43m_nc4_require_group\u001b[49m\u001b[43m(\u001b[49m\u001b[43mroot\u001b[49m\u001b[43m,\u001b[49m\u001b[43m \u001b[49m\u001b[38;5;28;43mself\u001b[39;49m\u001b[38;5;241;43m.\u001b[39;49m\u001b[43m_group\u001b[49m\u001b[43m,\u001b[49m\u001b[43m \u001b[49m\u001b[38;5;28;43mself\u001b[39;49m\u001b[38;5;241;43m.\u001b[39;49m\u001b[43m_mode\u001b[49m\u001b[43m)\u001b[49m\n\u001b[1;32m    381\u001b[0m     \u001b[38;5;28;01mreturn\u001b[39;00m ds\n",
      "File \u001b[0;32m~/miniconda3/envs/py311/lib/python3.11/contextlib.py:137\u001b[0m, in \u001b[0;36m_GeneratorContextManager.__enter__\u001b[0;34m(self)\u001b[0m\n\u001b[1;32m    135\u001b[0m \u001b[38;5;28;01mdel\u001b[39;00m \u001b[38;5;28mself\u001b[39m\u001b[38;5;241m.\u001b[39margs, \u001b[38;5;28mself\u001b[39m\u001b[38;5;241m.\u001b[39mkwds, \u001b[38;5;28mself\u001b[39m\u001b[38;5;241m.\u001b[39mfunc\n\u001b[1;32m    136\u001b[0m \u001b[38;5;28;01mtry\u001b[39;00m:\n\u001b[0;32m--> 137\u001b[0m     \u001b[38;5;28;01mreturn\u001b[39;00m \u001b[38;5;28mnext\u001b[39m(\u001b[38;5;28mself\u001b[39m\u001b[38;5;241m.\u001b[39mgen)\n\u001b[1;32m    138\u001b[0m \u001b[38;5;28;01mexcept\u001b[39;00m \u001b[38;5;167;01mStopIteration\u001b[39;00m:\n\u001b[1;32m    139\u001b[0m     \u001b[38;5;28;01mraise\u001b[39;00m \u001b[38;5;167;01mRuntimeError\u001b[39;00m(\u001b[38;5;124m\"\u001b[39m\u001b[38;5;124mgenerator didn\u001b[39m\u001b[38;5;124m'\u001b[39m\u001b[38;5;124mt yield\u001b[39m\u001b[38;5;124m\"\u001b[39m) \u001b[38;5;28;01mfrom\u001b[39;00m \u001b[38;5;28mNone\u001b[39m\n",
      "File \u001b[0;32m~/miniconda3/envs/py311/lib/python3.11/site-packages/xarray/backends/file_manager.py:197\u001b[0m, in \u001b[0;36mCachingFileManager.acquire_context\u001b[0;34m(self, needs_lock)\u001b[0m\n\u001b[1;32m    194\u001b[0m \u001b[38;5;129m@contextlib\u001b[39m\u001b[38;5;241m.\u001b[39mcontextmanager\n\u001b[1;32m    195\u001b[0m \u001b[38;5;28;01mdef\u001b[39;00m \u001b[38;5;21macquire_context\u001b[39m(\u001b[38;5;28mself\u001b[39m, needs_lock\u001b[38;5;241m=\u001b[39m\u001b[38;5;28;01mTrue\u001b[39;00m):\n\u001b[1;32m    196\u001b[0m     \u001b[38;5;124;03m\"\"\"Context manager for acquiring a file.\"\"\"\u001b[39;00m\n\u001b[0;32m--> 197\u001b[0m     file, cached \u001b[38;5;241m=\u001b[39m \u001b[38;5;28;43mself\u001b[39;49m\u001b[38;5;241;43m.\u001b[39;49m\u001b[43m_acquire_with_cache_info\u001b[49m\u001b[43m(\u001b[49m\u001b[43mneeds_lock\u001b[49m\u001b[43m)\u001b[49m\n\u001b[1;32m    198\u001b[0m     \u001b[38;5;28;01mtry\u001b[39;00m:\n\u001b[1;32m    199\u001b[0m         \u001b[38;5;28;01myield\u001b[39;00m file\n",
      "File \u001b[0;32m~/miniconda3/envs/py311/lib/python3.11/site-packages/xarray/backends/file_manager.py:215\u001b[0m, in \u001b[0;36mCachingFileManager._acquire_with_cache_info\u001b[0;34m(self, needs_lock)\u001b[0m\n\u001b[1;32m    213\u001b[0m     kwargs \u001b[38;5;241m=\u001b[39m kwargs\u001b[38;5;241m.\u001b[39mcopy()\n\u001b[1;32m    214\u001b[0m     kwargs[\u001b[38;5;124m\"\u001b[39m\u001b[38;5;124mmode\u001b[39m\u001b[38;5;124m\"\u001b[39m] \u001b[38;5;241m=\u001b[39m \u001b[38;5;28mself\u001b[39m\u001b[38;5;241m.\u001b[39m_mode\n\u001b[0;32m--> 215\u001b[0m file \u001b[38;5;241m=\u001b[39m \u001b[38;5;28;43mself\u001b[39;49m\u001b[38;5;241;43m.\u001b[39;49m\u001b[43m_opener\u001b[49m\u001b[43m(\u001b[49m\u001b[38;5;241;43m*\u001b[39;49m\u001b[38;5;28;43mself\u001b[39;49m\u001b[38;5;241;43m.\u001b[39;49m\u001b[43m_args\u001b[49m\u001b[43m,\u001b[49m\u001b[43m \u001b[49m\u001b[38;5;241;43m*\u001b[39;49m\u001b[38;5;241;43m*\u001b[39;49m\u001b[43mkwargs\u001b[49m\u001b[43m)\u001b[49m\n\u001b[1;32m    216\u001b[0m \u001b[38;5;28;01mif\u001b[39;00m \u001b[38;5;28mself\u001b[39m\u001b[38;5;241m.\u001b[39m_mode \u001b[38;5;241m==\u001b[39m \u001b[38;5;124m\"\u001b[39m\u001b[38;5;124mw\u001b[39m\u001b[38;5;124m\"\u001b[39m:\n\u001b[1;32m    217\u001b[0m     \u001b[38;5;66;03m# ensure file doesn't get overridden when opened again\u001b[39;00m\n\u001b[1;32m    218\u001b[0m     \u001b[38;5;28mself\u001b[39m\u001b[38;5;241m.\u001b[39m_mode \u001b[38;5;241m=\u001b[39m \u001b[38;5;124m\"\u001b[39m\u001b[38;5;124ma\u001b[39m\u001b[38;5;124m\"\u001b[39m\n",
      "File \u001b[0;32msrc/netCDF4/_netCDF4.pyx:2463\u001b[0m, in \u001b[0;36mnetCDF4._netCDF4.Dataset.__init__\u001b[0;34m()\u001b[0m\n",
      "File \u001b[0;32msrc/netCDF4/_netCDF4.pyx:2026\u001b[0m, in \u001b[0;36mnetCDF4._netCDF4._ensure_nc_success\u001b[0;34m()\u001b[0m\n",
      "\u001b[0;31mFileNotFoundError\u001b[0m: [Errno 2] No such file or directory: b'/projekt6/ag_maahn/data_obs_nobackup/nyaalesund/visss_2023.1.6/metaRotation/2022/05/04/metaRotation_V2023.1.6_nyaalesund_visss01_visss2_trigger_S1242799_20220504.nc'"
     ]
    }
   ],
   "source": [
    "fout, matchedDat, rot5, rot_err5 = VISSSlib.matching.matchParticles(fname1L, config, rotate=rot4, rotate_err=rot_err4, minSamples4rot=5)\n"
   ]
  },
  {
   "cell_type": "code",
   "execution_count": 16,
   "id": "90fb234d",
   "metadata": {},
   "outputs": [
    {
     "data": {
      "text/plain": [
       "array([1., 1.])"
      ]
     },
     "execution_count": 16,
     "metadata": {},
     "output_type": "execute_result"
    }
   ],
   "source": []
  },
  {
   "cell_type": "code",
   "execution_count": null,
   "id": "3827e4fd",
   "metadata": {},
   "outputs": [],
   "source": []
  },
  {
   "cell_type": "code",
   "execution_count": null,
   "id": "31a6669f",
   "metadata": {
    "ExecuteTime": {
     "end_time": "2022-12-07T15:35:33.333756Z",
     "start_time": "2022-12-07T15:35:33.333745Z"
    }
   },
   "outputs": [],
   "source": [
    "(matchedDat.position3D.sel(position3D_elements=\"z\") - matchedDat.position3D.sel(position3D_elements=\"z_rotated\")).plot.hist(bins=np.arange(-10,11,1))"
   ]
  },
  {
   "cell_type": "code",
   "execution_count": null,
   "id": "7d8f2cae",
   "metadata": {
    "ExecuteTime": {
     "end_time": "2022-11-09T16:07:04.184217Z",
     "start_time": "2022-11-09T16:07:04.180290Z"
    }
   },
   "outputs": [],
   "source": []
  },
  {
   "cell_type": "code",
   "execution_count": null,
   "id": "e210e9c5",
   "metadata": {
    "ExecuteTime": {
     "end_time": "2022-12-07T15:06:26.529836Z",
     "start_time": "2022-12-07T15:06:26.480587Z"
    }
   },
   "outputs": [],
   "source": [
    "ii = (matchedDat.Dmax.mean(\"camera\")> 20) & (matchedDat.blur.mean(\"camera\")> 500)\n",
    "ii = (matchedDat.Dmax.mean(\"camera\")> 1) & (matchedDat.blur.mean(\"camera\")> 1)\n",
    "matchedDat1 = matchedDat.isel(pair_id=ii)"
   ]
  },
  {
   "cell_type": "code",
   "execution_count": null,
   "id": "a7ea8f10",
   "metadata": {
    "ExecuteTime": {
     "end_time": "2022-12-07T15:06:26.535523Z",
     "start_time": "2022-12-07T15:06:26.532196Z"
    }
   },
   "outputs": [],
   "source": [
    "bins = np.linspace(0, config.frame_width, 21)"
   ]
  },
  {
   "cell_type": "code",
   "execution_count": null,
   "id": "c1205826",
   "metadata": {
    "ExecuteTime": {
     "end_time": "2022-12-07T15:06:26.915135Z",
     "start_time": "2022-12-07T15:06:26.537556Z"
    }
   },
   "outputs": [],
   "source": [
    "x =(matchedDat1.roi.sel(ROI_elements=\"x\", camera=config.follower) +\n",
    "                        (matchedDat1.roi.sel(ROI_elements=\"w\", camera=config.follower)/2))\n",
    "\n",
    "plt.scatter(x, matchedDat1.blur.sel(camera=config.leader))\n",
    "\n",
    "med = matchedDat1.blur.sel(camera=config.leader).groupby_bins(x, bins=bins).median()\n",
    "\n",
    "med.plot(color=\"C1\", label=\"median\")\n",
    "\n",
    "peakPos = med.roi_bins[[med.argmax()]].values[0].mid\n",
    "plt.axvline(peakPos, color=\"C2\", label=\"actual peak position\")\n",
    "plt.axvline(config.frame_width//2, color=\"C3\", label=\"best peak position\")\n",
    "\n",
    "plt.legend()\n",
    "plt.xlabel(\"x position in cam coordinates (from follower)\")\n",
    "distance = peakPos-config.frame_width//2\n",
    "distanceMM = distance*config.resolution/1000\n",
    "plt.title(\"follower aiming quality: %i px = %.1f mm\"%(distance, distanceMM))\n",
    "\n",
    "plt.xlim(0,config.frame_width)"
   ]
  },
  {
   "cell_type": "code",
   "execution_count": null,
   "id": "80c8d092",
   "metadata": {
    "ExecuteTime": {
     "end_time": "2022-12-07T15:06:27.228843Z",
     "start_time": "2022-12-07T15:06:26.917459Z"
    }
   },
   "outputs": [],
   "source": [
    "x =(matchedDat1.roi.sel(ROI_elements=\"x\", camera=config.leader) +\n",
    "                        (matchedDat1.roi.sel(ROI_elements=\"w\", camera=config.leader)/2))\n",
    "\n",
    "plt.scatter(x, matchedDat1.blur.sel(camera=config.follower))\n",
    "\n",
    "\n",
    "med = matchedDat1.blur.sel(camera=config.follower).groupby_bins(x, bins=bins).median()\n",
    "\n",
    "med.plot(color=\"C1\", label=\"median\")\n",
    "\n",
    "peakPos = med.roi_bins[[med.argmax()]].values[0].mid\n",
    "plt.axvline(peakPos, color=\"C2\", label=\"actual peak position\")\n",
    "plt.axvline(config.frame_width//2, color=\"C3\", label=\"best peak position\")\n",
    "\n",
    "plt.legend()\n",
    "plt.xlabel(\"x position in cam coordinates (from leader)\")\n",
    "\n",
    "distance = peakPos-config.frame_width//2\n",
    "distanceMM = distance*config.resolution/1000\n",
    "plt.title(\"leader aiming quality: %i px = %.1f mm\"%(distance, distanceMM))\n",
    "\n",
    "plt.xlim(0,config.frame_width)"
   ]
  },
  {
   "cell_type": "code",
   "execution_count": null,
   "id": "168b3859",
   "metadata": {
    "ExecuteTime": {
     "end_time": "2022-12-07T15:06:27.255573Z",
     "start_time": "2022-12-07T15:06:27.231133Z"
    }
   },
   "outputs": [],
   "source": [
    "med"
   ]
  },
  {
   "cell_type": "code",
   "execution_count": null,
   "id": "b5739599",
   "metadata": {
    "ExecuteTime": {
     "end_time": "2022-12-07T15:06:27.262157Z",
     "start_time": "2022-12-07T15:06:27.257352Z"
    }
   },
   "outputs": [],
   "source": [
    "config"
   ]
  },
  {
   "cell_type": "markdown",
   "id": "e80f660f",
   "metadata": {},
   "source": [
    "# volume"
   ]
  },
  {
   "cell_type": "code",
   "execution_count": null,
   "id": "9affa31d",
   "metadata": {
    "ExecuteTime": {
     "end_time": "2022-12-07T15:06:27.266712Z",
     "start_time": "2022-12-07T15:06:27.264280Z"
    }
   },
   "outputs": [],
   "source": [
    "import VISSSlib\n",
    "import numpy as np"
   ]
  },
  {
   "cell_type": "code",
   "execution_count": null,
   "id": "0d18ea1d",
   "metadata": {
    "ExecuteTime": {
     "end_time": "2022-12-07T15:06:27.272763Z",
     "start_time": "2022-12-07T15:06:27.268815Z"
    }
   },
   "outputs": [],
   "source": [
    " rot4 = rotate =    {\n",
    "      \"Of_z\": -31.124908,\n",
    "      \"phi\": 3.285133,\n",
    "      \"theta\": 3.317632,\n",
    "    }"
   ]
  },
  {
   "cell_type": "code",
   "execution_count": null,
   "id": "b384efe4",
   "metadata": {
    "ExecuteTime": {
     "end_time": "2022-12-07T15:06:27.278011Z",
     "start_time": "2022-12-07T15:06:27.274487Z"
    }
   },
   "outputs": [],
   "source": [
    "x = np.array([0, config.frame_width,  config.frame_width, 0, 0, config.frame_width,  config.frame_width, 0])\n",
    "y = np.array([0, 0, config.frame_width, config.frame_width, config.frame_width, config.frame_width, 0, 0])\n",
    "z = np.array([0, 0, 0, 0, config.frame_height, config.frame_height, config.frame_height, config.frame_height])\n",
    "\n",
    "\n",
    "\n"
   ]
  },
  {
   "cell_type": "code",
   "execution_count": null,
   "id": "c1c07cf2",
   "metadata": {
    "ExecuteTime": {
     "end_time": "2022-12-07T15:06:27.297178Z",
     "start_time": "2022-12-07T15:06:27.279856Z"
    }
   },
   "outputs": [],
   "source": [
    "x1, y1, z1 = VISSSlib.matching.shiftRotate_F2L(x,y,z, phi = rotate[\"phi\"], theta = rotate[\"theta\"], psi=0, Ol_x=0, Of_y=0, Of_z = rotate[\"Of_z\"])\n",
    "\n",
    "x2, y2, z2 = VISSSlib.matching.shiftRotate_L2F(x,y,z, phi = rotate[\"phi\"], theta = rotate[\"theta\"], psi=0, Ol_x=0, Of_y=0, Of_z = rotate[\"Of_z\"])"
   ]
  },
  {
   "cell_type": "code",
   "execution_count": null,
   "id": "f9c6a184",
   "metadata": {
    "ExecuteTime": {
     "end_time": "2022-12-07T15:06:27.299394Z",
     "start_time": "2022-12-07T15:06:27.299384Z"
    }
   },
   "outputs": [],
   "source": [
    "z1, z2"
   ]
  },
  {
   "cell_type": "code",
   "execution_count": null,
   "id": "d00ed44c",
   "metadata": {
    "ExecuteTime": {
     "end_time": "2022-12-07T15:06:27.301119Z",
     "start_time": "2022-12-07T15:06:27.301109Z"
    }
   },
   "outputs": [],
   "source": [
    "rotate"
   ]
  },
  {
   "cell_type": "code",
   "execution_count": null,
   "id": "6f2379f1",
   "metadata": {
    "ExecuteTime": {
     "end_time": "2022-12-07T15:06:27.302517Z",
     "start_time": "2022-12-07T15:06:27.302507Z"
    }
   },
   "outputs": [],
   "source": [
    "%matplotlib widget\n",
    "\n"
   ]
  },
  {
   "cell_type": "code",
   "execution_count": null,
   "id": "6e380dac",
   "metadata": {
    "ExecuteTime": {
     "end_time": "2022-12-07T15:06:27.303415Z",
     "start_time": "2022-12-07T15:06:27.303406Z"
    }
   },
   "outputs": [],
   "source": [
    "import polytope as pc\n",
    "import numpy as np\n",
    "\n",
    "A = np.array([[1.0, 0.0],\n",
    "              [0.0, 1.0],\n",
    "              [-1.0, -0.0],\n",
    "              [-0.0, -1.0]])\n",
    "\n",
    "b = np.array([2.0, 1.0, 0.0, 0.0])\n",
    "\n",
    "p = pc.Polytope(A, b)"
   ]
  },
  {
   "cell_type": "code",
   "execution_count": null,
   "id": "88dd164e",
   "metadata": {
    "ExecuteTime": {
     "end_time": "2022-12-07T15:06:27.305074Z",
     "start_time": "2022-12-07T15:06:27.305064Z"
    }
   },
   "outputs": [],
   "source": [
    "print(p)"
   ]
  },
  {
   "cell_type": "code",
   "execution_count": null,
   "id": "35a91f4e",
   "metadata": {
    "ExecuteTime": {
     "end_time": "2022-12-07T15:06:27.306061Z",
     "start_time": "2022-12-07T15:06:27.306052Z"
    }
   },
   "outputs": [],
   "source": [
    "p = pc.box2poly([[0, 2], [0, 1]])\n",
    "print(p)"
   ]
  },
  {
   "cell_type": "code",
   "execution_count": null,
   "id": "dbb2b77e",
   "metadata": {
    "ExecuteTime": {
     "end_time": "2022-12-07T15:06:27.306850Z",
     "start_time": "2022-12-07T15:06:27.306841Z"
    }
   },
   "outputs": [],
   "source": [
    " pc.box2poly?"
   ]
  },
  {
   "cell_type": "code",
   "execution_count": null,
   "id": "54dc50c4",
   "metadata": {
    "ExecuteTime": {
     "end_time": "2022-12-07T15:06:27.308334Z",
     "start_time": "2022-12-07T15:06:27.308324Z"
    }
   },
   "outputs": [],
   "source": [
    "p.volume"
   ]
  },
  {
   "cell_type": "code",
   "execution_count": null,
   "id": "3dc93df8",
   "metadata": {
    "ExecuteTime": {
     "end_time": "2022-12-07T15:06:27.309339Z",
     "start_time": "2022-12-07T15:06:27.309330Z"
    }
   },
   "outputs": [],
   "source": [
    "from Geometry3D import *\n",
    "a = Point(1,1,1)\n",
    "b = Point(0,1,1)\n",
    "c = Point(0,0,1)\n",
    "d = Point(1,0,1)\n",
    "e = Point(1,1,0)\n",
    "f = Point(0,1,0)\n",
    "g = Point(0,0,0)\n",
    "h = Point(1,0,0)\n",
    "cpg0 = ConvexPolygon((a,d,h,e))\n",
    "cpg1 = ConvexPolygon((a,e,f,b))\n",
    "cpg2 = ConvexPolygon((c,b,f,g))\n",
    "cpg3 = ConvexPolygon((c,g,h,d))\n",
    "cpg4 = ConvexPolygon((a,b,c,d))\n",
    "cpg5 = ConvexPolygon((e,h,g,f))\n",
    "cph0 = ConvexPolyhedron((cpg0,cpg1,cpg2,cpg3,cpg4,cpg5))\n",
    "cph0"
   ]
  },
  {
   "cell_type": "code",
   "execution_count": null,
   "id": "61d9756c",
   "metadata": {
    "ExecuteTime": {
     "end_time": "2022-12-07T15:06:27.310830Z",
     "start_time": "2022-12-07T15:06:27.310821Z"
    }
   },
   "outputs": [],
   "source": [
    "import matplotlib.pyplot as plt"
   ]
  },
  {
   "cell_type": "code",
   "execution_count": null,
   "id": "e95f45fd",
   "metadata": {
    "ExecuteTime": {
     "end_time": "2022-12-07T15:06:27.311763Z",
     "start_time": "2022-12-07T15:06:27.311755Z"
    }
   },
   "outputs": [],
   "source": [
    "%matplotlib inline"
   ]
  },
  {
   "cell_type": "code",
   "execution_count": null,
   "id": "edc57b6d",
   "metadata": {
    "ExecuteTime": {
     "end_time": "2022-12-07T15:06:27.312891Z",
     "start_time": "2022-12-07T15:06:27.312882Z"
    }
   },
   "outputs": [],
   "source": [
    "Point?"
   ]
  },
  {
   "cell_type": "code",
   "execution_count": null,
   "id": "8cebc684",
   "metadata": {
    "ExecuteTime": {
     "end_time": "2022-12-07T15:06:27.314194Z",
     "start_time": "2022-12-07T15:06:27.314184Z"
    }
   },
   "outputs": [],
   "source": [
    "width = 1280\n",
    "height = 1024"
   ]
  },
  {
   "cell_type": "code",
   "execution_count": null,
   "id": "9f3499f3",
   "metadata": {
    "ExecuteTime": {
     "end_time": "2022-12-07T15:06:27.315515Z",
     "start_time": "2022-12-07T15:06:27.315506Z"
    }
   },
   "outputs": [],
   "source": [
    "config.frame_width"
   ]
  },
  {
   "cell_type": "code",
   "execution_count": null,
   "id": "c805b9cc",
   "metadata": {
    "ExecuteTime": {
     "end_time": "2022-12-07T15:06:27.317246Z",
     "start_time": "2022-12-07T15:06:27.317236Z"
    }
   },
   "outputs": [],
   "source": [
    "from Geometry3D import *\n",
    "\n",
    "# depth is unknown (y) so take 3*w!\n",
    "\n",
    "a = Point(width,2*width,height)\n",
    "b = Point(0,2*width,height)\n",
    "c = Point(0,-width,height)\n",
    "d = Point(width,-width,height)\n",
    "e = Point(width,2*width,0)\n",
    "f = Point(0,2*width,0)\n",
    "g = Point(0,-width,0)\n",
    "h = Point(width,-width,0)\n",
    "cpg0 = ConvexPolygon((a,d,h,e))\n",
    "cpg1 = ConvexPolygon((a,e,f,b))\n",
    "cpg2 = ConvexPolygon((c,b,f,g))\n",
    "cpg3 = ConvexPolygon((c,g,h,d))\n",
    "cpg4 = ConvexPolygon((a,b,c,d))\n",
    "cpg5 = ConvexPolygon((e,h,g,f))\n",
    "leader = ConvexPolyhedron((cpg0,cpg1,cpg2,cpg3,cpg4,cpg5))\n",
    "\n",
    "r = Renderer()\n",
    "r.add((leader,'r',1))\n",
    "r.show()\n",
    "\n",
    "\n",
    "leader.volume()\n"
   ]
  },
  {
   "cell_type": "code",
   "execution_count": null,
   "id": "2d917234",
   "metadata": {
    "ExecuteTime": {
     "end_time": "2022-12-07T15:06:27.318192Z",
     "start_time": "2022-12-07T15:06:27.318163Z"
    }
   },
   "outputs": [],
   "source": [
    "from Geometry3D import *\n",
    "from VISSSlib import matching\n",
    "r = Renderer()\n",
    "\n",
    "\n",
    "a = Point(width,2*width,height)\n",
    "b = Point(0,2*width,height)\n",
    "c = Point(0,-width,height)\n",
    "d = Point(width,-width,height)\n",
    "e = Point(width,2*width,0)\n",
    "f = Point(0,2*width,0)\n",
    "g = Point(0,-width,0)\n",
    "h = Point(width,-width,0)\n",
    "cpg0 = ConvexPolygon((a,d,h,e))\n",
    "cpg1 = ConvexPolygon((a,e,f,b))\n",
    "cpg2 = ConvexPolygon((c,b,f,g))\n",
    "cpg3 = ConvexPolygon((c,g,h,d))\n",
    "cpg4 = ConvexPolygon((a,b,c,d))\n",
    "cpg5 = ConvexPolygon((e,h,g,f))\n",
    "leader = ConvexPolyhedron((cpg0,cpg1,cpg2,cpg3,cpg4,cpg5))\n",
    "\n",
    "r.add((leader,'r',1))\n",
    "\n",
    "#strange result\n",
    "phi = 1\n",
    "theta =1\n",
    "Of_z = 1\n",
    "\n",
    "#ValueError: Check for the number of vertices, faces and edges fails, the polyhedron may not be closed\n",
    "phi = 3\n",
    "theta =3\n",
    "Of_z = 10\n",
    "\n",
    "# works\n",
    "phi = 0\n",
    "theta =0\n",
    "Of_z = 10\n",
    "\n",
    "# works\n",
    "phi = 90\n",
    "theta =0\n",
    "Of_z = 0\n",
    "\n",
    "# ValueError: Expected 1 values, got 0\n",
    "phi = 1\n",
    "theta =1\n",
    "Of_z = 0\n",
    "\n",
    "\n",
    "# depth is unknown (x) so take 3*w!\n",
    "\n",
    "a = Point(*shiftRotate_F2L(2*width,width,height, phi=phi, theta=theta, psi=0, Ol_x=0, Of_y=0, Of_z=Of_z))\n",
    "b = Point(*shiftRotate_F2L(-width,width,height, phi=phi, theta=theta, psi=0, Ol_x=0, Of_y=0, Of_z=Of_z))\n",
    "c = Point(*shiftRotate_F2L(-width,0,height, phi=phi, theta=theta, psi=0, Ol_x=0, Of_y=0, Of_z=Of_z))\n",
    "d = Point(*shiftRotate_F2L(2*width,0,height, phi=phi, theta=theta, psi=0, Ol_x=0, Of_y=0, Of_z=Of_z))\n",
    "e = Point(*shiftRotate_F2L(2*width,width,0, phi=phi, theta=theta, psi=0, Ol_x=0, Of_y=0, Of_z=Of_z))\n",
    "f = Point(*shiftRotate_F2L(-width,width,0, phi=phi, theta=theta, psi=0, Ol_x=0, Of_y=0, Of_z=Of_z))\n",
    "g = Point(*shiftRotate_F2L(-width,0,0, phi=phi, theta=theta, psi=0, Ol_x=0, Of_y=0, Of_z=Of_z))\n",
    "h = Point(*shiftRotate_F2L(2*width,0,0, phi=phi, theta=theta, psi=0, Ol_x=0, Of_y=0, Of_z=Of_z))\n",
    "cpg0 = ConvexPolygon((a,d,h,e))\n",
    "cpg1 = ConvexPolygon((a,e,f,b))\n",
    "cpg2 = ConvexPolygon((c,b,f,g))\n",
    "cpg3 = ConvexPolygon((c,g,h,d))\n",
    "cpg4 = ConvexPolygon((a,b,c,d))\n",
    "cpg5 = ConvexPolygon((e,h,g,f))\n",
    "follower = ConvexPolyhedron((cpg0,cpg1,cpg2,cpg3,cpg4,cpg5))\n",
    "\n",
    "r.add((follower,'b',1))\n",
    "\n",
    "obsVolume = intersection(leader,follower)\n",
    "r.add((obsVolume,'k',1))\n",
    "\n",
    "r.show()\n",
    "\n",
    "\n",
    "follower.volume()\n",
    "obsVolume.volume()"
   ]
  },
  {
   "cell_type": "code",
   "execution_count": null,
   "id": "3d46627c",
   "metadata": {
    "ExecuteTime": {
     "end_time": "2022-12-07T15:06:27.319457Z",
     "start_time": "2022-12-07T15:06:27.319448Z"
    }
   },
   "outputs": [],
   "source": [
    "from Geometry3D import *\n",
    "from VISSSlib.matching import shiftRotate_F2L\n"
   ]
  },
  {
   "cell_type": "code",
   "execution_count": null,
   "id": "6b7f4d6f",
   "metadata": {},
   "outputs": [],
   "source": []
  },
  {
   "cell_type": "code",
   "execution_count": null,
   "id": "26c2650f",
   "metadata": {
    "ExecuteTime": {
     "end_time": "2022-12-07T15:06:27.320513Z",
     "start_time": "2022-12-07T15:06:27.320504Z"
    }
   },
   "outputs": [],
   "source": [
    "\n",
    "#!/usr/bin/env python\n",
    "\n",
    "import numpy as np\n",
    "import trimesh\n",
    "\n",
    "\n",
    "scene = trimesh.Scene()\n",
    "\n",
    "# plane\n",
    "plane = trimesh.creation.box(extents=[1, 1, 0.01])\n",
    "plane.visual.face_colors = [0.5, 0.5, 0.5, 0.5]\n",
    "scene.add_geometry(plane)\n",
    "scene.add_geometry(trimesh.creation.axis())\n",
    "\n",
    "# object-1 (box)\n",
    "box = trimesh.creation.box(extents=[0.3, 0.3, 0.3])\n",
    "box.visual.face_colors = [0, 1., 0, 0.5]\n",
    "axis = trimesh.creation.axis(origin_color=[1., 0, 0])\n",
    "translation = [-0.2, 0, 0.15 + 0.01]  # box offset + plane offset\n",
    "box.apply_translation(translation)\n",
    "axis.apply_translation(translation)\n",
    "rotation = trimesh.transformations.rotation_matrix(\n",
    "    np.deg2rad(30), [0, 0, 1], point=box.centroid\n",
    ")\n",
    "box.apply_transform(rotation)\n",
    "axis.apply_transform(rotation)\n",
    "scene.add_geometry(box)\n",
    "scene.add_geometry(axis)\n",
    "\n",
    "# object-2 (cylinder)\n",
    "cylinder = trimesh.creation.cylinder(radius=0.1, height=0.3)\n",
    "cylinder.visual.face_colors = [0, 0, 1., 0.5]\n",
    "axis = trimesh.creation.axis(origin_color=[1., 0, 0])\n",
    "translation = [0.1, -0.2, 0.15 + 0.01]  # cylinder offset + plane offset\n",
    "cylinder.apply_translation(translation)\n",
    "axis.apply_translation(translation)\n",
    "scene.add_geometry(cylinder)\n",
    "scene.add_geometry(axis)\n",
    "\n",
    "scene.show()"
   ]
  },
  {
   "cell_type": "code",
   "execution_count": null,
   "id": "0ea39e13",
   "metadata": {},
   "outputs": [],
   "source": []
  },
  {
   "cell_type": "code",
   "execution_count": null,
   "id": "7d18855b",
   "metadata": {},
   "outputs": [],
   "source": []
  },
  {
   "cell_type": "code",
   "execution_count": null,
   "id": "ad7c5aed",
   "metadata": {
    "ExecuteTime": {
     "end_time": "2022-12-07T15:03:05.368925Z",
     "start_time": "2022-12-07T15:03:05.368916Z"
    }
   },
   "outputs": [],
   "source": [
    "r = Renderer()\n",
    "set_eps( 1e-5 )\n",
    "\n",
    "a = Point(width,2*width,height)\n",
    "b = Point(0,2*width,height)\n",
    "c = Point(0,-width,height)\n",
    "d = Point(width,-width,height)\n",
    "e = Point(width,2*width,0)\n",
    "f = Point(0,2*width,0)\n",
    "g = Point(0,-width,0)\n",
    "h = Point(width,-width,0)\n",
    "cpg0 = ConvexPolygon((a,d,h,e))\n",
    "cpg1 = ConvexPolygon((a,e,f,b))\n",
    "cpg2 = ConvexPolygon((c,b,f,g))\n",
    "cpg3 = ConvexPolygon((c,g,h,d))\n",
    "cpg4 = ConvexPolygon((a,b,c,d))\n",
    "cpg5 = ConvexPolygon((e,h,g,f))\n",
    "leader = ConvexPolyhedron((cpg0,cpg1,cpg2,cpg3,cpg4,cpg5))\n",
    "\n",
    "r.add((leader,'r',1))\n",
    "\n",
    "#strange result\n",
    "phi = 1\n",
    "theta =1\n",
    "Of_z = 1\n",
    "\n",
    "#ValueError: Check for the number of vertices, faces and edges fails, the polyhedron may not be closed\n",
    "phi = 3\n",
    "theta =3\n",
    "Of_z = 10\n",
    "\n",
    "# works\n",
    "phi = 0\n",
    "theta =0\n",
    "Of_z = 10\n",
    "\n",
    "# works\n",
    "phi = 90\n",
    "theta =0\n",
    "Of_z = 0\n",
    "\n",
    "# ValueError: Expected 1 values, got 0\n",
    "phi = 1\n",
    "theta =1\n",
    "Of_z = 0\n",
    "\n",
    "\n",
    "# depth is unknown (x) so take 3*w!\n",
    "\n",
    "a = Point(*np.around(shiftRotate_F2L(2*width,width,height, phi=phi, theta=theta, psi=0, Ol_x=0, Of_y=0, Of_z=Of_z),0))\n",
    "b = Point(*np.around(shiftRotate_F2L(-width,width,height, phi=phi, theta=theta, psi=0, Ol_x=0, Of_y=0, Of_z=Of_z),0))\n",
    "c = Point(*np.around(shiftRotate_F2L(-width,0,height, phi=phi, theta=theta, psi=0, Ol_x=0, Of_y=0, Of_z=Of_z),0))\n",
    "d = Point(*np.around(shiftRotate_F2L(2*width,0,height, phi=phi, theta=theta, psi=0, Ol_x=0, Of_y=0, Of_z=Of_z),0))\n",
    "e = Point(*np.around(shiftRotate_F2L(2*width,width,0, phi=phi, theta=theta, psi=0, Ol_x=0, Of_y=0, Of_z=Of_z),0))\n",
    "f = Point(*np.around(shiftRotate_F2L(-width,width,0, phi=phi, theta=theta, psi=0, Ol_x=0, Of_y=0, Of_z=Of_z),0))\n",
    "g = Point(*np.around(shiftRotate_F2L(-width,0,0, phi=phi, theta=theta, psi=0, Ol_x=0, Of_y=0, Of_z=Of_z),2))\n",
    "h = Point(*np.around(shiftRotate_F2L(2*width,0,0, phi=phi, theta=theta, psi=0, Ol_x=0, Of_y=0, Of_z=Of_z),2))\n",
    "cpg0a = ConvexPolygon((a,h,e))\n",
    "cpg0b = ConvexPolygon((a,d,h))\n",
    "cpg1a = ConvexPolygon((a,e,b))\n",
    "cpg1b = ConvexPolygon((e,f,b))\n",
    "cpg2a = ConvexPolygon((c,b,g))\n",
    "cpg2b = ConvexPolygon((b,f,g))\n",
    "cpg3a = ConvexPolygon((c,h,d))\n",
    "cpg3b = ConvexPolygon((c,g,h))\n",
    "cpg4a = ConvexPolygon((a,b,d))\n",
    "cpg4b = ConvexPolygon((a,b,d))\n",
    "cpg5a = ConvexPolygon((h,g,f))\n",
    "cpg5b = ConvexPolygon((e,h,f))\n",
    "follower = ConvexPolyhedron((cpg0a, cpg0b ,cpg1a, cpg1b ,cpg2a, cpg2b ,cpg3a, cpg3b ,cpg4a, cpg4b ,cpg5a, cpg5b ))\n",
    "\n",
    "r.add((follower,'b',1))\n",
    "\n",
    "obsVolume = intersection(leader,follower)\n",
    "r.add((obsVolume,'k',1))\n",
    "\n",
    "r.show()\n",
    "\n",
    "\n",
    "follower.volume()\n",
    "obsVolume.volume()"
   ]
  },
  {
   "cell_type": "code",
   "execution_count": null,
   "id": "56897202",
   "metadata": {
    "ExecuteTime": {
     "end_time": "2022-12-07T15:03:05.370289Z",
     "start_time": "2022-12-07T15:03:05.370280Z"
    }
   },
   "outputs": [],
   "source": [
    "from Geometry3D import *\n",
    "import copy\n",
    "radius=5\n",
    "s1 = Cylinder(Point(-2 * radius,0,0),radius,4*radius * x_unit_vector(),n=40)\n",
    "s2 = Cylinder(Point(0,-2 * radius,0),radius,4*radius * y_unit_vector(),n=40)\n",
    "s3 = intersection(s1,s2)\n",
    "r = Renderer()\n",
    "r.add((s1,'r',1))\n",
    "r.add((s2,'b',1))\n",
    "r.add((s3,'y',5))\n",
    "r.show()\n",
    "r2 = Renderer()\n",
    "r2.add((s3,'y',1))\n",
    "r2.show()\n",
    "import math\n",
    "v_real = 16 / 3 * math.pow(radius,3)\n",
    "a_real = 16 * math.pow(radius,2)\n",
    "print('Ground truth volume of the Steinmetz solid is:{}, Calculated value is {}'.format(v_real,s3.volume()))\n",
    "print('Ground truth surface area of the Steinmetz solid is:{}, Calculated value is {}'.format(a_real,s3.area()))\n"
   ]
  },
  {
   "cell_type": "code",
   "execution_count": null,
   "id": "3aaba250",
   "metadata": {},
   "outputs": [],
   "source": []
  },
  {
   "cell_type": "code",
   "execution_count": null,
   "id": "d0be9f0f",
   "metadata": {
    "ExecuteTime": {
     "end_time": "2022-12-07T15:03:05.371558Z",
     "start_time": "2022-12-07T15:03:05.371549Z"
    }
   },
   "outputs": [],
   "source": [
    "from VISSSlib.matching import *\n",
    "nSample = 10\n",
    "seed = 0"
   ]
  },
  {
   "cell_type": "code",
   "execution_count": null,
   "id": "cb915ec1",
   "metadata": {
    "ExecuteTime": {
     "end_time": "2022-12-07T15:03:05.372835Z",
     "start_time": "2022-12-07T15:03:05.372826Z"
    }
   },
   "outputs": [],
   "source": [
    "        np.random.seed(seed)\n",
    "        F_x = np.random.random(nSample) * 100\n",
    "        F_y = np.random.random(nSample) * 100\n",
    "        F_z = np.random.random(nSample) * 100\n",
    "        phi = 0#np.random.random(nSample)\n",
    "        theta = 0#np.random.random(nSample)\n",
    "        psi = 0#np.random.random(nSample)\n",
    "        Ol_x = np.random.random(nSample)* 100\n",
    "        Of_y = np.random.random(nSample)* 100\n",
    "        Of_z = np.random.random(nSample)* 100\n",
    "\n",
    "        L_x, L_y, L_z = shiftRotate_F2L(F_x, F_y, F_z, phi, theta, psi, Ol_x, Of_y, Of_z)\n",
    "        L_z_test = calc_L_z_withOffsets(L_x, F_y, F_z, phi=phi, theta=theta, psi=psi, Of_y=Of_y, Of_z=Of_z, Ol_x=Ol_x)\n",
    "\n",
    "        assert np.allclose(L_z_test, L_z)"
   ]
  },
  {
   "cell_type": "code",
   "execution_count": null,
   "id": "5589a6bf",
   "metadata": {
    "ExecuteTime": {
     "end_time": "2022-12-07T15:03:05.374270Z",
     "start_time": "2022-12-07T15:03:05.374261Z"
    }
   },
   "outputs": [],
   "source": [
    "L_z_test"
   ]
  },
  {
   "cell_type": "code",
   "execution_count": null,
   "id": "4f4409ba",
   "metadata": {
    "ExecuteTime": {
     "end_time": "2022-12-07T15:03:05.375851Z",
     "start_time": "2022-12-07T15:03:05.375842Z"
    }
   },
   "outputs": [],
   "source": [
    "        np.random.seed(seed)\n",
    "        Ol_x = 0#np.random.random(nSample)* 100\n",
    "        Of_y = 0#np.random.random(nSample)* 100\n",
    "        Of_z = 0#np.random.random(nSample)* 100\n",
    "        F_xs = np.random.random(nSample) * 100\n",
    "        F_ys = np.random.random(nSample) * 100\n",
    "        F_zs = np.random.random(nSample) * 100\n",
    "        phi = np.random.random(nSample)\n",
    "        theta = np.random.random(nSample)\n",
    "        psi = np.random.random(nSample)\n",
    "        L_x, L_y, L_z = shiftRotate_F2L(F_xs, F_ys, F_zs, phi, theta, psi,Ol_x, Of_y, Of_z)\n",
    "\n",
    "        L_z_test = calc_L_z_withOffsets(L_x, F_y, F_z, phi, theta, psi, Of_y, Of_z, Ol_x)\n",
    "\n",
    "        assert np.allclose(L_z_test, L_z)"
   ]
  },
  {
   "cell_type": "code",
   "execution_count": null,
   "id": "5740849c",
   "metadata": {
    "ExecuteTime": {
     "end_time": "2022-12-07T15:03:05.377088Z",
     "start_time": "2022-12-07T15:03:05.377078Z"
    }
   },
   "outputs": [],
   "source": [
    "rotate_L2F(L_x, L_y, L_z, phi, theta, psi)"
   ]
  },
  {
   "cell_type": "code",
   "execution_count": null,
   "id": "98772788",
   "metadata": {
    "ExecuteTime": {
     "end_time": "2022-12-07T15:03:05.378136Z",
     "start_time": "2022-12-07T15:03:05.378127Z"
    }
   },
   "outputs": [],
   "source": [
    "np.rad2deg(np.arctan2(13,300))"
   ]
  },
  {
   "cell_type": "code",
   "execution_count": null,
   "id": "3687f974",
   "metadata": {
    "ExecuteTime": {
     "end_time": "2022-12-07T15:03:05.379625Z",
     "start_time": "2022-12-07T15:03:05.379616Z"
    }
   },
   "outputs": [],
   "source": [
    "from solid import *\n",
    "#from solid.utils import *  # Not required, but the utils module is useful\n"
   ]
  },
  {
   "cell_type": "code",
   "execution_count": null,
   "id": "d4330f6d",
   "metadata": {
    "ExecuteTime": {
     "end_time": "2022-12-07T15:03:05.380683Z",
     "start_time": "2022-12-07T15:03:05.380674Z"
    }
   },
   "outputs": [],
   "source": [
    "d = difference()(\n",
    "    cube(10),  # Note the comma between each element!\n",
    "    sphere(15)\n",
    ")"
   ]
  },
  {
   "cell_type": "code",
   "execution_count": null,
   "id": "16d129dc",
   "metadata": {
    "ExecuteTime": {
     "end_time": "2022-12-07T15:03:05.381922Z",
     "start_time": "2022-12-07T15:03:05.381913Z"
    }
   },
   "outputs": [],
   "source": [
    "d"
   ]
  },
  {
   "cell_type": "markdown",
   "id": "e4b5a0c6",
   "metadata": {},
   "source": [
    "##### trimesh"
   ]
  },
  {
   "cell_type": "code",
   "execution_count": null,
   "id": "decb54b0",
   "metadata": {
    "ExecuteTime": {
     "end_time": "2022-12-07T15:03:05.383173Z",
     "start_time": "2022-12-07T15:03:05.383164Z"
    }
   },
   "outputs": [],
   "source": [
    "import trimesh\n",
    "import numpy as np\n",
    "\n",
    "width = 1280\n",
    "height = 1024"
   ]
  },
  {
   "cell_type": "code",
   "execution_count": null,
   "id": "4582724c",
   "metadata": {},
   "outputs": [],
   "source": []
  },
  {
   "cell_type": "code",
   "execution_count": null,
   "id": "1cea19fc",
   "metadata": {
    "ExecuteTime": {
     "end_time": "2022-12-07T15:03:05.384043Z",
     "start_time": "2022-12-07T15:03:05.384022Z"
    }
   },
   "outputs": [],
   "source": [
    "phi, theta, psi = 0.123, -1.234, 2.345\n",
    "origin, xaxis, yaxis, zaxis = [0, 0, 0], [1, 0, 0], [0, 1, 0], [0, 0, 1]\n",
    "Rx =  trimesh.transformations.rotation_matrix(phi, xaxis)\n",
    "Ry =  trimesh.transformations.rotation_matrix(theta, yaxis)\n",
    "Rz =  trimesh.transformations.rotation_matrix(psi, zaxis)\n",
    "R =  trimesh.transformations.concatenate_matrices(Rx, Ry, Rz)\n",
    "euler =  trimesh.transformations.euler_from_matrix(R, 'rxyz')\n",
    "np.allclose([phi, theta, psi], euler)\n",
    "\n",
    "Re = trimesh.transformations.euler_matrix(phi, theta, psi, 'rxyz')\n",
    "trimesh.transformations.is_same_transform(R, Re)"
   ]
  },
  {
   "cell_type": "code",
   "execution_count": null,
   "id": "2674c648",
   "metadata": {},
   "outputs": [],
   "source": []
  },
  {
   "cell_type": "code",
   "execution_count": null,
   "id": "5acbe567",
   "metadata": {
    "ExecuteTime": {
     "end_time": "2022-12-07T15:03:05.385361Z",
     "start_time": "2022-12-07T15:03:05.385352Z"
    }
   },
   "outputs": [],
   "source": [
    "import trimesh\n",
    "import numpy as np\n",
    "def rotate_L2F(L_x, L_y, L_z, phi, theta, psi):\n",
    "\n",
    "    # rotate from leader to follower coordinate system\n",
    "    phi = np.deg2rad(phi)\n",
    "    theta = np.deg2rad(theta)\n",
    "    psi = np.deg2rad(psi)\n",
    "    \n",
    "    F_xp =  np.cos(theta) * np.cos(psi) * L_x \\\n",
    "         +  np.cos(theta) * np.sin(psi) * L_y \\\n",
    "         -  np.sin(theta) * L_z\n",
    "    F_yp = (np.sin(phi) * np.sin(theta) * np.cos(psi) - np.cos(phi) * np.sin(psi)) * L_x \\\n",
    "         + (np.sin(phi) * np.sin(theta) * np.sin(psi) + np.cos(phi) * np.cos(psi)) * L_y \\\n",
    "         +  np.sin(phi) * np.cos(theta) * L_z \n",
    "    F_zp = (np.cos(phi) * np.sin(theta) * np.cos(psi) + np.sin(phi) * np.sin(psi)) * L_x \\\n",
    "         + (np.cos(phi) * np.sin(theta) * np.sin(psi) - np.sin(phi) * np.cos(psi)) * L_y \\\n",
    "         +  np.cos(phi) * np.cos(theta) * L_z\n",
    "\n",
    "    return F_xp, F_yp, F_zp\n",
    "\n",
    "def shiftRotate_L2F(L_x, L_y, L_z, phi, theta, psi, Ol_x, Of_y, Of_z):\n",
    "\n",
    "    # shift and rotate from follower to leader coordinate system\n",
    "\n",
    "\n",
    "    L_xp = L_x + Ol_x\n",
    "\n",
    "    F_x, F_yp, F_zp = rotate_L2F(L_xp, L_y, L_z, phi, theta, psi)\n",
    "\n",
    "    F_y = F_yp - Of_y\n",
    "    F_z = F_zp - Of_z\n",
    "\n",
    "    return F_x, F_y, F_z\n",
    "\n",
    "\n",
    "\n",
    "def rotate_F2L(F_xp, F_yp, F_zp, phi, theta, psi):\n",
    "\n",
    "    # rotate from follower to leader coordinate system\n",
    "    phi = np.deg2rad(phi)\n",
    "    theta = np.deg2rad(theta)\n",
    "    psi = np.deg2rad(psi)\n",
    "\n",
    "    L_x =  np.cos(theta) * np.cos(psi) * F_xp \\\n",
    "        + (np.sin(phi) * np.sin(theta) * np.cos(psi) - np.cos(phi) * np.sin(psi)) * F_yp \\\n",
    "        + (np.cos(phi) * np.sin(theta) * np.cos(psi) + np.sin(phi) * np.sin(psi)) * F_zp\n",
    "    L_y =  np.cos(theta) * np.sin(psi) * F_xp \\\n",
    "        + (np.sin(phi) * np.sin(theta) * np.sin(psi) + np.cos(phi) * np.cos(psi)) * F_yp \\\n",
    "        + (np.cos(phi) * np.sin(theta) * np.sin(psi) - np.sin(phi) * np.cos(psi)) * F_zp\n",
    "    L_z = -np.sin(theta) * F_xp \\\n",
    "        +  np.sin(phi) * np.cos(theta) * F_yp \\\n",
    "        +  np.cos(phi) * np.cos(theta) * F_zp\n",
    "\n",
    "    return L_x, L_y, L_z\n",
    "\n",
    "def shiftRotate_F2L(F_x, F_y, F_z, phi, theta, psi, Ol_x, Of_y, Of_z):\n",
    "\n",
    "    # shift and rotate from follower to leader coordinate system\n",
    "\n",
    "    F_yp = F_y + Of_y\n",
    "    F_zp = F_z + Of_z\n",
    "\n",
    "    L_xp, L_y, L_z = rotate_F2L(F_x, F_yp, F_zp, phi, theta, psi)\n",
    "\n",
    "    L_x = L_xp - Ol_x\n",
    "\n",
    "    return L_x, L_y, L_z\n",
    "\n",
    "\n",
    "width = 1.280\n",
    "height = 1.024\n",
    "leader = trimesh.creation.box(extents=(width, 3*width, height))\n",
    "leader = trimesh.creation.box(extents=(width, width, height))\n",
    "leader.apply_translation(np.array((width*0.5, width*0.5, height*0.5)))\n",
    "leader.vertices\n",
    "\n",
    "follower = trimesh.creation.box(extents=(3*width, width, height))\n",
    "follower = trimesh.creation.box(extents=(width, width, height))\n",
    "follower.apply_translation(np.array((width*0.5, width*0.5, height*0.5)))\n",
    "\n",
    "\n",
    "phi, theta, psi = (25.265006, 55.482963, 31.266505)\n",
    "phi, theta, psi = (0,10,0)\n",
    "\n",
    "print(follower.vertices[2])\n",
    "\n",
    "pnt = follower.vertices[2]\n",
    "print(shiftRotate_L2F(*pnt,phi=-phi, theta=theta, psi=psi, Ol_x=0, Of_y=0, Of_z=0))\n",
    "print(shiftRotate_F2L(*pnt,phi=-phi, theta=theta, psi=psi, Ol_x=0, Of_y=0, Of_z=0))\n",
    "\n",
    "rotation = trimesh.transformations.euler_matrix(np.deg2rad(phi), np.deg2rad(theta), np.deg2rad(psi), \"sxyz\")\n",
    "\n",
    "\n",
    "follower.apply_transform(rotation)\n",
    "print(follower.vertices[2])\n",
    "\n",
    "\n",
    "merged = leader.intersection(follower)\n",
    "\n",
    "merged\n",
    "\n",
    "\n",
    "leader.visual.face_colors = [0.5, 0.5, 0.5, 0.5]\n",
    "follower.visual.face_colors = [0, 0, 1., 0.5]\n",
    "merged.visual.face_colors = [1., 0, 0, 0.5]\n",
    "\n",
    "scene = trimesh.Scene()\n",
    "scene.add_geometry(trimesh.creation.axis(axis_length=2))\n",
    "\n",
    "scene.add_geometry(leader)\n",
    "scene.add_geometry(follower)\n",
    "scene.add_geometry(merged)\n",
    "scene.show(viewer=\"notebook\")\n",
    "\n",
    "#red is x\n",
    "#green is y\n",
    "#blue is z"
   ]
  },
  {
   "cell_type": "code",
   "execution_count": null,
   "id": "948bc1bd",
   "metadata": {
    "ExecuteTime": {
     "end_time": "2022-12-07T15:03:05.386638Z",
     "start_time": "2022-12-07T15:03:05.386629Z"
    }
   },
   "outputs": [],
   "source": [
    "\n",
    "phi, theta, psi = (25.265006, 55.482963, 31.266505)\n",
    "Ol_x, Ol_y, Ol_z = (0,0,0)\n",
    "\n",
    "width = 1.280\n",
    "height = 1.024\n",
    "leader = trimesh.creation.box(extents=(width, 3*width, height))\n",
    "leader.apply_translation(np.array((width*0.5, width*0.5, height*0.5)))\n",
    "leader.vertices\n",
    "\n",
    "follower = trimesh.creation.box(extents=(3*width, width, height))\n",
    "follower.apply_translation(np.array((width*0.5, width*0.5, height*0.5)))\n",
    "\n",
    "pnt = follower.vertices[2]\n",
    "\n",
    "print(pnt)\n",
    "\n",
    "print(shiftRotate_L2F(*pnt,phi=phi, theta=theta, psi=psi, Ol_x=Ol_x, Of_y=Of_y, Of_z=Of_z))\n",
    "print(shiftRotate_F2L(*pnt,phi=phi, theta=theta, psi=psi, Ol_x=Ol_x, Of_y=Of_y, Of_z=Of_z))\n",
    "\n",
    "rotation = trimesh.transformations.euler_matrix(np.deg2rad(phi), np.deg2rad(theta), np.deg2rad(psi), \"rzyx\")\n",
    "\n",
    "\n",
    "follower.apply_transform(rotation)\n",
    "print(follower.vertices[2])\n",
    "\n",
    "\n",
    "merged = leader.intersection(follower)\n",
    "\n",
    "print(merged.volume)\n",
    "\n",
    "leader.visual.face_colors = [0.5, 0.5, 0.5, 0.5]\n",
    "follower.visual.face_colors = [0, 0, 1., 0.5]\n",
    "merged.visual.face_colors = [1., 0, 0, 0.5]\n",
    "\n",
    "scene = trimesh.Scene()\n",
    "scene.add_geometry(trimesh.creation.axis(axis_length=2))\n",
    "\n",
    "scene.add_geometry(leader)\n",
    "scene.add_geometry(follower)\n",
    "scene.add_geometry(merged)\n",
    "scene.show(viewer=\"notebook\")\n",
    "\n",
    "#red is x\n",
    "#green is y\n",
    "#blue is z"
   ]
  },
  {
   "cell_type": "code",
   "execution_count": null,
   "id": "fed91c25",
   "metadata": {
    "ExecuteTime": {
     "end_time": "2022-12-07T15:03:05.387418Z",
     "start_time": "2022-12-07T15:03:05.387409Z"
    }
   },
   "outputs": [],
   "source": [
    "rotation"
   ]
  },
  {
   "cell_type": "code",
   "execution_count": null,
   "id": "7d349d16",
   "metadata": {},
   "outputs": [],
   "source": []
  }
 ],
 "metadata": {
  "kernelspec": {
   "display_name": "py311",
   "language": "python",
   "name": "py311"
  },
  "language_info": {
   "codemirror_mode": {
    "name": "ipython",
    "version": 3
   },
   "file_extension": ".py",
   "mimetype": "text/x-python",
   "name": "python",
   "nbconvert_exporter": "python",
   "pygments_lexer": "ipython3",
   "version": "3.11.0"
  },
  "notify_time": "5",
  "toc": {
   "base_numbering": 1,
   "nav_menu": {},
   "number_sections": true,
   "sideBar": true,
   "skip_h1_title": false,
   "title_cell": "Table of Contents",
   "title_sidebar": "Contents",
   "toc_cell": false,
   "toc_position": {
    "height": "calc(100% - 180px)",
    "left": "10px",
    "top": "150px",
    "width": "165px"
   },
   "toc_section_display": true,
   "toc_window_display": true
  }
 },
 "nbformat": 4,
 "nbformat_minor": 5
}

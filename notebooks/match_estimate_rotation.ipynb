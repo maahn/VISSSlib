{
 "cells": [
  {
   "cell_type": "code",
   "execution_count": 13,
   "id": "38b95793",
   "metadata": {
    "ExecuteTime": {
     "end_time": "2022-12-07T15:02:45.824558Z",
     "start_time": "2022-12-07T15:02:43.261011Z"
    }
   },
   "outputs": [],
   "source": [
    "import VISSSlib\n",
    "import yaml\n",
    "import matplotlib.pyplot as plt\n",
    "import numpy as np\n",
    "import pandas as pd"
   ]
  },
  {
   "cell_type": "code",
   "execution_count": null,
   "id": "bc9e8334",
   "metadata": {},
   "outputs": [],
   "source": []
  },
  {
   "cell_type": "code",
   "execution_count": 108,
   "id": "1cbf536c",
   "metadata": {
    "ExecuteTime": {
     "end_time": "2022-12-07T15:36:29.689820Z",
     "start_time": "2022-12-07T15:36:29.686162Z"
    }
   },
   "outputs": [],
   "source": [
    "settings = \"/projekt1//ag_maahn/VISSS_config/hyytiala_v1.yaml\"\n",
    "case = \"20211221-000000\"\n",
    "case = \"20220117-070000\"\n",
    "case = \"20220225-090000\"\n",
    "case = \"20220404-000000\"\n",
    "\n",
    "settings = \"/projekt1//ag_maahn/VISSS_config/sail_v1.yaml\"; case = \"20221106-2000\"\n",
    "settings = \"/projekt1//ag_maahn/VISSS_config/sail_v1.yaml\"; case = \"20221114-151000\" #backlight adjusted\n",
    "settings = \"/projekt1//ag_maahn/VISSS_config/sail_v1.yaml\"; case = \"20230120-180000\" #snow removal\n",
    "#settings = \"/projekt1//ag_maahn/VISSS_config/sail_v1.yaml\"; case = \"20230213-200000\" #backlight adjusted\n",
    "\n",
    "version='2023.1.6'"
   ]
  },
  {
   "cell_type": "code",
   "execution_count": 109,
   "id": "805b7caf",
   "metadata": {
    "ExecuteTime": {
     "end_time": "2022-12-07T15:36:29.870037Z",
     "start_time": "2022-12-07T15:36:29.860770Z"
    }
   },
   "outputs": [
    {
     "data": {
      "text/plain": [
       "<module 'VISSSlib.tools' from '/home/mmaahn/projectsSrv/VISSSlib/src/VISSSlib/tools.py'>"
      ]
     },
     "execution_count": 109,
     "metadata": {},
     "output_type": "execute_result"
    }
   ],
   "source": [
    "\n",
    "from importlib import reload\n",
    "reload(VISSSlib.matching)\n",
    "reload(VISSSlib.fixes)\n",
    "reload(VISSSlib.tools)"
   ]
  },
  {
   "cell_type": "code",
   "execution_count": 123,
   "id": "9d8616d3",
   "metadata": {
    "ExecuteTime": {
     "end_time": "2022-12-07T15:36:30.041564Z",
     "start_time": "2022-12-07T15:36:30.027432Z"
    }
   },
   "outputs": [],
   "source": [
    "config = VISSSlib.tools.readSettings(settings)\n",
    "fl = VISSSlib.files.FindFiles(case, config.leader, config)\n",
    "fname1L = fl.listFiles(\"level1detect\")[0]\n",
    "fname1Match = VISSSlib.files.FilenamesFromLevel(fname1L, config).fname[\"level1match\"]"
   ]
  },
  {
   "cell_type": "code",
   "execution_count": null,
   "id": "134d5079",
   "metadata": {},
   "outputs": [],
   "source": []
  },
  {
   "cell_type": "code",
   "execution_count": 111,
   "id": "851e7b56",
   "metadata": {
    "ExecuteTime": {
     "end_time": "2022-12-07T15:36:30.207856Z",
     "start_time": "2022-12-07T15:36:30.204228Z"
    }
   },
   "outputs": [],
   "source": [
    "rotate_default = pd.Series({\n",
    "    \"camera_phi\": 0.0, #zero is unstable!\n",
    "    \"camera_theta\": 0.0, #zero is unstable!\n",
    "#     \"psi\": 0.0, #zero is unstable!\n",
    "#     \"Of_y\": 0.0, #zero is unstable!\n",
    "    \"camera_Ofz\": 0.0, #zero is unstable!\n",
    "#     \"Ol_x\": 0.0, #zero is unstable!\n",
    "})\n",
    "# \n",
    "rotate_err_default = pd.Series({\n",
    "    \"camera_phi\":  5,\n",
    "    \"camera_theta\":  5,\n",
    "#     \"psi\": .1,\n",
    "#     \"Of_y\": 50, \n",
    "    \"camera_Ofz\": 50, \n",
    "#     \"Ol_x\":50, #zero is unstable!\n",
    "})"
   ]
  },
  {
   "cell_type": "code",
   "execution_count": 112,
   "id": "3a3c5f98",
   "metadata": {},
   "outputs": [],
   "source": [
    "rotate_default = pd.Series(config.rotate['20221105-0000'][\"transformation\"])\n",
    "rotate_err_default = pd.Series(config.rotate['20221105-0000'][\"transformation_err\"])"
   ]
  },
  {
   "cell_type": "code",
   "execution_count": 113,
   "id": "95d37569",
   "metadata": {},
   "outputs": [
    {
     "data": {
      "text/plain": [
       "camera_Ofz      21.000863\n",
       "camera_phi      -2.936190\n",
       "camera_theta     3.445897\n",
       "dtype: float64"
      ]
     },
     "execution_count": 113,
     "metadata": {},
     "output_type": "execute_result"
    }
   ],
   "source": [
    "rotate_default"
   ]
  },
  {
   "cell_type": "markdown",
   "id": "1c1ec73f",
   "metadata": {},
   "source": [
    "## in the first step, use only large particles and do not use Z difference at all!\n",
    "\n",
    "set minDMax4rot so that matched twice does appear not that often\n",
    "\n",
    "do not choose a case where more than one particle is seen at the sma etime - filter this data ??"
   ]
  },
  {
   "cell_type": "code",
   "execution_count": 114,
   "id": "b59d6dcf",
   "metadata": {
    "ExecuteTime": {
     "end_time": "2022-12-07T15:37:14.934524Z",
     "start_time": "2022-12-07T15:36:33.134186Z"
    },
    "scrolled": false
   },
   "outputs": [
    {
     "name": "stdout",
     "output_type": "stream",
     "text": [
      "opening /projekt6/ag_maahn/data_obs_nobackup/sail/visss_2023.1.6/level1detect/2023/01/20/level1detect_V2023.1.6_sail_visss01_visss_leader_S1145792_20230120-180000.nc\n",
      "opening ['/projekt6/ag_maahn/data_obs_nobackup/sail/visss_2023.1.6/level1detect/2023/01/20/level1detect_V2023.1.6_sail_visss01_visss_follower_S1143155_20230120-175959.nc', '/projekt6/ag_maahn/data_obs_nobackup/sail/visss_2023.1.6/level1detect/2023/01/20/level1detect_V2023.1.6_sail_visss01_visss_follower_S1143155_20230120-180959.nc']\n",
      "1 of 1 slice for follower restart 2023-01-20T17:59:59.997551000 2023-01-20T18:10:01.815574000\n",
      "using 739 of 1000\n",
      "estimateCaptureIdDiff statistic: {-86898388: 304, -86898387: 207, -86898386: 144, -86898389: 84} capture_time\n",
      "using 874 of 1000\n",
      "estimateCaptureIdDiff statistic: {-86898386: 874} record_time\n",
      "capture_id determined -86898386, 100.0% have the same value\n",
      "Taking offset from record_time (-86898386, 874) intead of capture_time (-99, -99)\n",
      "DMax filter leader: 10 45.942292093166984 %\n",
      "DMax filter follower: 10 46.71248938097211 %\n",
      "rotation coefficients iteration 0 of 20\n",
      "doMatch 3000 3000\n",
      "925 matches found. \n",
      "0.30 s, iteration 1, degrees of freedom: 2.98 of 3, not converged (x-space):  660.574\n",
      "0.57 s, iteration 2, degrees of freedom: 2.98 of 3, not converged (x-space):  9.545\n",
      "0.89 s, iteration 3, degrees of freedom: 2.98 of 3, converged (x-space):  0.143\n",
      "0.98 s, iteration 4, degrees of freedom: 2.98 of 3, done.  0.002\n",
      "MATCH 0 0.15745385\n",
      "ROTATE 0 \n",
      " camera_Ofz     -0.988400\n",
      "camera_phi     -1.630694\n",
      "camera_theta    0.685590\n",
      "dtype: float64 \n",
      " error \n",
      " camera_Ofz      0.246943\n",
      "camera_phi      0.014944\n",
      "camera_theta    0.015332\n",
      "dtype: float64 \n",
      " dgf \n",
      " camera_Ofz      0.991859\n",
      "camera_phi      0.996353\n",
      "camera_theta    0.990091\n",
      "dtype: float64\n",
      "rotation coefficients iteration 1 of 20\n",
      "doMatch 3000 3000\n",
      "925 matches found. \n",
      "0.44 s, iteration 1, degrees of freedom: 2.97 of 3, converged (x-space):  0.088\n",
      "0.53 s, iteration 2, degrees of freedom: 2.97 of 3, done.  0.001\n",
      "MATCH 1 0.15745385\n",
      "ROTATE 1 \n",
      " camera_Ofz     -1.477215\n",
      "camera_phi     -1.616890\n",
      "camera_theta    0.654485\n",
      "dtype: float64 \n",
      " error \n",
      " camera_Ofz      0.246401\n",
      "camera_phi      0.014849\n",
      "camera_theta    0.015326\n",
      "dtype: float64 \n",
      " dgf \n",
      " camera_Ofz      0.990044\n",
      "camera_phi      0.990127\n",
      "camera_theta    0.990008\n",
      "dtype: float64\n",
      "rotation coefficients iteration 2 of 20\n",
      "doMatch 3000 3000\n",
      "925 matches found. \n",
      "0.58 s, iteration 1, degrees of freedom: 2.97 of 3, converged (x-space):  0.000\n",
      "0.66 s, iteration 2, degrees of freedom: 2.97 of 3, done.  0.000\n",
      "MATCH 2 0.15745385\n",
      "ROTATE 2 \n",
      " camera_Ofz     -1.493128\n",
      "camera_phi     -1.616351\n",
      "camera_theta    0.653559\n",
      "dtype: float64 \n",
      " error \n",
      " camera_Ofz      0.246389\n",
      "camera_phi      0.014847\n",
      "camera_theta    0.015326\n",
      "dtype: float64 \n",
      " dgf \n",
      " camera_Ofz      0.990001\n",
      "camera_phi      0.990003\n",
      "camera_theta    0.990000\n",
      "dtype: float64\n",
      "interupting loop\n",
      "camera_Ofz     -1.493128\n",
      "camera_phi     -1.616351\n",
      "camera_theta    0.653559\n",
      "dtype: float64\n"
     ]
    }
   ],
   "source": [
    "reload(VISSSlib.matching)\n",
    "reload(VISSSlib.tools)\n",
    "fout, matchedDat, rot, rot_err = VISSSlib.matching.matchParticles(fname1L, config, doRot=True, rotationOnly=True, \n",
    "                                                                  rotate=rotate_default, rotate_err=rotate_err_default, maxDiffMs=\"config\", nPoints=1000, testing=False, chunckSize=10000, minSamples4rot=40,\n",
    "                  minDMax4rot=10,\n",
    "                  singleParticleFramesOnly=True,\n",
    "                  sigma = {\n",
    "#             \"Z\" : 1.7, # estimated from OE results\n",
    "            \"H\" : 1.2, # estimated from OE results\n",
    "            \"I\" : .01,\n",
    "        })\n"
   ]
  },
  {
   "cell_type": "code",
   "execution_count": 115,
   "id": "6a50c91b",
   "metadata": {
    "ExecuteTime": {
     "end_time": "2022-12-07T15:38:42.104090Z",
     "start_time": "2022-12-07T15:37:37.082228Z"
    },
    "scrolled": false
   },
   "outputs": [
    {
     "name": "stdout",
     "output_type": "stream",
     "text": [
      "opening /projekt6/ag_maahn/data_obs_nobackup/sail/visss_2023.1.6/level1detect/2023/01/20/level1detect_V2023.1.6_sail_visss01_visss_leader_S1145792_20230120-180000.nc\n",
      "opening ['/projekt6/ag_maahn/data_obs_nobackup/sail/visss_2023.1.6/level1detect/2023/01/20/level1detect_V2023.1.6_sail_visss01_visss_follower_S1143155_20230120-175959.nc', '/projekt6/ag_maahn/data_obs_nobackup/sail/visss_2023.1.6/level1detect/2023/01/20/level1detect_V2023.1.6_sail_visss01_visss_follower_S1143155_20230120-180959.nc']\n",
      "1 of 1 slice for follower restart 2023-01-20T17:59:59.997551000 2023-01-20T18:10:01.815574000\n",
      "using 372 of 500\n",
      "estimateCaptureIdDiff statistic: {-86898388: 152, -86898387: 107, -86898386: 71, -86898389: 42} capture_time\n",
      "using 437 of 500\n",
      "estimateCaptureIdDiff statistic: {-86898386: 437} record_time\n",
      "capture_id determined -86898386, 100.0% have the same value\n",
      "Taking offset from record_time (-86898386, 437) intead of capture_time (-99, -99)\n",
      "rotation coefficients iteration 0 of 20\n",
      "doMatch 3000 3000\n",
      "350 matches found. \n",
      "1.26 s, iteration 1, degrees of freedom: 2.89 of 3, converged (x-space):  0.001\n",
      "1.84 s, iteration 2, degrees of freedom: 2.89 of 3, done.  0.000\n",
      "MATCH 0 0.0064022294\n",
      "ROTATE 0 \n",
      " camera_Ofz     -8.106711\n",
      "camera_phi     -1.416938\n",
      "camera_theta    0.740401\n",
      "dtype: float64 \n",
      " error \n",
      " camera_Ofz      0.566790\n",
      "camera_phi      0.030014\n",
      "camera_theta    0.017323\n",
      "dtype: float64 \n",
      " dgf \n",
      " camera_Ofz      0.947082\n",
      "camera_phi      0.959134\n",
      "camera_theta    0.987223\n",
      "dtype: float64\n",
      "rotation coefficients iteration 1 of 20\n",
      "doMatch 3000 3000\n",
      "449 matches found. \n",
      "1.23 s, iteration 1, degrees of freedom: 2.94 of 3, converged (x-space):  0.094\n",
      "1.88 s, iteration 2, degrees of freedom: 2.94 of 3, done.  0.000\n",
      "MATCH 1 0.00806845\n",
      "ROTATE 1 \n",
      " camera_Ofz     -22.319274\n",
      "camera_phi      -0.665941\n",
      "camera_theta     0.862807\n",
      "dtype: float64 \n",
      " error \n",
      " camera_Ofz      0.847458\n",
      "camera_phi      0.046344\n",
      "camera_theta    0.018072\n",
      "dtype: float64 \n",
      " dgf \n",
      " camera_Ofz      0.977644\n",
      "camera_phi      0.976158\n",
      "camera_theta    0.989117\n",
      "dtype: float64\n",
      "rotation coefficients iteration 2 of 20\n",
      "doMatch 3000 3000\n",
      "589 matches found. \n",
      "1.36 s, iteration 1, degrees of freedom: 2.97 of 3, converged (x-space):  0.031\n",
      "1.87 s, iteration 2, degrees of freedom: 2.97 of 3, done.  0.000\n",
      "MATCH 2 0.009205641\n",
      "ROTATE 2 \n",
      " camera_Ofz     -33.953447\n",
      "camera_phi      -0.040623\n",
      "camera_theta     0.939480\n",
      "dtype: float64 \n",
      " error \n",
      " camera_Ofz      0.912419\n",
      "camera_phi      0.049732\n",
      "camera_theta    0.017504\n",
      "dtype: float64 \n",
      " dgf \n",
      " camera_Ofz      0.988408\n",
      "camera_phi      0.988485\n",
      "camera_theta    0.990619\n",
      "dtype: float64\n",
      "rotation coefficients iteration 3 of 20\n",
      "doMatch 3000 3000\n",
      "784 matches found. \n",
      "1.22 s, iteration 1, degrees of freedom: 2.96 of 3, converged (x-space):  0.016\n",
      "1.90 s, iteration 2, degrees of freedom: 2.96 of 3, done.  0.000\n",
      "MATCH 3 0.01015447\n",
      "ROTATE 3 \n",
      " camera_Ofz     -44.167600\n",
      "camera_phi       0.507636\n",
      "camera_theta     0.988921\n",
      "dtype: float64 \n",
      " error \n",
      " camera_Ofz      1.013166\n",
      "camera_phi      0.055473\n",
      "camera_theta    0.017835\n",
      "dtype: float64 \n",
      " dgf \n",
      " camera_Ofz      0.987670\n",
      "camera_phi      0.987558\n",
      "camera_theta    0.989619\n",
      "dtype: float64\n",
      "rotation coefficients iteration 4 of 20\n",
      "doMatch 3000 3000\n",
      "1210 matches found. \n",
      "1.48 s, iteration 1, degrees of freedom: 2.97 of 3, converged (x-space):  0.000\n",
      "1.83 s, iteration 2, degrees of freedom: 2.97 of 3, done.  0.000\n",
      "MATCH 4 0.010821709\n",
      "ROTATE 4 \n",
      " camera_Ofz     -48.091589\n",
      "camera_phi       0.726860\n",
      "camera_theta     1.024651\n",
      "dtype: float64 \n",
      " error \n",
      " camera_Ofz      0.846916\n",
      "camera_phi      0.048190\n",
      "camera_theta    0.018576\n",
      "dtype: float64 \n",
      " dgf \n",
      " camera_Ofz      0.993013\n",
      "camera_phi      0.992454\n",
      "camera_theta    0.989151\n",
      "dtype: float64\n",
      "rotation coefficients iteration 5 of 20\n",
      "doMatch 3000 3000\n",
      "1218 matches found. \n",
      "1.23 s, iteration 1, degrees of freedom: 2.98 of 3, converged (x-space):  0.000\n",
      "1.65 s, iteration 2, degrees of freedom: 2.98 of 3, done.  0.000\n",
      "MATCH 5 0.01600376\n",
      "ROTATE 5 \n",
      " camera_Ofz     -50.673977\n",
      "camera_phi       0.871178\n",
      "camera_theta     1.042482\n",
      "dtype: float64 \n",
      " error \n",
      " camera_Ofz      0.620057\n",
      "camera_phi      0.036339\n",
      "camera_theta    0.017269\n",
      "dtype: float64 \n",
      " dgf \n",
      " camera_Ofz      0.994640\n",
      "camera_phi      0.994313\n",
      "camera_theta    0.991357\n",
      "dtype: float64\n",
      "rotation coefficients iteration 6 of 20\n",
      "doMatch 3000 3000\n",
      "1218 matches found. \n",
      "0.43 s, iteration 1, degrees of freedom: 2.99 of 3, converged (x-space):  0.000\n",
      "0.52 s, iteration 2, degrees of freedom: 2.99 of 3, done.  0.000\n",
      "MATCH 6 0.022802174\n",
      "ROTATE 6 \n",
      " camera_Ofz     -51.409000\n",
      "camera_phi       0.906619\n",
      "camera_theta     1.040111\n",
      "dtype: float64 \n",
      " error \n",
      " camera_Ofz      0.323030\n",
      "camera_phi      0.019787\n",
      "camera_theta    0.016563\n",
      "dtype: float64 \n",
      " dgf \n",
      " camera_Ofz      0.997286\n",
      "camera_phi      0.997035\n",
      "camera_theta    0.990801\n",
      "dtype: float64\n",
      "rotation coefficients iteration 7 of 20\n",
      "doMatch 3000 3000\n",
      "1218 matches found. \n",
      "0.44 s, iteration 1, degrees of freedom: 2.97 of 3, converged (x-space):  0.000\n",
      "0.56 s, iteration 2, degrees of freedom: 2.97 of 3, done.  0.000\n",
      "MATCH 7 0.024376273\n",
      "ROTATE 7 \n",
      " camera_Ofz     -51.697106\n",
      "camera_phi       0.921791\n",
      "camera_theta     1.038787\n",
      "dtype: float64 \n",
      " error \n",
      " camera_Ofz      0.291537\n",
      "camera_phi      0.018465\n",
      "camera_theta    0.016740\n",
      "dtype: float64 \n",
      " dgf \n",
      " camera_Ofz      0.991855\n",
      "camera_phi      0.991291\n",
      "camera_theta    0.989785\n",
      "dtype: float64\n",
      "interupting loop\n",
      "camera_Ofz     -51.697106\n",
      "camera_phi       0.921791\n",
      "camera_theta     1.038787\n",
      "dtype: float64\n"
     ]
    },
    {
     "data": {
      "text/plain": [
       "(camera_Ofz     -51.697106\n",
       " camera_phi       0.921791\n",
       " camera_theta     1.038787\n",
       " dtype: float64,\n",
       " camera_Ofz      0.291537\n",
       " camera_phi      0.018465\n",
       " camera_theta    0.016740\n",
       " dtype: float64)"
      ]
     },
     "execution_count": 115,
     "metadata": {},
     "output_type": "execute_result"
    }
   ],
   "source": [
    "reload(VISSSlib.matching)\n",
    "fout, matchedDat, rot2, rot_err2 = VISSSlib.matching.matchParticles(fname1L, config, doRot=True, rotationOnly=True, rotate=rot, rotate_err=rot_err, nPoints=500, minSamples4rot=5)\n",
    "rot2, rot_err2"
   ]
  },
  {
   "cell_type": "code",
   "execution_count": 116,
   "id": "f997b040",
   "metadata": {
    "ExecuteTime": {
     "end_time": "2022-12-07T15:38:53.354719Z",
     "start_time": "2022-12-07T15:38:42.109053Z"
    }
   },
   "outputs": [
    {
     "name": "stdout",
     "output_type": "stream",
     "text": [
      "opening /projekt6/ag_maahn/data_obs_nobackup/sail/visss_2023.1.6/level1detect/2023/01/20/level1detect_V2023.1.6_sail_visss01_visss_leader_S1145792_20230120-180000.nc\n",
      "opening ['/projekt6/ag_maahn/data_obs_nobackup/sail/visss_2023.1.6/level1detect/2023/01/20/level1detect_V2023.1.6_sail_visss01_visss_follower_S1143155_20230120-175959.nc', '/projekt6/ag_maahn/data_obs_nobackup/sail/visss_2023.1.6/level1detect/2023/01/20/level1detect_V2023.1.6_sail_visss01_visss_follower_S1143155_20230120-180959.nc']\n",
      "1 of 1 slice for follower restart 2023-01-20T17:59:59.997551000 2023-01-20T18:10:01.815574000\n",
      "using 372 of 500\n",
      "estimateCaptureIdDiff statistic: {-86898388: 152, -86898387: 107, -86898386: 71, -86898389: 42} capture_time\n",
      "using 437 of 500\n",
      "estimateCaptureIdDiff statistic: {-86898386: 437} record_time\n",
      "capture_id determined -86898386, 100.0% have the same value\n",
      "Taking offset from record_time (-86898386, 437) intead of capture_time (-99, -99)\n",
      "rotation coefficients iteration 0 of 20\n",
      "doMatch 3000 3000\n",
      "1217 matches found. \n",
      "1.39 s, iteration 1, degrees of freedom: 2.97 of 3, converged (x-space):  0.000\n",
      "2.07 s, iteration 2, degrees of freedom: 2.97 of 3, done.  0.000\n",
      "MATCH 0 0.02483073\n",
      "ROTATE 0 \n",
      " camera_Ofz     -51.881772\n",
      "camera_phi       0.933479\n",
      "camera_theta     1.039936\n",
      "dtype: float64 \n",
      " error \n",
      " camera_Ofz      0.279747\n",
      "camera_phi      0.017871\n",
      "camera_theta    0.016950\n",
      "dtype: float64 \n",
      " dgf \n",
      " camera_Ofz      0.990792\n",
      "camera_phi      0.990633\n",
      "camera_theta    0.989748\n",
      "dtype: float64\n",
      "rotation coefficients iteration 1 of 20\n",
      "doMatch 3000 3000\n",
      "1217 matches found. \n",
      "1.16 s, iteration 1, degrees of freedom: 2.97 of 3, converged (x-space):  0.000\n",
      "1.63 s, iteration 2, degrees of freedom: 2.97 of 3, done.  0.000\n",
      "MATCH 1 0.025077678\n",
      "ROTATE 1 \n",
      " camera_Ofz     -52.014275\n",
      "camera_phi       0.940994\n",
      "camera_theta     1.039216\n",
      "dtype: float64 \n",
      " error \n",
      " camera_Ofz      0.271713\n",
      "camera_phi      0.017485\n",
      "camera_theta    0.017225\n",
      "dtype: float64 \n",
      " dgf \n",
      " camera_Ofz      0.990566\n",
      "camera_phi      0.990428\n",
      "camera_theta    0.989673\n",
      "dtype: float64\n",
      "interupting loop\n",
      "camera_Ofz     -52.014275\n",
      "camera_phi       0.940994\n",
      "camera_theta     1.039216\n",
      "dtype: float64\n"
     ]
    }
   ],
   "source": [
    "fout, matchedDat, rot3, rot_err3 = VISSSlib.matching.matchParticles(fname1L, config, doRot=True, rotationOnly=True, rotate=rot2, rotate_err=rot_err2, nPoints=500, minSamples4rot=5)\n"
   ]
  },
  {
   "cell_type": "code",
   "execution_count": 117,
   "id": "424c84e4",
   "metadata": {
    "ExecuteTime": {
     "end_time": "2022-12-07T15:38:53.364816Z",
     "start_time": "2022-12-07T15:38:53.358962Z"
    }
   },
   "outputs": [
    {
     "name": "stdout",
     "output_type": "stream",
     "text": [
      "rotate:\n",
      "  camera_Ofz: -52.014275\n",
      "  camera_phi: 0.940994\n",
      "  camera_theta: 1.039216\n",
      "rotate_err:\n",
      "  camera_Ofz: 0.271713\n",
      "  camera_phi: 0.017485\n",
      "  camera_theta: 0.017225\n",
      "\n"
     ]
    }
   ],
   "source": [
    "print(yaml.dump({\"rotate\":rot3.round(6).to_dict(), \"rotate_err\": rot_err3.round(6).to_dict()}))"
   ]
  },
  {
   "cell_type": "code",
   "execution_count": 118,
   "id": "a75cccf3",
   "metadata": {
    "ExecuteTime": {
     "end_time": "2022-12-07T15:38:53.374338Z",
     "start_time": "2022-12-07T15:38:53.368130Z"
    }
   },
   "outputs": [
    {
     "name": "stdout",
     "output_type": "stream",
     "text": [
      "rotate:\n",
      "  camera_Ofz: -52.014275\n",
      "  camera_phi: 0.940994\n",
      "  camera_theta: 1.039216\n",
      "rotate_err:\n",
      "  camera_Ofz: 0.271713\n",
      "  camera_phi: 0.017485\n",
      "  camera_theta: 0.017225\n",
      "\n"
     ]
    }
   ],
   "source": [
    "print(yaml.dump({\"rotate\":rot3.round(6).to_dict(), \"rotate_err\": rot_err3.round(6).to_dict()}))"
   ]
  },
  {
   "cell_type": "code",
   "execution_count": 119,
   "id": "d0581558",
   "metadata": {
    "ExecuteTime": {
     "end_time": "2022-12-07T15:39:04.517541Z",
     "start_time": "2022-12-07T15:38:53.376214Z"
    },
    "scrolled": false
   },
   "outputs": [
    {
     "name": "stdout",
     "output_type": "stream",
     "text": [
      "opening /projekt6/ag_maahn/data_obs_nobackup/sail/visss_2023.1.6/level1detect/2023/01/20/level1detect_V2023.1.6_sail_visss01_visss_leader_S1145792_20230120-180000.nc\n",
      "opening ['/projekt6/ag_maahn/data_obs_nobackup/sail/visss_2023.1.6/level1detect/2023/01/20/level1detect_V2023.1.6_sail_visss01_visss_follower_S1143155_20230120-175959.nc', '/projekt6/ag_maahn/data_obs_nobackup/sail/visss_2023.1.6/level1detect/2023/01/20/level1detect_V2023.1.6_sail_visss01_visss_follower_S1143155_20230120-180959.nc']\n",
      "1 of 1 slice for follower restart 2023-01-20T17:59:59.997551000 2023-01-20T18:10:01.815574000\n",
      "using 372 of 500\n",
      "estimateCaptureIdDiff statistic: {-86898388: 152, -86898387: 107, -86898386: 71, -86898389: 42} capture_time\n",
      "using 437 of 500\n",
      "estimateCaptureIdDiff statistic: {-86898386: 437} record_time\n",
      "capture_id determined -86898386, 100.0% have the same value\n",
      "Taking offset from record_time (-86898386, 437) intead of capture_time (-99, -99)\n",
      "rotation coefficients iteration 0 of 20\n",
      "doMatch 3000 3000\n",
      "1217 matches found. \n",
      "1.42 s, iteration 1, degrees of freedom: 2.97 of 3, converged (x-space):  0.000\n",
      "2.16 s, iteration 2, degrees of freedom: 2.97 of 3, done.  0.000\n",
      "MATCH 0 0.025206674\n",
      "ROTATE 0 \n",
      " camera_Ofz     -52.127149\n",
      "camera_phi       0.947307\n",
      "camera_theta     1.038385\n",
      "dtype: float64 \n",
      " error \n",
      " camera_Ofz      0.272908\n",
      "camera_phi      0.017648\n",
      "camera_theta    0.017124\n",
      "dtype: float64 \n",
      " dgf \n",
      " camera_Ofz      0.989912\n",
      "camera_phi      0.989812\n",
      "camera_theta    0.990117\n",
      "dtype: float64\n",
      "rotation coefficients iteration 1 of 20\n",
      "doMatch 3000 3000\n",
      "1217 matches found. \n",
      "1.53 s, iteration 1, degrees of freedom: 2.97 of 3, converged (x-space):  0.000\n",
      "2.31 s, iteration 2, degrees of freedom: 2.97 of 3, done.  0.000\n",
      "MATCH 1 0.025297223\n",
      "ROTATE 1 \n",
      " camera_Ofz     -52.222031\n",
      "camera_phi       0.953710\n",
      "camera_theta     1.038862\n",
      "dtype: float64 \n",
      " error \n",
      " camera_Ofz      0.273537\n",
      "camera_phi      0.017716\n",
      "camera_theta    0.017271\n",
      "dtype: float64 \n",
      " dgf \n",
      " camera_Ofz      0.989954\n",
      "camera_phi      0.989923\n",
      "camera_theta    0.989828\n",
      "dtype: float64\n",
      "interupting loop\n",
      "camera_Ofz     -52.222031\n",
      "camera_phi       0.953710\n",
      "camera_theta     1.038862\n",
      "dtype: float64\n"
     ]
    }
   ],
   "source": [
    "fout, matchedDat, rot4, rot_err4 = VISSSlib.matching.matchParticles(fname1L, config, doRot=True, rotationOnly=True, rotate=rot3, rotate_err=rot_err3, nPoints=500, minSamples4rot=5)\n"
   ]
  },
  {
   "cell_type": "code",
   "execution_count": 120,
   "id": "0baa7279",
   "metadata": {
    "ExecuteTime": {
     "end_time": "2022-12-07T15:39:04.527218Z",
     "start_time": "2022-12-07T15:39:04.520958Z"
    }
   },
   "outputs": [
    {
     "name": "stdout",
     "output_type": "stream",
     "text": [
      "rotate:\n",
      "  camera_Ofz: -52.222031\n",
      "  camera_phi: 0.95371\n",
      "  camera_theta: 1.038862\n",
      "rotate_err:\n",
      "  camera_Ofz: 0.273537\n",
      "  camera_phi: 0.017716\n",
      "  camera_theta: 0.017271\n",
      "\n"
     ]
    }
   ],
   "source": [
    "print(yaml.dump({\"rotate\":rot4.round(6).to_dict(), \"rotate_err\": rot_err4.round(6).to_dict()}))"
   ]
  },
  {
   "cell_type": "code",
   "execution_count": 121,
   "id": "be0379cf",
   "metadata": {
    "ExecuteTime": {
     "end_time": "2022-12-07T15:39:04.536148Z",
     "start_time": "2022-12-07T15:39:04.530059Z"
    }
   },
   "outputs": [
    {
     "name": "stdout",
     "output_type": "stream",
     "text": [
      "rotate:\n",
      "  20230120-180000:\n",
      "    transformation:\n",
      "      camera_Ofz: -52.222031\n",
      "      camera_phi: 0.95371\n",
      "      camera_theta: 1.038862\n",
      "    transformation_err:\n",
      "      camera_Ofz: 0.273537\n",
      "      camera_phi: 0.017716\n",
      "      camera_theta: 0.017271\n",
      "\n"
     ]
    }
   ],
   "source": [
    "print(yaml.dump({\"rotate\": {case: {\"transformation\": rot4.round(\n",
    "    6).to_dict(), \"transformation_err\": rot_err4.round(6).to_dict()}}#\n",
    "                }))"
   ]
  },
  {
   "cell_type": "markdown",
   "id": "6f7100b0",
   "metadata": {},
   "source": [
    "# check camera positions"
   ]
  },
  {
   "cell_type": "code",
   "execution_count": 122,
   "id": "51bab4d2",
   "metadata": {
    "ExecuteTime": {
     "end_time": "2022-12-07T15:35:33.331639Z",
     "start_time": "2022-12-07T15:34:33.854423Z"
    }
   },
   "outputs": [
    {
     "ename": "FileNotFoundError",
     "evalue": "[Errno 2] No such file or directory: b'/projekt6/ag_maahn/data_obs_nobackup/sail/visss_2023.1.6/metaRotation/2023/01/20/metaRotation_V2023.1.6_sail_visss01_visss_leader_S1145792_20230120.nc'",
     "output_type": "error",
     "traceback": [
      "\u001b[0;31m---------------------------------------------------------------------------\u001b[0m",
      "\u001b[0;31mKeyError\u001b[0m                                  Traceback (most recent call last)",
      "File \u001b[0;32m~/miniconda3/envs/py311/lib/python3.11/site-packages/xarray/backends/file_manager.py:209\u001b[0m, in \u001b[0;36mCachingFileManager._acquire_with_cache_info\u001b[0;34m(self, needs_lock)\u001b[0m\n\u001b[1;32m    208\u001b[0m \u001b[38;5;28;01mtry\u001b[39;00m:\n\u001b[0;32m--> 209\u001b[0m     file \u001b[38;5;241m=\u001b[39m \u001b[38;5;28;43mself\u001b[39;49m\u001b[38;5;241;43m.\u001b[39;49m\u001b[43m_cache\u001b[49m\u001b[43m[\u001b[49m\u001b[38;5;28;43mself\u001b[39;49m\u001b[38;5;241;43m.\u001b[39;49m\u001b[43m_key\u001b[49m\u001b[43m]\u001b[49m\n\u001b[1;32m    210\u001b[0m \u001b[38;5;28;01mexcept\u001b[39;00m \u001b[38;5;167;01mKeyError\u001b[39;00m:\n",
      "File \u001b[0;32m~/miniconda3/envs/py311/lib/python3.11/site-packages/xarray/backends/lru_cache.py:55\u001b[0m, in \u001b[0;36mLRUCache.__getitem__\u001b[0;34m(self, key)\u001b[0m\n\u001b[1;32m     54\u001b[0m \u001b[38;5;28;01mwith\u001b[39;00m \u001b[38;5;28mself\u001b[39m\u001b[38;5;241m.\u001b[39m_lock:\n\u001b[0;32m---> 55\u001b[0m     value \u001b[38;5;241m=\u001b[39m \u001b[38;5;28;43mself\u001b[39;49m\u001b[38;5;241;43m.\u001b[39;49m\u001b[43m_cache\u001b[49m\u001b[43m[\u001b[49m\u001b[43mkey\u001b[49m\u001b[43m]\u001b[49m\n\u001b[1;32m     56\u001b[0m     \u001b[38;5;28mself\u001b[39m\u001b[38;5;241m.\u001b[39m_cache\u001b[38;5;241m.\u001b[39mmove_to_end(key)\n",
      "\u001b[0;31mKeyError\u001b[0m: [<class 'netCDF4._netCDF4.Dataset'>, ('/projekt6/ag_maahn/data_obs_nobackup/sail/visss_2023.1.6/metaRotation/2023/01/20/metaRotation_V2023.1.6_sail_visss01_visss_leader_S1145792_20230120.nc',), 'r', (('clobber', True), ('diskless', False), ('format', 'NETCDF4'), ('persist', False)), '6ac070bd-242b-4dfc-83c6-b958df61a807']",
      "\nDuring handling of the above exception, another exception occurred:\n",
      "\u001b[0;31mFileNotFoundError\u001b[0m                         Traceback (most recent call last)",
      "Cell \u001b[0;32mIn [122], line 1\u001b[0m\n\u001b[0;32m----> 1\u001b[0m fout, matchedDat, rot5, rot_err5 \u001b[38;5;241m=\u001b[39m \u001b[43mVISSSlib\u001b[49m\u001b[38;5;241;43m.\u001b[39;49m\u001b[43mmatching\u001b[49m\u001b[38;5;241;43m.\u001b[39;49m\u001b[43mmatchParticles\u001b[49m\u001b[43m(\u001b[49m\u001b[43mfname1L\u001b[49m\u001b[43m,\u001b[49m\u001b[43m \u001b[49m\u001b[43mconfig\u001b[49m\u001b[43m,\u001b[49m\u001b[43m \u001b[49m\u001b[43mrotate\u001b[49m\u001b[38;5;241;43m=\u001b[39;49m\u001b[43mrot4\u001b[49m\u001b[43m,\u001b[49m\u001b[43m \u001b[49m\u001b[43mrotate_err\u001b[49m\u001b[38;5;241;43m=\u001b[39;49m\u001b[43mrot_err4\u001b[49m\u001b[43m,\u001b[49m\u001b[43m \u001b[49m\u001b[43mminSamples4rot\u001b[49m\u001b[38;5;241;43m=\u001b[39;49m\u001b[38;5;241;43m5\u001b[39;49m\u001b[43m)\u001b[49m\n",
      "File \u001b[0;32m~/projectsSrv/VISSSlib/src/VISSSlib/matching.py:822\u001b[0m, in \u001b[0;36mmatchParticles\u001b[0;34m(fnameLv1Detect, config, y_cov_diag, version, chunckSize, rotate, rotate_err, maxDiffMs, rotationOnly, nPoints, sigma, nSamples4rot, minSamples4rot, testing, minDMax4rot, singleParticleFramesOnly, doRot)\u001b[0m\n\u001b[1;32m    819\u001b[0m \u001b[38;5;28;01mif\u001b[39;00m \u001b[38;5;129;01mnot\u001b[39;00m doRot:\n\u001b[1;32m    820\u001b[0m     \u001b[38;5;66;03m# get rotation estimates instead of etimating them\u001b[39;00m\n\u001b[1;32m    821\u001b[0m     fnameMetaRotation \u001b[38;5;241m=\u001b[39m ffl1\u001b[38;5;241m.\u001b[39mfname[\u001b[38;5;124m\"\u001b[39m\u001b[38;5;124mmetaRotation\u001b[39m\u001b[38;5;124m\"\u001b[39m]\n\u001b[0;32m--> 822\u001b[0m     metaRotationDat \u001b[38;5;241m=\u001b[39m \u001b[43mxr\u001b[49m\u001b[38;5;241;43m.\u001b[39;49m\u001b[43mopen_dataset\u001b[49m\u001b[43m(\u001b[49m\u001b[43mfnameMetaRotation\u001b[49m\u001b[43m)\u001b[49m\n\u001b[1;32m    823\u001b[0m     config \u001b[38;5;241m=\u001b[39m tools\u001b[38;5;241m.\u001b[39mrotXr2dict(metaRotationDat, config)\n\u001b[1;32m    825\u001b[0m matchedDat \u001b[38;5;241m=\u001b[39m \u001b[38;5;28;01mNone\u001b[39;00m\n",
      "File \u001b[0;32m~/miniconda3/envs/py311/lib/python3.11/site-packages/xarray/backends/api.py:539\u001b[0m, in \u001b[0;36mopen_dataset\u001b[0;34m(filename_or_obj, engine, chunks, cache, decode_cf, mask_and_scale, decode_times, decode_timedelta, use_cftime, concat_characters, decode_coords, drop_variables, inline_array, backend_kwargs, **kwargs)\u001b[0m\n\u001b[1;32m    527\u001b[0m decoders \u001b[38;5;241m=\u001b[39m _resolve_decoders_kwargs(\n\u001b[1;32m    528\u001b[0m     decode_cf,\n\u001b[1;32m    529\u001b[0m     open_backend_dataset_parameters\u001b[38;5;241m=\u001b[39mbackend\u001b[38;5;241m.\u001b[39mopen_dataset_parameters,\n\u001b[0;32m   (...)\u001b[0m\n\u001b[1;32m    535\u001b[0m     decode_coords\u001b[38;5;241m=\u001b[39mdecode_coords,\n\u001b[1;32m    536\u001b[0m )\n\u001b[1;32m    538\u001b[0m overwrite_encoded_chunks \u001b[38;5;241m=\u001b[39m kwargs\u001b[38;5;241m.\u001b[39mpop(\u001b[38;5;124m\"\u001b[39m\u001b[38;5;124moverwrite_encoded_chunks\u001b[39m\u001b[38;5;124m\"\u001b[39m, \u001b[38;5;28;01mNone\u001b[39;00m)\n\u001b[0;32m--> 539\u001b[0m backend_ds \u001b[38;5;241m=\u001b[39m \u001b[43mbackend\u001b[49m\u001b[38;5;241;43m.\u001b[39;49m\u001b[43mopen_dataset\u001b[49m\u001b[43m(\u001b[49m\n\u001b[1;32m    540\u001b[0m \u001b[43m    \u001b[49m\u001b[43mfilename_or_obj\u001b[49m\u001b[43m,\u001b[49m\n\u001b[1;32m    541\u001b[0m \u001b[43m    \u001b[49m\u001b[43mdrop_variables\u001b[49m\u001b[38;5;241;43m=\u001b[39;49m\u001b[43mdrop_variables\u001b[49m\u001b[43m,\u001b[49m\n\u001b[1;32m    542\u001b[0m \u001b[43m    \u001b[49m\u001b[38;5;241;43m*\u001b[39;49m\u001b[38;5;241;43m*\u001b[39;49m\u001b[43mdecoders\u001b[49m\u001b[43m,\u001b[49m\n\u001b[1;32m    543\u001b[0m \u001b[43m    \u001b[49m\u001b[38;5;241;43m*\u001b[39;49m\u001b[38;5;241;43m*\u001b[39;49m\u001b[43mkwargs\u001b[49m\u001b[43m,\u001b[49m\n\u001b[1;32m    544\u001b[0m \u001b[43m\u001b[49m\u001b[43m)\u001b[49m\n\u001b[1;32m    545\u001b[0m ds \u001b[38;5;241m=\u001b[39m _dataset_from_backend_dataset(\n\u001b[1;32m    546\u001b[0m     backend_ds,\n\u001b[1;32m    547\u001b[0m     filename_or_obj,\n\u001b[0;32m   (...)\u001b[0m\n\u001b[1;32m    555\u001b[0m     \u001b[38;5;241m*\u001b[39m\u001b[38;5;241m*\u001b[39mkwargs,\n\u001b[1;32m    556\u001b[0m )\n\u001b[1;32m    557\u001b[0m \u001b[38;5;28;01mreturn\u001b[39;00m ds\n",
      "File \u001b[0;32m~/miniconda3/envs/py311/lib/python3.11/site-packages/xarray/backends/netCDF4_.py:572\u001b[0m, in \u001b[0;36mNetCDF4BackendEntrypoint.open_dataset\u001b[0;34m(self, filename_or_obj, mask_and_scale, decode_times, concat_characters, decode_coords, drop_variables, use_cftime, decode_timedelta, group, mode, format, clobber, diskless, persist, lock, autoclose)\u001b[0m\n\u001b[1;32m    551\u001b[0m \u001b[38;5;28;01mdef\u001b[39;00m \u001b[38;5;21mopen_dataset\u001b[39m(\n\u001b[1;32m    552\u001b[0m     \u001b[38;5;28mself\u001b[39m,\n\u001b[1;32m    553\u001b[0m     filename_or_obj,\n\u001b[0;32m   (...)\u001b[0m\n\u001b[1;32m    568\u001b[0m     autoclose\u001b[38;5;241m=\u001b[39m\u001b[38;5;28;01mFalse\u001b[39;00m,\n\u001b[1;32m    569\u001b[0m ):\n\u001b[1;32m    571\u001b[0m     filename_or_obj \u001b[38;5;241m=\u001b[39m _normalize_path(filename_or_obj)\n\u001b[0;32m--> 572\u001b[0m     store \u001b[38;5;241m=\u001b[39m \u001b[43mNetCDF4DataStore\u001b[49m\u001b[38;5;241;43m.\u001b[39;49m\u001b[43mopen\u001b[49m\u001b[43m(\u001b[49m\n\u001b[1;32m    573\u001b[0m \u001b[43m        \u001b[49m\u001b[43mfilename_or_obj\u001b[49m\u001b[43m,\u001b[49m\n\u001b[1;32m    574\u001b[0m \u001b[43m        \u001b[49m\u001b[43mmode\u001b[49m\u001b[38;5;241;43m=\u001b[39;49m\u001b[43mmode\u001b[49m\u001b[43m,\u001b[49m\n\u001b[1;32m    575\u001b[0m \u001b[43m        \u001b[49m\u001b[38;5;28;43mformat\u001b[39;49m\u001b[38;5;241;43m=\u001b[39;49m\u001b[38;5;28;43mformat\u001b[39;49m\u001b[43m,\u001b[49m\n\u001b[1;32m    576\u001b[0m \u001b[43m        \u001b[49m\u001b[43mgroup\u001b[49m\u001b[38;5;241;43m=\u001b[39;49m\u001b[43mgroup\u001b[49m\u001b[43m,\u001b[49m\n\u001b[1;32m    577\u001b[0m \u001b[43m        \u001b[49m\u001b[43mclobber\u001b[49m\u001b[38;5;241;43m=\u001b[39;49m\u001b[43mclobber\u001b[49m\u001b[43m,\u001b[49m\n\u001b[1;32m    578\u001b[0m \u001b[43m        \u001b[49m\u001b[43mdiskless\u001b[49m\u001b[38;5;241;43m=\u001b[39;49m\u001b[43mdiskless\u001b[49m\u001b[43m,\u001b[49m\n\u001b[1;32m    579\u001b[0m \u001b[43m        \u001b[49m\u001b[43mpersist\u001b[49m\u001b[38;5;241;43m=\u001b[39;49m\u001b[43mpersist\u001b[49m\u001b[43m,\u001b[49m\n\u001b[1;32m    580\u001b[0m \u001b[43m        \u001b[49m\u001b[43mlock\u001b[49m\u001b[38;5;241;43m=\u001b[39;49m\u001b[43mlock\u001b[49m\u001b[43m,\u001b[49m\n\u001b[1;32m    581\u001b[0m \u001b[43m        \u001b[49m\u001b[43mautoclose\u001b[49m\u001b[38;5;241;43m=\u001b[39;49m\u001b[43mautoclose\u001b[49m\u001b[43m,\u001b[49m\n\u001b[1;32m    582\u001b[0m \u001b[43m    \u001b[49m\u001b[43m)\u001b[49m\n\u001b[1;32m    584\u001b[0m     store_entrypoint \u001b[38;5;241m=\u001b[39m StoreBackendEntrypoint()\n\u001b[1;32m    585\u001b[0m     \u001b[38;5;28;01mwith\u001b[39;00m close_on_error(store):\n",
      "File \u001b[0;32m~/miniconda3/envs/py311/lib/python3.11/site-packages/xarray/backends/netCDF4_.py:376\u001b[0m, in \u001b[0;36mNetCDF4DataStore.open\u001b[0;34m(cls, filename, mode, format, group, clobber, diskless, persist, lock, lock_maker, autoclose)\u001b[0m\n\u001b[1;32m    370\u001b[0m kwargs \u001b[38;5;241m=\u001b[39m \u001b[38;5;28mdict\u001b[39m(\n\u001b[1;32m    371\u001b[0m     clobber\u001b[38;5;241m=\u001b[39mclobber, diskless\u001b[38;5;241m=\u001b[39mdiskless, persist\u001b[38;5;241m=\u001b[39mpersist, \u001b[38;5;28mformat\u001b[39m\u001b[38;5;241m=\u001b[39m\u001b[38;5;28mformat\u001b[39m\n\u001b[1;32m    372\u001b[0m )\n\u001b[1;32m    373\u001b[0m manager \u001b[38;5;241m=\u001b[39m CachingFileManager(\n\u001b[1;32m    374\u001b[0m     netCDF4\u001b[38;5;241m.\u001b[39mDataset, filename, mode\u001b[38;5;241m=\u001b[39mmode, kwargs\u001b[38;5;241m=\u001b[39mkwargs\n\u001b[1;32m    375\u001b[0m )\n\u001b[0;32m--> 376\u001b[0m \u001b[38;5;28;01mreturn\u001b[39;00m \u001b[38;5;28;43mcls\u001b[39;49m\u001b[43m(\u001b[49m\u001b[43mmanager\u001b[49m\u001b[43m,\u001b[49m\u001b[43m \u001b[49m\u001b[43mgroup\u001b[49m\u001b[38;5;241;43m=\u001b[39;49m\u001b[43mgroup\u001b[49m\u001b[43m,\u001b[49m\u001b[43m \u001b[49m\u001b[43mmode\u001b[49m\u001b[38;5;241;43m=\u001b[39;49m\u001b[43mmode\u001b[49m\u001b[43m,\u001b[49m\u001b[43m \u001b[49m\u001b[43mlock\u001b[49m\u001b[38;5;241;43m=\u001b[39;49m\u001b[43mlock\u001b[49m\u001b[43m,\u001b[49m\u001b[43m \u001b[49m\u001b[43mautoclose\u001b[49m\u001b[38;5;241;43m=\u001b[39;49m\u001b[43mautoclose\u001b[49m\u001b[43m)\u001b[49m\n",
      "File \u001b[0;32m~/miniconda3/envs/py311/lib/python3.11/site-packages/xarray/backends/netCDF4_.py:323\u001b[0m, in \u001b[0;36mNetCDF4DataStore.__init__\u001b[0;34m(self, manager, group, mode, lock, autoclose)\u001b[0m\n\u001b[1;32m    321\u001b[0m \u001b[38;5;28mself\u001b[39m\u001b[38;5;241m.\u001b[39m_group \u001b[38;5;241m=\u001b[39m group\n\u001b[1;32m    322\u001b[0m \u001b[38;5;28mself\u001b[39m\u001b[38;5;241m.\u001b[39m_mode \u001b[38;5;241m=\u001b[39m mode\n\u001b[0;32m--> 323\u001b[0m \u001b[38;5;28mself\u001b[39m\u001b[38;5;241m.\u001b[39mformat \u001b[38;5;241m=\u001b[39m \u001b[38;5;28;43mself\u001b[39;49m\u001b[38;5;241;43m.\u001b[39;49m\u001b[43mds\u001b[49m\u001b[38;5;241m.\u001b[39mdata_model\n\u001b[1;32m    324\u001b[0m \u001b[38;5;28mself\u001b[39m\u001b[38;5;241m.\u001b[39m_filename \u001b[38;5;241m=\u001b[39m \u001b[38;5;28mself\u001b[39m\u001b[38;5;241m.\u001b[39mds\u001b[38;5;241m.\u001b[39mfilepath()\n\u001b[1;32m    325\u001b[0m \u001b[38;5;28mself\u001b[39m\u001b[38;5;241m.\u001b[39mis_remote \u001b[38;5;241m=\u001b[39m is_remote_uri(\u001b[38;5;28mself\u001b[39m\u001b[38;5;241m.\u001b[39m_filename)\n",
      "File \u001b[0;32m~/miniconda3/envs/py311/lib/python3.11/site-packages/xarray/backends/netCDF4_.py:385\u001b[0m, in \u001b[0;36mNetCDF4DataStore.ds\u001b[0;34m(self)\u001b[0m\n\u001b[1;32m    383\u001b[0m \u001b[38;5;129m@property\u001b[39m\n\u001b[1;32m    384\u001b[0m \u001b[38;5;28;01mdef\u001b[39;00m \u001b[38;5;21mds\u001b[39m(\u001b[38;5;28mself\u001b[39m):\n\u001b[0;32m--> 385\u001b[0m     \u001b[38;5;28;01mreturn\u001b[39;00m \u001b[38;5;28;43mself\u001b[39;49m\u001b[38;5;241;43m.\u001b[39;49m\u001b[43m_acquire\u001b[49m\u001b[43m(\u001b[49m\u001b[43m)\u001b[49m\n",
      "File \u001b[0;32m~/miniconda3/envs/py311/lib/python3.11/site-packages/xarray/backends/netCDF4_.py:379\u001b[0m, in \u001b[0;36mNetCDF4DataStore._acquire\u001b[0;34m(self, needs_lock)\u001b[0m\n\u001b[1;32m    378\u001b[0m \u001b[38;5;28;01mdef\u001b[39;00m \u001b[38;5;21m_acquire\u001b[39m(\u001b[38;5;28mself\u001b[39m, needs_lock\u001b[38;5;241m=\u001b[39m\u001b[38;5;28;01mTrue\u001b[39;00m):\n\u001b[0;32m--> 379\u001b[0m \u001b[43m    \u001b[49m\u001b[38;5;28;43;01mwith\u001b[39;49;00m\u001b[43m \u001b[49m\u001b[38;5;28;43mself\u001b[39;49m\u001b[38;5;241;43m.\u001b[39;49m\u001b[43m_manager\u001b[49m\u001b[38;5;241;43m.\u001b[39;49m\u001b[43macquire_context\u001b[49m\u001b[43m(\u001b[49m\u001b[43mneeds_lock\u001b[49m\u001b[43m)\u001b[49m\u001b[43m \u001b[49m\u001b[38;5;28;43;01mas\u001b[39;49;00m\u001b[43m \u001b[49m\u001b[43mroot\u001b[49m\u001b[43m:\u001b[49m\n\u001b[1;32m    380\u001b[0m \u001b[43m        \u001b[49m\u001b[43mds\u001b[49m\u001b[43m \u001b[49m\u001b[38;5;241;43m=\u001b[39;49m\u001b[43m \u001b[49m\u001b[43m_nc4_require_group\u001b[49m\u001b[43m(\u001b[49m\u001b[43mroot\u001b[49m\u001b[43m,\u001b[49m\u001b[43m \u001b[49m\u001b[38;5;28;43mself\u001b[39;49m\u001b[38;5;241;43m.\u001b[39;49m\u001b[43m_group\u001b[49m\u001b[43m,\u001b[49m\u001b[43m \u001b[49m\u001b[38;5;28;43mself\u001b[39;49m\u001b[38;5;241;43m.\u001b[39;49m\u001b[43m_mode\u001b[49m\u001b[43m)\u001b[49m\n\u001b[1;32m    381\u001b[0m     \u001b[38;5;28;01mreturn\u001b[39;00m ds\n",
      "File \u001b[0;32m~/miniconda3/envs/py311/lib/python3.11/contextlib.py:137\u001b[0m, in \u001b[0;36m_GeneratorContextManager.__enter__\u001b[0;34m(self)\u001b[0m\n\u001b[1;32m    135\u001b[0m \u001b[38;5;28;01mdel\u001b[39;00m \u001b[38;5;28mself\u001b[39m\u001b[38;5;241m.\u001b[39margs, \u001b[38;5;28mself\u001b[39m\u001b[38;5;241m.\u001b[39mkwds, \u001b[38;5;28mself\u001b[39m\u001b[38;5;241m.\u001b[39mfunc\n\u001b[1;32m    136\u001b[0m \u001b[38;5;28;01mtry\u001b[39;00m:\n\u001b[0;32m--> 137\u001b[0m     \u001b[38;5;28;01mreturn\u001b[39;00m \u001b[38;5;28mnext\u001b[39m(\u001b[38;5;28mself\u001b[39m\u001b[38;5;241m.\u001b[39mgen)\n\u001b[1;32m    138\u001b[0m \u001b[38;5;28;01mexcept\u001b[39;00m \u001b[38;5;167;01mStopIteration\u001b[39;00m:\n\u001b[1;32m    139\u001b[0m     \u001b[38;5;28;01mraise\u001b[39;00m \u001b[38;5;167;01mRuntimeError\u001b[39;00m(\u001b[38;5;124m\"\u001b[39m\u001b[38;5;124mgenerator didn\u001b[39m\u001b[38;5;124m'\u001b[39m\u001b[38;5;124mt yield\u001b[39m\u001b[38;5;124m\"\u001b[39m) \u001b[38;5;28;01mfrom\u001b[39;00m \u001b[38;5;28mNone\u001b[39m\n",
      "File \u001b[0;32m~/miniconda3/envs/py311/lib/python3.11/site-packages/xarray/backends/file_manager.py:197\u001b[0m, in \u001b[0;36mCachingFileManager.acquire_context\u001b[0;34m(self, needs_lock)\u001b[0m\n\u001b[1;32m    194\u001b[0m \u001b[38;5;129m@contextlib\u001b[39m\u001b[38;5;241m.\u001b[39mcontextmanager\n\u001b[1;32m    195\u001b[0m \u001b[38;5;28;01mdef\u001b[39;00m \u001b[38;5;21macquire_context\u001b[39m(\u001b[38;5;28mself\u001b[39m, needs_lock\u001b[38;5;241m=\u001b[39m\u001b[38;5;28;01mTrue\u001b[39;00m):\n\u001b[1;32m    196\u001b[0m     \u001b[38;5;124;03m\"\"\"Context manager for acquiring a file.\"\"\"\u001b[39;00m\n\u001b[0;32m--> 197\u001b[0m     file, cached \u001b[38;5;241m=\u001b[39m \u001b[38;5;28;43mself\u001b[39;49m\u001b[38;5;241;43m.\u001b[39;49m\u001b[43m_acquire_with_cache_info\u001b[49m\u001b[43m(\u001b[49m\u001b[43mneeds_lock\u001b[49m\u001b[43m)\u001b[49m\n\u001b[1;32m    198\u001b[0m     \u001b[38;5;28;01mtry\u001b[39;00m:\n\u001b[1;32m    199\u001b[0m         \u001b[38;5;28;01myield\u001b[39;00m file\n",
      "File \u001b[0;32m~/miniconda3/envs/py311/lib/python3.11/site-packages/xarray/backends/file_manager.py:215\u001b[0m, in \u001b[0;36mCachingFileManager._acquire_with_cache_info\u001b[0;34m(self, needs_lock)\u001b[0m\n\u001b[1;32m    213\u001b[0m     kwargs \u001b[38;5;241m=\u001b[39m kwargs\u001b[38;5;241m.\u001b[39mcopy()\n\u001b[1;32m    214\u001b[0m     kwargs[\u001b[38;5;124m\"\u001b[39m\u001b[38;5;124mmode\u001b[39m\u001b[38;5;124m\"\u001b[39m] \u001b[38;5;241m=\u001b[39m \u001b[38;5;28mself\u001b[39m\u001b[38;5;241m.\u001b[39m_mode\n\u001b[0;32m--> 215\u001b[0m file \u001b[38;5;241m=\u001b[39m \u001b[38;5;28;43mself\u001b[39;49m\u001b[38;5;241;43m.\u001b[39;49m\u001b[43m_opener\u001b[49m\u001b[43m(\u001b[49m\u001b[38;5;241;43m*\u001b[39;49m\u001b[38;5;28;43mself\u001b[39;49m\u001b[38;5;241;43m.\u001b[39;49m\u001b[43m_args\u001b[49m\u001b[43m,\u001b[49m\u001b[43m \u001b[49m\u001b[38;5;241;43m*\u001b[39;49m\u001b[38;5;241;43m*\u001b[39;49m\u001b[43mkwargs\u001b[49m\u001b[43m)\u001b[49m\n\u001b[1;32m    216\u001b[0m \u001b[38;5;28;01mif\u001b[39;00m \u001b[38;5;28mself\u001b[39m\u001b[38;5;241m.\u001b[39m_mode \u001b[38;5;241m==\u001b[39m \u001b[38;5;124m\"\u001b[39m\u001b[38;5;124mw\u001b[39m\u001b[38;5;124m\"\u001b[39m:\n\u001b[1;32m    217\u001b[0m     \u001b[38;5;66;03m# ensure file doesn't get overridden when opened again\u001b[39;00m\n\u001b[1;32m    218\u001b[0m     \u001b[38;5;28mself\u001b[39m\u001b[38;5;241m.\u001b[39m_mode \u001b[38;5;241m=\u001b[39m \u001b[38;5;124m\"\u001b[39m\u001b[38;5;124ma\u001b[39m\u001b[38;5;124m\"\u001b[39m\n",
      "File \u001b[0;32msrc/netCDF4/_netCDF4.pyx:2463\u001b[0m, in \u001b[0;36mnetCDF4._netCDF4.Dataset.__init__\u001b[0;34m()\u001b[0m\n",
      "File \u001b[0;32msrc/netCDF4/_netCDF4.pyx:2026\u001b[0m, in \u001b[0;36mnetCDF4._netCDF4._ensure_nc_success\u001b[0;34m()\u001b[0m\n",
      "\u001b[0;31mFileNotFoundError\u001b[0m: [Errno 2] No such file or directory: b'/projekt6/ag_maahn/data_obs_nobackup/sail/visss_2023.1.6/metaRotation/2023/01/20/metaRotation_V2023.1.6_sail_visss01_visss_leader_S1145792_20230120.nc'"
     ]
    }
   ],
   "source": [
    "fout, matchedDat, rot5, rot_err5 = VISSSlib.matching.matchParticles(fname1L, config, rotate=rot4, rotate_err=rot_err4, minSamples4rot=5)\n"
   ]
  },
  {
   "cell_type": "code",
   "execution_count": null,
   "id": "31a6669f",
   "metadata": {
    "ExecuteTime": {
     "end_time": "2022-12-07T15:35:33.333756Z",
     "start_time": "2022-12-07T15:35:33.333745Z"
    }
   },
   "outputs": [],
   "source": [
    "(matchedDat.position3D.sel(position3D_elements=\"z\") - matchedDat.position3D.sel(position3D_elements=\"z_rotated\")).plot.hist(bins=np.arange(-10,11,1))"
   ]
  },
  {
   "cell_type": "code",
   "execution_count": null,
   "id": "7d8f2cae",
   "metadata": {
    "ExecuteTime": {
     "end_time": "2022-11-09T16:07:04.184217Z",
     "start_time": "2022-11-09T16:07:04.180290Z"
    }
   },
   "outputs": [],
   "source": []
  },
  {
   "cell_type": "code",
   "execution_count": 18,
   "id": "e210e9c5",
   "metadata": {
    "ExecuteTime": {
     "end_time": "2022-12-07T15:06:26.529836Z",
     "start_time": "2022-12-07T15:06:26.480587Z"
    }
   },
   "outputs": [],
   "source": [
    "ii = (matchedDat.Dmax.mean(\"camera\")> 20) & (matchedDat.blur.mean(\"camera\")> 500)\n",
    "ii = (matchedDat.Dmax.mean(\"camera\")> 1) & (matchedDat.blur.mean(\"camera\")> 1)\n",
    "matchedDat1 = matchedDat.isel(pair_id=ii)"
   ]
  },
  {
   "cell_type": "code",
   "execution_count": 19,
   "id": "a7ea8f10",
   "metadata": {
    "ExecuteTime": {
     "end_time": "2022-12-07T15:06:26.535523Z",
     "start_time": "2022-12-07T15:06:26.532196Z"
    }
   },
   "outputs": [],
   "source": [
    "bins = np.linspace(0, config.frame_width, 21)"
   ]
  },
  {
   "cell_type": "code",
   "execution_count": 20,
   "id": "c1205826",
   "metadata": {
    "ExecuteTime": {
     "end_time": "2022-12-07T15:06:26.915135Z",
     "start_time": "2022-12-07T15:06:26.537556Z"
    }
   },
   "outputs": [
    {
     "data": {
      "text/plain": [
       "(0.0, 1280.0)"
      ]
     },
     "execution_count": 20,
     "metadata": {},
     "output_type": "execute_result"
    },
    {
     "data": {
      "image/png": "[encoded data removed]",
      "text/plain": [
       "<Figure size 640x480 with 1 Axes>"
      ]
     },
     "metadata": {},
     "output_type": "display_data"
    }
   ],
   "source": [
    "x =(matchedDat1.roi.sel(ROI_elements=\"x\", camera=config.follower) +\n",
    "                        (matchedDat1.roi.sel(ROI_elements=\"w\", camera=config.follower)/2))\n",
    "\n",
    "plt.scatter(x, matchedDat1.blur.sel(camera=config.leader))\n",
    "\n",
    "med = matchedDat1.blur.sel(camera=config.leader).groupby_bins(x, bins=bins).median()\n",
    "\n",
    "med.plot(color=\"C1\", label=\"median\")\n",
    "\n",
    "peakPos = med.roi_bins[[med.argmax()]].values[0].mid\n",
    "plt.axvline(peakPos, color=\"C2\", label=\"actual peak position\")\n",
    "plt.axvline(config.frame_width//2, color=\"C3\", label=\"best peak position\")\n",
    "\n",
    "plt.legend()\n",
    "plt.xlabel(\"x position in cam coordinates (from follower)\")\n",
    "distance = peakPos-config.frame_width//2\n",
    "distanceMM = distance*config.resolution/1000\n",
    "plt.title(\"follower aiming quality: %i px = %.1f mm\"%(distance, distanceMM))\n",
    "\n",
    "plt.xlim(0,config.frame_width)"
   ]
  },
  {
   "cell_type": "code",
   "execution_count": 21,
   "id": "80c8d092",
   "metadata": {
    "ExecuteTime": {
     "end_time": "2022-12-07T15:06:27.228843Z",
     "start_time": "2022-12-07T15:06:26.917459Z"
    }
   },
   "outputs": [
    {
     "data": {
      "text/plain": [
       "(0.0, 1280.0)"
      ]
     },
     "execution_count": 21,
     "metadata": {},
     "output_type": "execute_result"
    },
    {
     "data": {
      "image/png": "[encoded data removed]",
      "text/plain": [
       "<Figure size 640x480 with 1 Axes>"
      ]
     },
     "metadata": {},
     "output_type": "display_data"
    }
   ],
   "source": [
    "x =(matchedDat1.roi.sel(ROI_elements=\"x\", camera=config.leader) +\n",
    "                        (matchedDat1.roi.sel(ROI_elements=\"w\", camera=config.leader)/2))\n",
    "\n",
    "plt.scatter(x, matchedDat1.blur.sel(camera=config.follower))\n",
    "\n",
    "\n",
    "med = matchedDat1.blur.sel(camera=config.follower).groupby_bins(x, bins=bins).median()\n",
    "\n",
    "med.plot(color=\"C1\", label=\"median\")\n",
    "\n",
    "peakPos = med.roi_bins[[med.argmax()]].values[0].mid\n",
    "plt.axvline(peakPos, color=\"C2\", label=\"actual peak position\")\n",
    "plt.axvline(config.frame_width//2, color=\"C3\", label=\"best peak position\")\n",
    "\n",
    "plt.legend()\n",
    "plt.xlabel(\"x position in cam coordinates (from leader)\")\n",
    "\n",
    "distance = peakPos-config.frame_width//2\n",
    "distanceMM = distance*config.resolution/1000\n",
    "plt.title(\"leader aiming quality: %i px = %.1f mm\"%(distance, distanceMM))\n",
    "\n",
    "plt.xlim(0,config.frame_width)"
   ]
  },
  {
   "cell_type": "code",
   "execution_count": 22,
   "id": "168b3859",
   "metadata": {
    "ExecuteTime": {
     "end_time": "2022-12-07T15:06:27.255573Z",
     "start_time": "2022-12-07T15:06:27.231133Z"
    }
   },
   "outputs": [
    {
     "data": {
      "text/html": [
       "<div><svg style=\"position: absolute; width: 0; height: 0; overflow: hidden\">\n",
       "<defs>\n",
       "<symbol id=\"icon-database\" viewBox=\"0 0 32 32\">\n",
       "<path d=\"M16 0c-8.837 0-16 2.239-16 5v4c0 2.761 7.163 5 16 5s16-2.239 16-5v-4c0-2.761-7.163-5-16-5z\"></path>\n",
       "<path d=\"M16 17c-8.837 0-16-2.239-16-5v6c0 2.761 7.163 5 16 5s16-2.239 16-5v-6c0 2.761-7.163 5-16 5z\"></path>\n",
       "<path d=\"M16 26c-8.837 0-16-2.239-16-5v6c0 2.761 7.163 5 16 5s16-2.239 16-5v-6c0 2.761-7.163 5-16 5z\"></path>\n",
       "</symbol>\n",
       "<symbol id=\"icon-file-text2\" viewBox=\"0 0 32 32\">\n",
       "<path d=\"M28.681 7.159c-0.694-0.947-1.662-2.053-2.724-3.116s-2.169-2.030-3.116-2.724c-1.612-1.182-2.393-1.319-2.841-1.319h-15.5c-1.378 0-2.5 1.121-2.5 2.5v27c0 1.378 1.122 2.5 2.5 2.5h23c1.378 0 2.5-1.122 2.5-2.5v-19.5c0-0.448-0.137-1.23-1.319-2.841zM24.543 5.457c0.959 0.959 1.712 1.825 2.268 2.543h-4.811v-4.811c0.718 0.556 1.584 1.309 2.543 2.268zM28 29.5c0 0.271-0.229 0.5-0.5 0.5h-23c-0.271 0-0.5-0.229-0.5-0.5v-27c0-0.271 0.229-0.5 0.5-0.5 0 0 15.499-0 15.5 0v7c0 0.552 0.448 1 1 1h7v19.5z\"></path>\n",
       "<path d=\"M23 26h-14c-0.552 0-1-0.448-1-1s0.448-1 1-1h14c0.552 0 1 0.448 1 1s-0.448 1-1 1z\"></path>\n",
       "<path d=\"M23 22h-14c-0.552 0-1-0.448-1-1s0.448-1 1-1h14c0.552 0 1 0.448 1 1s-0.448 1-1 1z\"></path>\n",
       "<path d=\"M23 18h-14c-0.552 0-1-0.448-1-1s0.448-1 1-1h14c0.552 0 1 0.448 1 1s-0.448 1-1 1z\"></path>\n",
       "</symbol>\n",
       "</defs>\n",
       "</svg>\n",
       "<style>/* CSS stylesheet for displaying xarray objects in jupyterlab.\n",
       " *\n",
       " */\n",
       "\n",
       ":root {\n",
       "  --xr-font-color0: var(--jp-content-font-color0, rgba(0, 0, 0, 1));\n",
       "  --xr-font-color2: var(--jp-content-font-color2, rgba(0, 0, 0, 0.54));\n",
       "  --xr-font-color3: var(--jp-content-font-color3, rgba(0, 0, 0, 0.38));\n",
       "  --xr-border-color: var(--jp-border-color2, #e0e0e0);\n",
       "  --xr-disabled-color: var(--jp-layout-color3, #bdbdbd);\n",
       "  --xr-background-color: var(--jp-layout-color0, white);\n",
       "  --xr-background-color-row-even: var(--jp-layout-color1, white);\n",
       "  --xr-background-color-row-odd: var(--jp-layout-color2, #eeeeee);\n",
       "}\n",
       "\n",
       "html[theme=dark],\n",
       "body[data-theme=dark],\n",
       "body.vscode-dark {\n",
       "  --xr-font-color0: rgba(255, 255, 255, 1);\n",
       "  --xr-font-color2: rgba(255, 255, 255, 0.54);\n",
       "  --xr-font-color3: rgba(255, 255, 255, 0.38);\n",
       "  --xr-border-color: #1F1F1F;\n",
       "  --xr-disabled-color: #515151;\n",
       "  --xr-background-color: #111111;\n",
       "  --xr-background-color-row-even: #111111;\n",
       "  --xr-background-color-row-odd: #313131;\n",
       "}\n",
       "\n",
       ".xr-wrap {\n",
       "  display: block !important;\n",
       "  min-width: 300px;\n",
       "  max-width: 700px;\n",
       "}\n",
       "\n",
       ".xr-text-repr-fallback {\n",
       "  /* fallback to plain text repr when CSS is not injected (untrusted notebook) */\n",
       "  display: none;\n",
       "}\n",
       "\n",
       ".xr-header {\n",
       "  padding-top: 6px;\n",
       "  padding-bottom: 6px;\n",
       "  margin-bottom: 4px;\n",
       "  border-bottom: solid 1px var(--xr-border-color);\n",
       "}\n",
       "\n",
       ".xr-header > div,\n",
       ".xr-header > ul {\n",
       "  display: inline;\n",
       "  margin-top: 0;\n",
       "  margin-bottom: 0;\n",
       "}\n",
       "\n",
       ".xr-obj-type,\n",
       ".xr-array-name {\n",
       "  margin-left: 2px;\n",
       "  margin-right: 10px;\n",
       "}\n",
       "\n",
       ".xr-obj-type {\n",
       "  color: var(--xr-font-color2);\n",
       "}\n",
       "\n",
       ".xr-sections {\n",
       "  padding-left: 0 !important;\n",
       "  display: grid;\n",
       "  grid-template-columns: 150px auto auto 1fr 20px 20px;\n",
       "}\n",
       "\n",
       ".xr-section-item {\n",
       "  display: contents;\n",
       "}\n",
       "\n",
       ".xr-section-item input {\n",
       "  display: none;\n",
       "}\n",
       "\n",
       ".xr-section-item input + label {\n",
       "  color: var(--xr-disabled-color);\n",
       "}\n",
       "\n",
       ".xr-section-item input:enabled + label {\n",
       "  cursor: pointer;\n",
       "  color: var(--xr-font-color2);\n",
       "}\n",
       "\n",
       ".xr-section-item input:enabled + label:hover {\n",
       "  color: var(--xr-font-color0);\n",
       "}\n",
       "\n",
       ".xr-section-summary {\n",
       "  grid-column: 1;\n",
       "  color: var(--xr-font-color2);\n",
       "  font-weight: 500;\n",
       "}\n",
       "\n",
       ".xr-section-summary > span {\n",
       "  display: inline-block;\n",
       "  padding-left: 0.5em;\n",
       "}\n",
       "\n",
       ".xr-section-summary-in:disabled + label {\n",
       "  color: var(--xr-font-color2);\n",
       "}\n",
       "\n",
       ".xr-section-summary-in + label:before {\n",
       "  display: inline-block;\n",
       "  content: '►';\n",
       "  font-size: 11px;\n",
       "  width: 15px;\n",
       "  text-align: center;\n",
       "}\n",
       "\n",
       ".xr-section-summary-in:disabled + label:before {\n",
       "  color: var(--xr-disabled-color);\n",
       "}\n",
       "\n",
       ".xr-section-summary-in:checked + label:before {\n",
       "  content: '▼';\n",
       "}\n",
       "\n",
       ".xr-section-summary-in:checked + label > span {\n",
       "  display: none;\n",
       "}\n",
       "\n",
       ".xr-section-summary,\n",
       ".xr-section-inline-details {\n",
       "  padding-top: 4px;\n",
       "  padding-bottom: 4px;\n",
       "}\n",
       "\n",
       ".xr-section-inline-details {\n",
       "  grid-column: 2 / -1;\n",
       "}\n",
       "\n",
       ".xr-section-details {\n",
       "  display: none;\n",
       "  grid-column: 1 / -1;\n",
       "  margin-bottom: 5px;\n",
       "}\n",
       "\n",
       ".xr-section-summary-in:checked ~ .xr-section-details {\n",
       "  display: contents;\n",
       "}\n",
       "\n",
       ".xr-array-wrap {\n",
       "  grid-column: 1 / -1;\n",
       "  display: grid;\n",
       "  grid-template-columns: 20px auto;\n",
       "}\n",
       "\n",
       ".xr-array-wrap > label {\n",
       "  grid-column: 1;\n",
       "  vertical-align: top;\n",
       "}\n",
       "\n",
       ".xr-preview {\n",
       "  color: var(--xr-font-color3);\n",
       "}\n",
       "\n",
       ".xr-array-preview,\n",
       ".xr-array-data {\n",
       "  padding: 0 5px !important;\n",
       "  grid-column: 2;\n",
       "}\n",
       "\n",
       ".xr-array-data,\n",
       ".xr-array-in:checked ~ .xr-array-preview {\n",
       "  display: none;\n",
       "}\n",
       "\n",
       ".xr-array-in:checked ~ .xr-array-data,\n",
       ".xr-array-preview {\n",
       "  display: inline-block;\n",
       "}\n",
       "\n",
       ".xr-dim-list {\n",
       "  display: inline-block !important;\n",
       "  list-style: none;\n",
       "  padding: 0 !important;\n",
       "  margin: 0;\n",
       "}\n",
       "\n",
       ".xr-dim-list li {\n",
       "  display: inline-block;\n",
       "  padding: 0;\n",
       "  margin: 0;\n",
       "}\n",
       "\n",
       ".xr-dim-list:before {\n",
       "  content: '(';\n",
       "}\n",
       "\n",
       ".xr-dim-list:after {\n",
       "  content: ')';\n",
       "}\n",
       "\n",
       ".xr-dim-list li:not(:last-child):after {\n",
       "  content: ',';\n",
       "  padding-right: 5px;\n",
       "}\n",
       "\n",
       ".xr-has-index {\n",
       "  font-weight: bold;\n",
       "}\n",
       "\n",
       ".xr-var-list,\n",
       ".xr-var-item {\n",
       "  display: contents;\n",
       "}\n",
       "\n",
       ".xr-var-item > div,\n",
       ".xr-var-item label,\n",
       ".xr-var-item > .xr-var-name span {\n",
       "  background-color: var(--xr-background-color-row-even);\n",
       "  margin-bottom: 0;\n",
       "}\n",
       "\n",
       ".xr-var-item > .xr-var-name:hover span {\n",
       "  padding-right: 5px;\n",
       "}\n",
       "\n",
       ".xr-var-list > li:nth-child(odd) > div,\n",
       ".xr-var-list > li:nth-child(odd) > label,\n",
       ".xr-var-list > li:nth-child(odd) > .xr-var-name span {\n",
       "  background-color: var(--xr-background-color-row-odd);\n",
       "}\n",
       "\n",
       ".xr-var-name {\n",
       "  grid-column: 1;\n",
       "}\n",
       "\n",
       ".xr-var-dims {\n",
       "  grid-column: 2;\n",
       "}\n",
       "\n",
       ".xr-var-dtype {\n",
       "  grid-column: 3;\n",
       "  text-align: right;\n",
       "  color: var(--xr-font-color2);\n",
       "}\n",
       "\n",
       ".xr-var-preview {\n",
       "  grid-column: 4;\n",
       "}\n",
       "\n",
       ".xr-index-preview {\n",
       "  grid-column: 2 / 5;\n",
       "  color: var(--xr-font-color2);\n",
       "}\n",
       "\n",
       ".xr-var-name,\n",
       ".xr-var-dims,\n",
       ".xr-var-dtype,\n",
       ".xr-preview,\n",
       ".xr-attrs dt {\n",
       "  white-space: nowrap;\n",
       "  overflow: hidden;\n",
       "  text-overflow: ellipsis;\n",
       "  padding-right: 10px;\n",
       "}\n",
       "\n",
       ".xr-var-name:hover,\n",
       ".xr-var-dims:hover,\n",
       ".xr-var-dtype:hover,\n",
       ".xr-attrs dt:hover {\n",
       "  overflow: visible;\n",
       "  width: auto;\n",
       "  z-index: 1;\n",
       "}\n",
       "\n",
       ".xr-var-attrs,\n",
       ".xr-var-data,\n",
       ".xr-index-data {\n",
       "  display: none;\n",
       "  background-color: var(--xr-background-color) !important;\n",
       "  padding-bottom: 5px !important;\n",
       "}\n",
       "\n",
       ".xr-var-attrs-in:checked ~ .xr-var-attrs,\n",
       ".xr-var-data-in:checked ~ .xr-var-data,\n",
       ".xr-index-data-in:checked ~ .xr-index-data {\n",
       "  display: block;\n",
       "}\n",
       "\n",
       ".xr-var-data > table {\n",
       "  float: right;\n",
       "}\n",
       "\n",
       ".xr-var-name span,\n",
       ".xr-var-data,\n",
       ".xr-index-name div,\n",
       ".xr-index-data,\n",
       ".xr-attrs {\n",
       "  padding-left: 25px !important;\n",
       "}\n",
       "\n",
       ".xr-attrs,\n",
       ".xr-var-attrs,\n",
       ".xr-var-data,\n",
       ".xr-index-data {\n",
       "  grid-column: 1 / -1;\n",
       "}\n",
       "\n",
       "dl.xr-attrs {\n",
       "  padding: 0;\n",
       "  margin: 0;\n",
       "  display: grid;\n",
       "  grid-template-columns: 125px auto;\n",
       "}\n",
       "\n",
       ".xr-attrs dt,\n",
       ".xr-attrs dd {\n",
       "  padding: 0;\n",
       "  margin: 0;\n",
       "  float: left;\n",
       "  padding-right: 10px;\n",
       "  width: auto;\n",
       "}\n",
       "\n",
       ".xr-attrs dt {\n",
       "  font-weight: normal;\n",
       "  grid-column: 1;\n",
       "}\n",
       "\n",
       ".xr-attrs dt:hover span {\n",
       "  display: inline-block;\n",
       "  background: var(--xr-background-color);\n",
       "  padding-right: 10px;\n",
       "}\n",
       "\n",
       ".xr-attrs dd {\n",
       "  grid-column: 2;\n",
       "  white-space: pre-wrap;\n",
       "  word-break: break-all;\n",
       "}\n",
       "\n",
       ".xr-icon-database,\n",
       ".xr-icon-file-text2,\n",
       ".xr-no-icon {\n",
       "  display: inline-block;\n",
       "  vertical-align: middle;\n",
       "  width: 1em;\n",
       "  height: 1.5em !important;\n",
       "  stroke-width: 0;\n",
       "  stroke: currentColor;\n",
       "  fill: currentColor;\n",
       "}\n",
       "</style><pre class='xr-text-repr-fallback'>&lt;xarray.DataArray &#x27;blur&#x27; (roi_bins: 20)&gt;\n",
       "array([ 381.98278809,  464.31918335,  640.58642578,  861.70666504,\n",
       "       1106.00537109, 1337.71520996, 1564.06689453, 1595.79296875,\n",
       "       1595.49804688, 1361.32617188, 1030.38232422,  814.18725586,\n",
       "        588.24475098,  439.29528809,  317.01184082,  225.59664917,\n",
       "        180.56176758,  146.17489624,  121.21910095,  115.33964539])\n",
       "Coordinates:\n",
       "  * roi_bins  (roi_bins) object (0.0, 64.0] (64.0, 128.0] ... (1216.0, 1280.0]\n",
       "    camera    &lt;U17 &#x27;follower_S1143155&#x27;</pre><div class='xr-wrap' style='display:none'><div class='xr-header'><div class='xr-obj-type'>xarray.DataArray</div><div class='xr-array-name'>'blur'</div><ul class='xr-dim-list'><li><span class='xr-has-index'>roi_bins</span>: 20</li></ul></div><ul class='xr-sections'><li class='xr-section-item'><div class='xr-array-wrap'><input id='section-b84b7b6f-68a4-4999-9af9-9b8992ec92fa' class='xr-array-in' type='checkbox' checked><label for='section-b84b7b6f-68a4-4999-9af9-9b8992ec92fa' title='Show/hide data repr'><svg class='icon xr-icon-database'><use xlink:href='#icon-database'></use></svg></label><div class='xr-array-preview xr-preview'><span>382.0 464.3 640.6 861.7 1.106e+03 ... 225.6 180.6 146.2 121.2 115.3</span></div><div class='xr-array-data'><pre>array([ 381.98278809,  464.31918335,  640.58642578,  861.70666504,\n",
       "       1106.00537109, 1337.71520996, 1564.06689453, 1595.79296875,\n",
       "       1595.49804688, 1361.32617188, 1030.38232422,  814.18725586,\n",
       "        588.24475098,  439.29528809,  317.01184082,  225.59664917,\n",
       "        180.56176758,  146.17489624,  121.21910095,  115.33964539])</pre></div></div></li><li class='xr-section-item'><input id='section-d6b0c565-2531-4c16-9ca3-7b0f79a40165' class='xr-section-summary-in' type='checkbox'  checked><label for='section-d6b0c565-2531-4c16-9ca3-7b0f79a40165' class='xr-section-summary' >Coordinates: <span>(2)</span></label><div class='xr-section-inline-details'></div><div class='xr-section-details'><ul class='xr-var-list'><li class='xr-var-item'><div class='xr-var-name'><span class='xr-has-index'>roi_bins</span></div><div class='xr-var-dims'>(roi_bins)</div><div class='xr-var-dtype'>object</div><div class='xr-var-preview xr-preview'>(0.0, 64.0] ... (1216.0, 1280.0]</div><input id='attrs-7f2e9820-0509-4d41-9f48-e2b9cd2096c9' class='xr-var-attrs-in' type='checkbox' disabled><label for='attrs-7f2e9820-0509-4d41-9f48-e2b9cd2096c9' title='Show/Hide attributes'><svg class='icon xr-icon-file-text2'><use xlink:href='#icon-file-text2'></use></svg></label><input id='data-d3b86602-dd97-4b16-aafc-6e98ba3d8324' class='xr-var-data-in' type='checkbox'><label for='data-d3b86602-dd97-4b16-aafc-6e98ba3d8324' title='Show/Hide data repr'><svg class='icon xr-icon-database'><use xlink:href='#icon-database'></use></svg></label><div class='xr-var-attrs'><dl class='xr-attrs'></dl></div><div class='xr-var-data'><pre>array([Interval(0.0, 64.0, closed=&#x27;right&#x27;),\n",
       "       Interval(64.0, 128.0, closed=&#x27;right&#x27;),\n",
       "       Interval(128.0, 192.0, closed=&#x27;right&#x27;),\n",
       "       Interval(192.0, 256.0, closed=&#x27;right&#x27;),\n",
       "       Interval(256.0, 320.0, closed=&#x27;right&#x27;),\n",
       "       Interval(320.0, 384.0, closed=&#x27;right&#x27;),\n",
       "       Interval(384.0, 448.0, closed=&#x27;right&#x27;),\n",
       "       Interval(448.0, 512.0, closed=&#x27;right&#x27;),\n",
       "       Interval(512.0, 576.0, closed=&#x27;right&#x27;),\n",
       "       Interval(576.0, 640.0, closed=&#x27;right&#x27;),\n",
       "       Interval(640.0, 704.0, closed=&#x27;right&#x27;),\n",
       "       Interval(704.0, 768.0, closed=&#x27;right&#x27;),\n",
       "       Interval(768.0, 832.0, closed=&#x27;right&#x27;),\n",
       "       Interval(832.0, 896.0, closed=&#x27;right&#x27;),\n",
       "       Interval(896.0, 960.0, closed=&#x27;right&#x27;),\n",
       "       Interval(960.0, 1024.0, closed=&#x27;right&#x27;),\n",
       "       Interval(1024.0, 1088.0, closed=&#x27;right&#x27;),\n",
       "       Interval(1088.0, 1152.0, closed=&#x27;right&#x27;),\n",
       "       Interval(1152.0, 1216.0, closed=&#x27;right&#x27;),\n",
       "       Interval(1216.0, 1280.0, closed=&#x27;right&#x27;)], dtype=object)</pre></div></li><li class='xr-var-item'><div class='xr-var-name'><span>camera</span></div><div class='xr-var-dims'>()</div><div class='xr-var-dtype'>&lt;U17</div><div class='xr-var-preview xr-preview'>&#x27;follower_S1143155&#x27;</div><input id='attrs-641aab34-f40b-44b2-93db-a297aa3b16aa' class='xr-var-attrs-in' type='checkbox' disabled><label for='attrs-641aab34-f40b-44b2-93db-a297aa3b16aa' title='Show/Hide attributes'><svg class='icon xr-icon-file-text2'><use xlink:href='#icon-file-text2'></use></svg></label><input id='data-dad93e57-0993-478b-9ee4-f7dd1bdd8259' class='xr-var-data-in' type='checkbox'><label for='data-dad93e57-0993-478b-9ee4-f7dd1bdd8259' title='Show/Hide data repr'><svg class='icon xr-icon-database'><use xlink:href='#icon-database'></use></svg></label><div class='xr-var-attrs'><dl class='xr-attrs'></dl></div><div class='xr-var-data'><pre>array(&#x27;follower_S1143155&#x27;, dtype=&#x27;&lt;U17&#x27;)</pre></div></li></ul></div></li><li class='xr-section-item'><input id='section-c292f0e0-38a5-4716-8b3a-7513a860e68d' class='xr-section-summary-in' type='checkbox'  ><label for='section-c292f0e0-38a5-4716-8b3a-7513a860e68d' class='xr-section-summary' >Indexes: <span>(1)</span></label><div class='xr-section-inline-details'></div><div class='xr-section-details'><ul class='xr-var-list'><li class='xr-var-item'><div class='xr-index-name'><div>roi_bins</div></div><div class='xr-index-preview'>PandasIndex</div><div></div><input id='index-4fd05795-e679-4d16-a950-b11471a47929' class='xr-index-data-in' type='checkbox'/><label for='index-4fd05795-e679-4d16-a950-b11471a47929' title='Show/Hide index repr'><svg class='icon xr-icon-database'><use xlink:href='#icon-database'></use></svg></label><div class='xr-index-data'><pre>PandasIndex(IntervalIndex([(0.0, 64.0], (64.0, 128.0], (128.0, 192.0], (192.0, 256.0], (256.0, 320.0] ... (960.0, 1024.0], (1024.0, 1088.0], (1088.0, 1152.0], (1152.0, 1216.0], (1216.0, 1280.0]], dtype=&#x27;interval[float64, right]&#x27;, name=&#x27;roi_bins&#x27;))</pre></div></li></ul></div></li><li class='xr-section-item'><input id='section-cd407ec6-d690-45ca-bb27-43fe363dbc7a' class='xr-section-summary-in' type='checkbox' disabled ><label for='section-cd407ec6-d690-45ca-bb27-43fe363dbc7a' class='xr-section-summary'  title='Expand/collapse section'>Attributes: <span>(0)</span></label><div class='xr-section-inline-details'></div><div class='xr-section-details'><dl class='xr-attrs'></dl></div></li></ul></div></div>"
      ],
      "text/plain": [
       "<xarray.DataArray 'blur' (roi_bins: 20)>\n",
       "array([ 381.98278809,  464.31918335,  640.58642578,  861.70666504,\n",
       "       1106.00537109, 1337.71520996, 1564.06689453, 1595.79296875,\n",
       "       1595.49804688, 1361.32617188, 1030.38232422,  814.18725586,\n",
       "        588.24475098,  439.29528809,  317.01184082,  225.59664917,\n",
       "        180.56176758,  146.17489624,  121.21910095,  115.33964539])\n",
       "Coordinates:\n",
       "  * roi_bins  (roi_bins) object (0.0, 64.0] (64.0, 128.0] ... (1216.0, 1280.0]\n",
       "    camera    <U17 'follower_S1143155'"
      ]
     },
     "execution_count": 22,
     "metadata": {},
     "output_type": "execute_result"
    }
   ],
   "source": [
    "med"
   ]
  },
  {
   "cell_type": "code",
   "execution_count": 23,
   "id": "b5739599",
   "metadata": {
    "ExecuteTime": {
     "end_time": "2022-12-07T15:06:27.262157Z",
     "start_time": "2022-12-07T15:06:27.257352Z"
    }
   },
   "outputs": [
    {
     "data": {
      "text/plain": [
       "{'computers': ['visss', 'visss'],\n",
       " 'cropImage': None,\n",
       " 'fps': 140,\n",
       " 'exposureTime': 0.0002,\n",
       " 'resolution': 58.75,\n",
       " 'frame_height': 1024,\n",
       " 'frame_width': 1280,\n",
       " 'height_offset': 64,\n",
       " 'instruments': ['trigger_S1145792', 'follower_S1143155'],\n",
       " 'instrumentsOrig': ['trigger_S1242799', 'follower_S1242357'],\n",
       " 'leader': 'trigger_S1145792',\n",
       " 'follower': 'follower_S1143155',\n",
       " 'minMovingPixels': [20, 10, 5, 2, 2, 2, 2],\n",
       " 'movieExtension': 'mov',\n",
       " 'nThreads': 1,\n",
       " 'path': '/projekt1/ag_maahn/data_obs/hyytiala/visss/{level}',\n",
       " 'pathOut': '/projekt4/ag_maahn/data_obs_nobackup/hyytiala/visss/{level}',\n",
       " 'pathTmp': '/projekt4/ag_maahn/data_obs_nobackup/hyytiala/visss/{level}',\n",
       " 'pathQuicklooks': '/projekt4/ag_maahn/quicklooks/hyytiala/visss/{level}',\n",
       " 'threshs': [20, 30, 40, 60, 80, 100, 120],\n",
       " 'visssGen': 'visss',\n",
       " 'site': 'hyytiala',\n",
       " 'goodFiles': ['None', 'None'],\n",
       " 'start': '2021-09-07',\n",
       " 'end': '2022-05-17',\n",
       " 'name': 'Hyytiälä',\n",
       " 'dataFixes': ['captureIdOverflows', 'makeCaptureTimeEven'],\n",
       " 'newFileInt': 600,\n",
       " 'model': 'M1280',\n",
       " 'level1detectQuicklook': {'minBlur': 500, 'minSize': 17},\n",
       " 'rotate': {'Ofz': 42.056139, 'phi': 0.085205, 'theta': -0.011693},\n",
       " 'rotate_err': {'Ofz': 0.284704, 'phi': 0.015033, 'theta': 0.017276},\n",
       " 'maxMovingObjects': 60}"
      ]
     },
     "execution_count": 23,
     "metadata": {},
     "output_type": "execute_result"
    }
   ],
   "source": [
    "config"
   ]
  },
  {
   "cell_type": "markdown",
   "id": "e80f660f",
   "metadata": {},
   "source": [
    "# volume"
   ]
  },
  {
   "cell_type": "code",
   "execution_count": 24,
   "id": "9affa31d",
   "metadata": {
    "ExecuteTime": {
     "end_time": "2022-12-07T15:06:27.266712Z",
     "start_time": "2022-12-07T15:06:27.264280Z"
    }
   },
   "outputs": [],
   "source": [
    "import VISSSlib\n",
    "import numpy as np"
   ]
  },
  {
   "cell_type": "code",
   "execution_count": 25,
   "id": "0d18ea1d",
   "metadata": {
    "ExecuteTime": {
     "end_time": "2022-12-07T15:06:27.272763Z",
     "start_time": "2022-12-07T15:06:27.268815Z"
    }
   },
   "outputs": [],
   "source": [
    " rot4 = rotate =    {\n",
    "      \"Of_z\": -31.124908,\n",
    "      \"phi\": 3.285133,\n",
    "      \"theta\": 3.317632,\n",
    "    }"
   ]
  },
  {
   "cell_type": "code",
   "execution_count": 26,
   "id": "b384efe4",
   "metadata": {
    "ExecuteTime": {
     "end_time": "2022-12-07T15:06:27.278011Z",
     "start_time": "2022-12-07T15:06:27.274487Z"
    }
   },
   "outputs": [],
   "source": [
    "x = np.array([0, config.frame_width,  config.frame_width, 0, 0, config.frame_width,  config.frame_width, 0])\n",
    "y = np.array([0, 0, config.frame_width, config.frame_width, config.frame_width, config.frame_width, 0, 0])\n",
    "z = np.array([0, 0, 0, 0, config.frame_height, config.frame_height, config.frame_height, config.frame_height])\n",
    "\n",
    "\n",
    "\n"
   ]
  },
  {
   "cell_type": "code",
   "execution_count": 27,
   "id": "c1c07cf2",
   "metadata": {
    "ExecuteTime": {
     "end_time": "2022-12-07T15:06:27.297178Z",
     "start_time": "2022-12-07T15:06:27.279856Z"
    }
   },
   "outputs": [
    {
     "ename": "TypeError",
     "evalue": "shiftRotate_F2L() got an unexpected keyword argument 'Ol_x'",
     "output_type": "error",
     "traceback": [
      "\u001b[0;31m---------------------------------------------------------------------------\u001b[0m",
      "\u001b[0;31mTypeError\u001b[0m                                 Traceback (most recent call last)",
      "Cell \u001b[0;32mIn [27], line 1\u001b[0m\n\u001b[0;32m----> 1\u001b[0m x1, y1, z1 \u001b[38;5;241m=\u001b[39m \u001b[43mVISSSlib\u001b[49m\u001b[38;5;241;43m.\u001b[39;49m\u001b[43mmatching\u001b[49m\u001b[38;5;241;43m.\u001b[39;49m\u001b[43mshiftRotate_F2L\u001b[49m\u001b[43m(\u001b[49m\u001b[43mx\u001b[49m\u001b[43m,\u001b[49m\u001b[43my\u001b[49m\u001b[43m,\u001b[49m\u001b[43mz\u001b[49m\u001b[43m,\u001b[49m\u001b[43m \u001b[49m\u001b[43mphi\u001b[49m\u001b[43m \u001b[49m\u001b[38;5;241;43m=\u001b[39;49m\u001b[43m \u001b[49m\u001b[43mrotate\u001b[49m\u001b[43m[\u001b[49m\u001b[38;5;124;43m\"\u001b[39;49m\u001b[38;5;124;43mphi\u001b[39;49m\u001b[38;5;124;43m\"\u001b[39;49m\u001b[43m]\u001b[49m\u001b[43m,\u001b[49m\u001b[43m \u001b[49m\u001b[43mtheta\u001b[49m\u001b[43m \u001b[49m\u001b[38;5;241;43m=\u001b[39;49m\u001b[43m \u001b[49m\u001b[43mrotate\u001b[49m\u001b[43m[\u001b[49m\u001b[38;5;124;43m\"\u001b[39;49m\u001b[38;5;124;43mtheta\u001b[39;49m\u001b[38;5;124;43m\"\u001b[39;49m\u001b[43m]\u001b[49m\u001b[43m,\u001b[49m\u001b[43m \u001b[49m\u001b[43mpsi\u001b[49m\u001b[38;5;241;43m=\u001b[39;49m\u001b[38;5;241;43m0\u001b[39;49m\u001b[43m,\u001b[49m\u001b[43m \u001b[49m\u001b[43mOl_x\u001b[49m\u001b[38;5;241;43m=\u001b[39;49m\u001b[38;5;241;43m0\u001b[39;49m\u001b[43m,\u001b[49m\u001b[43m \u001b[49m\u001b[43mOf_y\u001b[49m\u001b[38;5;241;43m=\u001b[39;49m\u001b[38;5;241;43m0\u001b[39;49m\u001b[43m,\u001b[49m\u001b[43m \u001b[49m\u001b[43mOf_z\u001b[49m\u001b[43m \u001b[49m\u001b[38;5;241;43m=\u001b[39;49m\u001b[43m \u001b[49m\u001b[43mrotate\u001b[49m\u001b[43m[\u001b[49m\u001b[38;5;124;43m\"\u001b[39;49m\u001b[38;5;124;43mOf_z\u001b[39;49m\u001b[38;5;124;43m\"\u001b[39;49m\u001b[43m]\u001b[49m\u001b[43m)\u001b[49m\n\u001b[1;32m      3\u001b[0m x2, y2, z2 \u001b[38;5;241m=\u001b[39m VISSSlib\u001b[38;5;241m.\u001b[39mmatching\u001b[38;5;241m.\u001b[39mshiftRotate_L2F(x,y,z, phi \u001b[38;5;241m=\u001b[39m rotate[\u001b[38;5;124m\"\u001b[39m\u001b[38;5;124mphi\u001b[39m\u001b[38;5;124m\"\u001b[39m], theta \u001b[38;5;241m=\u001b[39m rotate[\u001b[38;5;124m\"\u001b[39m\u001b[38;5;124mtheta\u001b[39m\u001b[38;5;124m\"\u001b[39m], psi\u001b[38;5;241m=\u001b[39m\u001b[38;5;241m0\u001b[39m, Ol_x\u001b[38;5;241m=\u001b[39m\u001b[38;5;241m0\u001b[39m, Of_y\u001b[38;5;241m=\u001b[39m\u001b[38;5;241m0\u001b[39m, Of_z \u001b[38;5;241m=\u001b[39m rotate[\u001b[38;5;124m\"\u001b[39m\u001b[38;5;124mOf_z\u001b[39m\u001b[38;5;124m\"\u001b[39m])\n",
      "\u001b[0;31mTypeError\u001b[0m: shiftRotate_F2L() got an unexpected keyword argument 'Ol_x'"
     ]
    }
   ],
   "source": [
    "x1, y1, z1 = VISSSlib.matching.shiftRotate_F2L(x,y,z, phi = rotate[\"phi\"], theta = rotate[\"theta\"], psi=0, Ol_x=0, Of_y=0, Of_z = rotate[\"Of_z\"])\n",
    "\n",
    "x2, y2, z2 = VISSSlib.matching.shiftRotate_L2F(x,y,z, phi = rotate[\"phi\"], theta = rotate[\"theta\"], psi=0, Ol_x=0, Of_y=0, Of_z = rotate[\"Of_z\"])"
   ]
  },
  {
   "cell_type": "code",
   "execution_count": null,
   "id": "f9c6a184",
   "metadata": {
    "ExecuteTime": {
     "end_time": "2022-12-07T15:06:27.299394Z",
     "start_time": "2022-12-07T15:06:27.299384Z"
    }
   },
   "outputs": [],
   "source": [
    "z1, z2"
   ]
  },
  {
   "cell_type": "code",
   "execution_count": null,
   "id": "d00ed44c",
   "metadata": {
    "ExecuteTime": {
     "end_time": "2022-12-07T15:06:27.301119Z",
     "start_time": "2022-12-07T15:06:27.301109Z"
    }
   },
   "outputs": [],
   "source": [
    "rotate"
   ]
  },
  {
   "cell_type": "code",
   "execution_count": null,
   "id": "6f2379f1",
   "metadata": {
    "ExecuteTime": {
     "end_time": "2022-12-07T15:06:27.302517Z",
     "start_time": "2022-12-07T15:06:27.302507Z"
    }
   },
   "outputs": [],
   "source": [
    "%matplotlib widget\n",
    "\n"
   ]
  },
  {
   "cell_type": "code",
   "execution_count": null,
   "id": "6e380dac",
   "metadata": {
    "ExecuteTime": {
     "end_time": "2022-12-07T15:06:27.303415Z",
     "start_time": "2022-12-07T15:06:27.303406Z"
    }
   },
   "outputs": [],
   "source": [
    "import polytope as pc\n",
    "import numpy as np\n",
    "\n",
    "A = np.array([[1.0, 0.0],\n",
    "              [0.0, 1.0],\n",
    "              [-1.0, -0.0],\n",
    "              [-0.0, -1.0]])\n",
    "\n",
    "b = np.array([2.0, 1.0, 0.0, 0.0])\n",
    "\n",
    "p = pc.Polytope(A, b)"
   ]
  },
  {
   "cell_type": "code",
   "execution_count": null,
   "id": "88dd164e",
   "metadata": {
    "ExecuteTime": {
     "end_time": "2022-12-07T15:06:27.305074Z",
     "start_time": "2022-12-07T15:06:27.305064Z"
    }
   },
   "outputs": [],
   "source": [
    "print(p)"
   ]
  },
  {
   "cell_type": "code",
   "execution_count": null,
   "id": "35a91f4e",
   "metadata": {
    "ExecuteTime": {
     "end_time": "2022-12-07T15:06:27.306061Z",
     "start_time": "2022-12-07T15:06:27.306052Z"
    }
   },
   "outputs": [],
   "source": [
    "p = pc.box2poly([[0, 2], [0, 1]])\n",
    "print(p)"
   ]
  },
  {
   "cell_type": "code",
   "execution_count": null,
   "id": "dbb2b77e",
   "metadata": {
    "ExecuteTime": {
     "end_time": "2022-12-07T15:06:27.306850Z",
     "start_time": "2022-12-07T15:06:27.306841Z"
    }
   },
   "outputs": [],
   "source": [
    " pc.box2poly?"
   ]
  },
  {
   "cell_type": "code",
   "execution_count": null,
   "id": "54dc50c4",
   "metadata": {
    "ExecuteTime": {
     "end_time": "2022-12-07T15:06:27.308334Z",
     "start_time": "2022-12-07T15:06:27.308324Z"
    }
   },
   "outputs": [],
   "source": [
    "p.volume"
   ]
  },
  {
   "cell_type": "code",
   "execution_count": null,
   "id": "3dc93df8",
   "metadata": {
    "ExecuteTime": {
     "end_time": "2022-12-07T15:06:27.309339Z",
     "start_time": "2022-12-07T15:06:27.309330Z"
    }
   },
   "outputs": [],
   "source": [
    "from Geometry3D import *\n",
    "a = Point(1,1,1)\n",
    "b = Point(0,1,1)\n",
    "c = Point(0,0,1)\n",
    "d = Point(1,0,1)\n",
    "e = Point(1,1,0)\n",
    "f = Point(0,1,0)\n",
    "g = Point(0,0,0)\n",
    "h = Point(1,0,0)\n",
    "cpg0 = ConvexPolygon((a,d,h,e))\n",
    "cpg1 = ConvexPolygon((a,e,f,b))\n",
    "cpg2 = ConvexPolygon((c,b,f,g))\n",
    "cpg3 = ConvexPolygon((c,g,h,d))\n",
    "cpg4 = ConvexPolygon((a,b,c,d))\n",
    "cpg5 = ConvexPolygon((e,h,g,f))\n",
    "cph0 = ConvexPolyhedron((cpg0,cpg1,cpg2,cpg3,cpg4,cpg5))\n",
    "cph0"
   ]
  },
  {
   "cell_type": "code",
   "execution_count": null,
   "id": "61d9756c",
   "metadata": {
    "ExecuteTime": {
     "end_time": "2022-12-07T15:06:27.310830Z",
     "start_time": "2022-12-07T15:06:27.310821Z"
    }
   },
   "outputs": [],
   "source": [
    "import matplotlib.pyplot as plt"
   ]
  },
  {
   "cell_type": "code",
   "execution_count": null,
   "id": "e95f45fd",
   "metadata": {
    "ExecuteTime": {
     "end_time": "2022-12-07T15:06:27.311763Z",
     "start_time": "2022-12-07T15:06:27.311755Z"
    }
   },
   "outputs": [],
   "source": [
    "%matplotlib inline"
   ]
  },
  {
   "cell_type": "code",
   "execution_count": null,
   "id": "edc57b6d",
   "metadata": {
    "ExecuteTime": {
     "end_time": "2022-12-07T15:06:27.312891Z",
     "start_time": "2022-12-07T15:06:27.312882Z"
    }
   },
   "outputs": [],
   "source": [
    "Point?"
   ]
  },
  {
   "cell_type": "code",
   "execution_count": null,
   "id": "8cebc684",
   "metadata": {
    "ExecuteTime": {
     "end_time": "2022-12-07T15:06:27.314194Z",
     "start_time": "2022-12-07T15:06:27.314184Z"
    }
   },
   "outputs": [],
   "source": [
    "width = 1280\n",
    "height = 1024"
   ]
  },
  {
   "cell_type": "code",
   "execution_count": null,
   "id": "9f3499f3",
   "metadata": {
    "ExecuteTime": {
     "end_time": "2022-12-07T15:06:27.315515Z",
     "start_time": "2022-12-07T15:06:27.315506Z"
    }
   },
   "outputs": [],
   "source": [
    "config.frame_width"
   ]
  },
  {
   "cell_type": "code",
   "execution_count": null,
   "id": "c805b9cc",
   "metadata": {
    "ExecuteTime": {
     "end_time": "2022-12-07T15:06:27.317246Z",
     "start_time": "2022-12-07T15:06:27.317236Z"
    }
   },
   "outputs": [],
   "source": [
    "from Geometry3D import *\n",
    "\n",
    "# depth is unknown (y) so take 3*w!\n",
    "\n",
    "a = Point(width,2*width,height)\n",
    "b = Point(0,2*width,height)\n",
    "c = Point(0,-width,height)\n",
    "d = Point(width,-width,height)\n",
    "e = Point(width,2*width,0)\n",
    "f = Point(0,2*width,0)\n",
    "g = Point(0,-width,0)\n",
    "h = Point(width,-width,0)\n",
    "cpg0 = ConvexPolygon((a,d,h,e))\n",
    "cpg1 = ConvexPolygon((a,e,f,b))\n",
    "cpg2 = ConvexPolygon((c,b,f,g))\n",
    "cpg3 = ConvexPolygon((c,g,h,d))\n",
    "cpg4 = ConvexPolygon((a,b,c,d))\n",
    "cpg5 = ConvexPolygon((e,h,g,f))\n",
    "leader = ConvexPolyhedron((cpg0,cpg1,cpg2,cpg3,cpg4,cpg5))\n",
    "\n",
    "r = Renderer()\n",
    "r.add((leader,'r',1))\n",
    "r.show()\n",
    "\n",
    "\n",
    "leader.volume()\n"
   ]
  },
  {
   "cell_type": "code",
   "execution_count": null,
   "id": "2d917234",
   "metadata": {
    "ExecuteTime": {
     "end_time": "2022-12-07T15:06:27.318192Z",
     "start_time": "2022-12-07T15:06:27.318163Z"
    }
   },
   "outputs": [],
   "source": [
    "from Geometry3D import *\n",
    "from VISSSlib import matching\n",
    "r = Renderer()\n",
    "\n",
    "\n",
    "a = Point(width,2*width,height)\n",
    "b = Point(0,2*width,height)\n",
    "c = Point(0,-width,height)\n",
    "d = Point(width,-width,height)\n",
    "e = Point(width,2*width,0)\n",
    "f = Point(0,2*width,0)\n",
    "g = Point(0,-width,0)\n",
    "h = Point(width,-width,0)\n",
    "cpg0 = ConvexPolygon((a,d,h,e))\n",
    "cpg1 = ConvexPolygon((a,e,f,b))\n",
    "cpg2 = ConvexPolygon((c,b,f,g))\n",
    "cpg3 = ConvexPolygon((c,g,h,d))\n",
    "cpg4 = ConvexPolygon((a,b,c,d))\n",
    "cpg5 = ConvexPolygon((e,h,g,f))\n",
    "leader = ConvexPolyhedron((cpg0,cpg1,cpg2,cpg3,cpg4,cpg5))\n",
    "\n",
    "r.add((leader,'r',1))\n",
    "\n",
    "#strange result\n",
    "phi = 1\n",
    "theta =1\n",
    "Of_z = 1\n",
    "\n",
    "#ValueError: Check for the number of vertices, faces and edges fails, the polyhedron may not be closed\n",
    "phi = 3\n",
    "theta =3\n",
    "Of_z = 10\n",
    "\n",
    "# works\n",
    "phi = 0\n",
    "theta =0\n",
    "Of_z = 10\n",
    "\n",
    "# works\n",
    "phi = 90\n",
    "theta =0\n",
    "Of_z = 0\n",
    "\n",
    "# ValueError: Expected 1 values, got 0\n",
    "phi = 1\n",
    "theta =1\n",
    "Of_z = 0\n",
    "\n",
    "\n",
    "# depth is unknown (x) so take 3*w!\n",
    "\n",
    "a = Point(*shiftRotate_F2L(2*width,width,height, phi=phi, theta=theta, psi=0, Ol_x=0, Of_y=0, Of_z=Of_z))\n",
    "b = Point(*shiftRotate_F2L(-width,width,height, phi=phi, theta=theta, psi=0, Ol_x=0, Of_y=0, Of_z=Of_z))\n",
    "c = Point(*shiftRotate_F2L(-width,0,height, phi=phi, theta=theta, psi=0, Ol_x=0, Of_y=0, Of_z=Of_z))\n",
    "d = Point(*shiftRotate_F2L(2*width,0,height, phi=phi, theta=theta, psi=0, Ol_x=0, Of_y=0, Of_z=Of_z))\n",
    "e = Point(*shiftRotate_F2L(2*width,width,0, phi=phi, theta=theta, psi=0, Ol_x=0, Of_y=0, Of_z=Of_z))\n",
    "f = Point(*shiftRotate_F2L(-width,width,0, phi=phi, theta=theta, psi=0, Ol_x=0, Of_y=0, Of_z=Of_z))\n",
    "g = Point(*shiftRotate_F2L(-width,0,0, phi=phi, theta=theta, psi=0, Ol_x=0, Of_y=0, Of_z=Of_z))\n",
    "h = Point(*shiftRotate_F2L(2*width,0,0, phi=phi, theta=theta, psi=0, Ol_x=0, Of_y=0, Of_z=Of_z))\n",
    "cpg0 = ConvexPolygon((a,d,h,e))\n",
    "cpg1 = ConvexPolygon((a,e,f,b))\n",
    "cpg2 = ConvexPolygon((c,b,f,g))\n",
    "cpg3 = ConvexPolygon((c,g,h,d))\n",
    "cpg4 = ConvexPolygon((a,b,c,d))\n",
    "cpg5 = ConvexPolygon((e,h,g,f))\n",
    "follower = ConvexPolyhedron((cpg0,cpg1,cpg2,cpg3,cpg4,cpg5))\n",
    "\n",
    "r.add((follower,'b',1))\n",
    "\n",
    "obsVolume = intersection(leader,follower)\n",
    "r.add((obsVolume,'k',1))\n",
    "\n",
    "r.show()\n",
    "\n",
    "\n",
    "follower.volume()\n",
    "obsVolume.volume()"
   ]
  },
  {
   "cell_type": "code",
   "execution_count": null,
   "id": "3d46627c",
   "metadata": {
    "ExecuteTime": {
     "end_time": "2022-12-07T15:06:27.319457Z",
     "start_time": "2022-12-07T15:06:27.319448Z"
    }
   },
   "outputs": [],
   "source": [
    "from Geometry3D import *\n",
    "from VISSSlib.matching import shiftRotate_F2L\n"
   ]
  },
  {
   "cell_type": "code",
   "execution_count": null,
   "id": "6b7f4d6f",
   "metadata": {},
   "outputs": [],
   "source": []
  },
  {
   "cell_type": "code",
   "execution_count": null,
   "id": "26c2650f",
   "metadata": {
    "ExecuteTime": {
     "end_time": "2022-12-07T15:06:27.320513Z",
     "start_time": "2022-12-07T15:06:27.320504Z"
    }
   },
   "outputs": [],
   "source": [
    "\n",
    "#!/usr/bin/env python\n",
    "\n",
    "import numpy as np\n",
    "import trimesh\n",
    "\n",
    "\n",
    "scene = trimesh.Scene()\n",
    "\n",
    "# plane\n",
    "plane = trimesh.creation.box(extents=[1, 1, 0.01])\n",
    "plane.visual.face_colors = [0.5, 0.5, 0.5, 0.5]\n",
    "scene.add_geometry(plane)\n",
    "scene.add_geometry(trimesh.creation.axis())\n",
    "\n",
    "# object-1 (box)\n",
    "box = trimesh.creation.box(extents=[0.3, 0.3, 0.3])\n",
    "box.visual.face_colors = [0, 1., 0, 0.5]\n",
    "axis = trimesh.creation.axis(origin_color=[1., 0, 0])\n",
    "translation = [-0.2, 0, 0.15 + 0.01]  # box offset + plane offset\n",
    "box.apply_translation(translation)\n",
    "axis.apply_translation(translation)\n",
    "rotation = trimesh.transformations.rotation_matrix(\n",
    "    np.deg2rad(30), [0, 0, 1], point=box.centroid\n",
    ")\n",
    "box.apply_transform(rotation)\n",
    "axis.apply_transform(rotation)\n",
    "scene.add_geometry(box)\n",
    "scene.add_geometry(axis)\n",
    "\n",
    "# object-2 (cylinder)\n",
    "cylinder = trimesh.creation.cylinder(radius=0.1, height=0.3)\n",
    "cylinder.visual.face_colors = [0, 0, 1., 0.5]\n",
    "axis = trimesh.creation.axis(origin_color=[1., 0, 0])\n",
    "translation = [0.1, -0.2, 0.15 + 0.01]  # cylinder offset + plane offset\n",
    "cylinder.apply_translation(translation)\n",
    "axis.apply_translation(translation)\n",
    "scene.add_geometry(cylinder)\n",
    "scene.add_geometry(axis)\n",
    "\n",
    "scene.show()"
   ]
  },
  {
   "cell_type": "code",
   "execution_count": null,
   "id": "0ea39e13",
   "metadata": {},
   "outputs": [],
   "source": []
  },
  {
   "cell_type": "code",
   "execution_count": null,
   "id": "7d18855b",
   "metadata": {},
   "outputs": [],
   "source": []
  },
  {
   "cell_type": "code",
   "execution_count": null,
   "id": "ad7c5aed",
   "metadata": {
    "ExecuteTime": {
     "end_time": "2022-12-07T15:03:05.368925Z",
     "start_time": "2022-12-07T15:03:05.368916Z"
    }
   },
   "outputs": [],
   "source": [
    "r = Renderer()\n",
    "set_eps( 1e-5 )\n",
    "\n",
    "a = Point(width,2*width,height)\n",
    "b = Point(0,2*width,height)\n",
    "c = Point(0,-width,height)\n",
    "d = Point(width,-width,height)\n",
    "e = Point(width,2*width,0)\n",
    "f = Point(0,2*width,0)\n",
    "g = Point(0,-width,0)\n",
    "h = Point(width,-width,0)\n",
    "cpg0 = ConvexPolygon((a,d,h,e))\n",
    "cpg1 = ConvexPolygon((a,e,f,b))\n",
    "cpg2 = ConvexPolygon((c,b,f,g))\n",
    "cpg3 = ConvexPolygon((c,g,h,d))\n",
    "cpg4 = ConvexPolygon((a,b,c,d))\n",
    "cpg5 = ConvexPolygon((e,h,g,f))\n",
    "leader = ConvexPolyhedron((cpg0,cpg1,cpg2,cpg3,cpg4,cpg5))\n",
    "\n",
    "r.add((leader,'r',1))\n",
    "\n",
    "#strange result\n",
    "phi = 1\n",
    "theta =1\n",
    "Of_z = 1\n",
    "\n",
    "#ValueError: Check for the number of vertices, faces and edges fails, the polyhedron may not be closed\n",
    "phi = 3\n",
    "theta =3\n",
    "Of_z = 10\n",
    "\n",
    "# works\n",
    "phi = 0\n",
    "theta =0\n",
    "Of_z = 10\n",
    "\n",
    "# works\n",
    "phi = 90\n",
    "theta =0\n",
    "Of_z = 0\n",
    "\n",
    "# ValueError: Expected 1 values, got 0\n",
    "phi = 1\n",
    "theta =1\n",
    "Of_z = 0\n",
    "\n",
    "\n",
    "# depth is unknown (x) so take 3*w!\n",
    "\n",
    "a = Point(*np.around(shiftRotate_F2L(2*width,width,height, phi=phi, theta=theta, psi=0, Ol_x=0, Of_y=0, Of_z=Of_z),0))\n",
    "b = Point(*np.around(shiftRotate_F2L(-width,width,height, phi=phi, theta=theta, psi=0, Ol_x=0, Of_y=0, Of_z=Of_z),0))\n",
    "c = Point(*np.around(shiftRotate_F2L(-width,0,height, phi=phi, theta=theta, psi=0, Ol_x=0, Of_y=0, Of_z=Of_z),0))\n",
    "d = Point(*np.around(shiftRotate_F2L(2*width,0,height, phi=phi, theta=theta, psi=0, Ol_x=0, Of_y=0, Of_z=Of_z),0))\n",
    "e = Point(*np.around(shiftRotate_F2L(2*width,width,0, phi=phi, theta=theta, psi=0, Ol_x=0, Of_y=0, Of_z=Of_z),0))\n",
    "f = Point(*np.around(shiftRotate_F2L(-width,width,0, phi=phi, theta=theta, psi=0, Ol_x=0, Of_y=0, Of_z=Of_z),0))\n",
    "g = Point(*np.around(shiftRotate_F2L(-width,0,0, phi=phi, theta=theta, psi=0, Ol_x=0, Of_y=0, Of_z=Of_z),2))\n",
    "h = Point(*np.around(shiftRotate_F2L(2*width,0,0, phi=phi, theta=theta, psi=0, Ol_x=0, Of_y=0, Of_z=Of_z),2))\n",
    "cpg0a = ConvexPolygon((a,h,e))\n",
    "cpg0b = ConvexPolygon((a,d,h))\n",
    "cpg1a = ConvexPolygon((a,e,b))\n",
    "cpg1b = ConvexPolygon((e,f,b))\n",
    "cpg2a = ConvexPolygon((c,b,g))\n",
    "cpg2b = ConvexPolygon((b,f,g))\n",
    "cpg3a = ConvexPolygon((c,h,d))\n",
    "cpg3b = ConvexPolygon((c,g,h))\n",
    "cpg4a = ConvexPolygon((a,b,d))\n",
    "cpg4b = ConvexPolygon((a,b,d))\n",
    "cpg5a = ConvexPolygon((h,g,f))\n",
    "cpg5b = ConvexPolygon((e,h,f))\n",
    "follower = ConvexPolyhedron((cpg0a, cpg0b ,cpg1a, cpg1b ,cpg2a, cpg2b ,cpg3a, cpg3b ,cpg4a, cpg4b ,cpg5a, cpg5b ))\n",
    "\n",
    "r.add((follower,'b',1))\n",
    "\n",
    "obsVolume = intersection(leader,follower)\n",
    "r.add((obsVolume,'k',1))\n",
    "\n",
    "r.show()\n",
    "\n",
    "\n",
    "follower.volume()\n",
    "obsVolume.volume()"
   ]
  },
  {
   "cell_type": "code",
   "execution_count": null,
   "id": "56897202",
   "metadata": {
    "ExecuteTime": {
     "end_time": "2022-12-07T15:03:05.370289Z",
     "start_time": "2022-12-07T15:03:05.370280Z"
    }
   },
   "outputs": [],
   "source": [
    "from Geometry3D import *\n",
    "import copy\n",
    "radius=5\n",
    "s1 = Cylinder(Point(-2 * radius,0,0),radius,4*radius * x_unit_vector(),n=40)\n",
    "s2 = Cylinder(Point(0,-2 * radius,0),radius,4*radius * y_unit_vector(),n=40)\n",
    "s3 = intersection(s1,s2)\n",
    "r = Renderer()\n",
    "r.add((s1,'r',1))\n",
    "r.add((s2,'b',1))\n",
    "r.add((s3,'y',5))\n",
    "r.show()\n",
    "r2 = Renderer()\n",
    "r2.add((s3,'y',1))\n",
    "r2.show()\n",
    "import math\n",
    "v_real = 16 / 3 * math.pow(radius,3)\n",
    "a_real = 16 * math.pow(radius,2)\n",
    "print('Ground truth volume of the Steinmetz solid is:{}, Calculated value is {}'.format(v_real,s3.volume()))\n",
    "print('Ground truth surface area of the Steinmetz solid is:{}, Calculated value is {}'.format(a_real,s3.area()))\n"
   ]
  },
  {
   "cell_type": "code",
   "execution_count": null,
   "id": "3aaba250",
   "metadata": {},
   "outputs": [],
   "source": []
  },
  {
   "cell_type": "code",
   "execution_count": null,
   "id": "d0be9f0f",
   "metadata": {
    "ExecuteTime": {
     "end_time": "2022-12-07T15:03:05.371558Z",
     "start_time": "2022-12-07T15:03:05.371549Z"
    }
   },
   "outputs": [],
   "source": [
    "from VISSSlib.matching import *\n",
    "nSample = 10\n",
    "seed = 0"
   ]
  },
  {
   "cell_type": "code",
   "execution_count": null,
   "id": "cb915ec1",
   "metadata": {
    "ExecuteTime": {
     "end_time": "2022-12-07T15:03:05.372835Z",
     "start_time": "2022-12-07T15:03:05.372826Z"
    }
   },
   "outputs": [],
   "source": [
    "        np.random.seed(seed)\n",
    "        F_x = np.random.random(nSample) * 100\n",
    "        F_y = np.random.random(nSample) * 100\n",
    "        F_z = np.random.random(nSample) * 100\n",
    "        phi = 0#np.random.random(nSample)\n",
    "        theta = 0#np.random.random(nSample)\n",
    "        psi = 0#np.random.random(nSample)\n",
    "        Ol_x = np.random.random(nSample)* 100\n",
    "        Of_y = np.random.random(nSample)* 100\n",
    "        Of_z = np.random.random(nSample)* 100\n",
    "\n",
    "        L_x, L_y, L_z = shiftRotate_F2L(F_x, F_y, F_z, phi, theta, psi, Ol_x, Of_y, Of_z)\n",
    "        L_z_test = calc_L_z_withOffsets(L_x, F_y, F_z, phi=phi, theta=theta, psi=psi, Of_y=Of_y, Of_z=Of_z, Ol_x=Ol_x)\n",
    "\n",
    "        assert np.allclose(L_z_test, L_z)"
   ]
  },
  {
   "cell_type": "code",
   "execution_count": null,
   "id": "5589a6bf",
   "metadata": {
    "ExecuteTime": {
     "end_time": "2022-12-07T15:03:05.374270Z",
     "start_time": "2022-12-07T15:03:05.374261Z"
    }
   },
   "outputs": [],
   "source": [
    "L_z_test"
   ]
  },
  {
   "cell_type": "code",
   "execution_count": null,
   "id": "4f4409ba",
   "metadata": {
    "ExecuteTime": {
     "end_time": "2022-12-07T15:03:05.375851Z",
     "start_time": "2022-12-07T15:03:05.375842Z"
    }
   },
   "outputs": [],
   "source": [
    "        np.random.seed(seed)\n",
    "        Ol_x = 0#np.random.random(nSample)* 100\n",
    "        Of_y = 0#np.random.random(nSample)* 100\n",
    "        Of_z = 0#np.random.random(nSample)* 100\n",
    "        F_xs = np.random.random(nSample) * 100\n",
    "        F_ys = np.random.random(nSample) * 100\n",
    "        F_zs = np.random.random(nSample) * 100\n",
    "        phi = np.random.random(nSample)\n",
    "        theta = np.random.random(nSample)\n",
    "        psi = np.random.random(nSample)\n",
    "        L_x, L_y, L_z = shiftRotate_F2L(F_xs, F_ys, F_zs, phi, theta, psi,Ol_x, Of_y, Of_z)\n",
    "\n",
    "        L_z_test = calc_L_z_withOffsets(L_x, F_y, F_z, phi, theta, psi, Of_y, Of_z, Ol_x)\n",
    "\n",
    "        assert np.allclose(L_z_test, L_z)"
   ]
  },
  {
   "cell_type": "code",
   "execution_count": null,
   "id": "5740849c",
   "metadata": {
    "ExecuteTime": {
     "end_time": "2022-12-07T15:03:05.377088Z",
     "start_time": "2022-12-07T15:03:05.377078Z"
    }
   },
   "outputs": [],
   "source": [
    "rotate_L2F(L_x, L_y, L_z, phi, theta, psi)"
   ]
  },
  {
   "cell_type": "code",
   "execution_count": null,
   "id": "98772788",
   "metadata": {
    "ExecuteTime": {
     "end_time": "2022-12-07T15:03:05.378136Z",
     "start_time": "2022-12-07T15:03:05.378127Z"
    }
   },
   "outputs": [],
   "source": [
    "np.rad2deg(np.arctan2(13,300))"
   ]
  },
  {
   "cell_type": "code",
   "execution_count": null,
   "id": "3687f974",
   "metadata": {
    "ExecuteTime": {
     "end_time": "2022-12-07T15:03:05.379625Z",
     "start_time": "2022-12-07T15:03:05.379616Z"
    }
   },
   "outputs": [],
   "source": [
    "from solid import *\n",
    "#from solid.utils import *  # Not required, but the utils module is useful\n"
   ]
  },
  {
   "cell_type": "code",
   "execution_count": null,
   "id": "d4330f6d",
   "metadata": {
    "ExecuteTime": {
     "end_time": "2022-12-07T15:03:05.380683Z",
     "start_time": "2022-12-07T15:03:05.380674Z"
    }
   },
   "outputs": [],
   "source": [
    "d = difference()(\n",
    "    cube(10),  # Note the comma between each element!\n",
    "    sphere(15)\n",
    ")"
   ]
  },
  {
   "cell_type": "code",
   "execution_count": null,
   "id": "16d129dc",
   "metadata": {
    "ExecuteTime": {
     "end_time": "2022-12-07T15:03:05.381922Z",
     "start_time": "2022-12-07T15:03:05.381913Z"
    }
   },
   "outputs": [],
   "source": [
    "d"
   ]
  },
  {
   "cell_type": "markdown",
   "id": "e4b5a0c6",
   "metadata": {},
   "source": [
    "##### trimesh"
   ]
  },
  {
   "cell_type": "code",
   "execution_count": null,
   "id": "decb54b0",
   "metadata": {
    "ExecuteTime": {
     "end_time": "2022-12-07T15:03:05.383173Z",
     "start_time": "2022-12-07T15:03:05.383164Z"
    }
   },
   "outputs": [],
   "source": [
    "import trimesh\n",
    "import numpy as np\n",
    "\n",
    "width = 1280\n",
    "height = 1024"
   ]
  },
  {
   "cell_type": "code",
   "execution_count": null,
   "id": "4582724c",
   "metadata": {},
   "outputs": [],
   "source": []
  },
  {
   "cell_type": "code",
   "execution_count": null,
   "id": "1cea19fc",
   "metadata": {
    "ExecuteTime": {
     "end_time": "2022-12-07T15:03:05.384043Z",
     "start_time": "2022-12-07T15:03:05.384022Z"
    }
   },
   "outputs": [],
   "source": [
    "phi, theta, psi = 0.123, -1.234, 2.345\n",
    "origin, xaxis, yaxis, zaxis = [0, 0, 0], [1, 0, 0], [0, 1, 0], [0, 0, 1]\n",
    "Rx =  trimesh.transformations.rotation_matrix(phi, xaxis)\n",
    "Ry =  trimesh.transformations.rotation_matrix(theta, yaxis)\n",
    "Rz =  trimesh.transformations.rotation_matrix(psi, zaxis)\n",
    "R =  trimesh.transformations.concatenate_matrices(Rx, Ry, Rz)\n",
    "euler =  trimesh.transformations.euler_from_matrix(R, 'rxyz')\n",
    "np.allclose([phi, theta, psi], euler)\n",
    "\n",
    "Re = trimesh.transformations.euler_matrix(phi, theta, psi, 'rxyz')\n",
    "trimesh.transformations.is_same_transform(R, Re)"
   ]
  },
  {
   "cell_type": "code",
   "execution_count": null,
   "id": "2674c648",
   "metadata": {},
   "outputs": [],
   "source": []
  },
  {
   "cell_type": "code",
   "execution_count": null,
   "id": "5acbe567",
   "metadata": {
    "ExecuteTime": {
     "end_time": "2022-12-07T15:03:05.385361Z",
     "start_time": "2022-12-07T15:03:05.385352Z"
    }
   },
   "outputs": [],
   "source": [
    "import trimesh\n",
    "import numpy as np\n",
    "def rotate_L2F(L_x, L_y, L_z, phi, theta, psi):\n",
    "\n",
    "    # rotate from leader to follower coordinate system\n",
    "    phi = np.deg2rad(phi)\n",
    "    theta = np.deg2rad(theta)\n",
    "    psi = np.deg2rad(psi)\n",
    "    \n",
    "    F_xp =  np.cos(theta) * np.cos(psi) * L_x \\\n",
    "         +  np.cos(theta) * np.sin(psi) * L_y \\\n",
    "         -  np.sin(theta) * L_z\n",
    "    F_yp = (np.sin(phi) * np.sin(theta) * np.cos(psi) - np.cos(phi) * np.sin(psi)) * L_x \\\n",
    "         + (np.sin(phi) * np.sin(theta) * np.sin(psi) + np.cos(phi) * np.cos(psi)) * L_y \\\n",
    "         +  np.sin(phi) * np.cos(theta) * L_z \n",
    "    F_zp = (np.cos(phi) * np.sin(theta) * np.cos(psi) + np.sin(phi) * np.sin(psi)) * L_x \\\n",
    "         + (np.cos(phi) * np.sin(theta) * np.sin(psi) - np.sin(phi) * np.cos(psi)) * L_y \\\n",
    "         +  np.cos(phi) * np.cos(theta) * L_z\n",
    "\n",
    "    return F_xp, F_yp, F_zp\n",
    "\n",
    "def shiftRotate_L2F(L_x, L_y, L_z, phi, theta, psi, Ol_x, Of_y, Of_z):\n",
    "\n",
    "    # shift and rotate from follower to leader coordinate system\n",
    "\n",
    "\n",
    "    L_xp = L_x + Ol_x\n",
    "\n",
    "    F_x, F_yp, F_zp = rotate_L2F(L_xp, L_y, L_z, phi, theta, psi)\n",
    "\n",
    "    F_y = F_yp - Of_y\n",
    "    F_z = F_zp - Of_z\n",
    "\n",
    "    return F_x, F_y, F_z\n",
    "\n",
    "\n",
    "\n",
    "def rotate_F2L(F_xp, F_yp, F_zp, phi, theta, psi):\n",
    "\n",
    "    # rotate from follower to leader coordinate system\n",
    "    phi = np.deg2rad(phi)\n",
    "    theta = np.deg2rad(theta)\n",
    "    psi = np.deg2rad(psi)\n",
    "\n",
    "    L_x =  np.cos(theta) * np.cos(psi) * F_xp \\\n",
    "        + (np.sin(phi) * np.sin(theta) * np.cos(psi) - np.cos(phi) * np.sin(psi)) * F_yp \\\n",
    "        + (np.cos(phi) * np.sin(theta) * np.cos(psi) + np.sin(phi) * np.sin(psi)) * F_zp\n",
    "    L_y =  np.cos(theta) * np.sin(psi) * F_xp \\\n",
    "        + (np.sin(phi) * np.sin(theta) * np.sin(psi) + np.cos(phi) * np.cos(psi)) * F_yp \\\n",
    "        + (np.cos(phi) * np.sin(theta) * np.sin(psi) - np.sin(phi) * np.cos(psi)) * F_zp\n",
    "    L_z = -np.sin(theta) * F_xp \\\n",
    "        +  np.sin(phi) * np.cos(theta) * F_yp \\\n",
    "        +  np.cos(phi) * np.cos(theta) * F_zp\n",
    "\n",
    "    return L_x, L_y, L_z\n",
    "\n",
    "def shiftRotate_F2L(F_x, F_y, F_z, phi, theta, psi, Ol_x, Of_y, Of_z):\n",
    "\n",
    "    # shift and rotate from follower to leader coordinate system\n",
    "\n",
    "    F_yp = F_y + Of_y\n",
    "    F_zp = F_z + Of_z\n",
    "\n",
    "    L_xp, L_y, L_z = rotate_F2L(F_x, F_yp, F_zp, phi, theta, psi)\n",
    "\n",
    "    L_x = L_xp - Ol_x\n",
    "\n",
    "    return L_x, L_y, L_z\n",
    "\n",
    "\n",
    "width = 1.280\n",
    "height = 1.024\n",
    "leader = trimesh.creation.box(extents=(width, 3*width, height))\n",
    "leader = trimesh.creation.box(extents=(width, width, height))\n",
    "leader.apply_translation(np.array((width*0.5, width*0.5, height*0.5)))\n",
    "leader.vertices\n",
    "\n",
    "follower = trimesh.creation.box(extents=(3*width, width, height))\n",
    "follower = trimesh.creation.box(extents=(width, width, height))\n",
    "follower.apply_translation(np.array((width*0.5, width*0.5, height*0.5)))\n",
    "\n",
    "\n",
    "phi, theta, psi = (25.265006, 55.482963, 31.266505)\n",
    "phi, theta, psi = (0,10,0)\n",
    "\n",
    "print(follower.vertices[2])\n",
    "\n",
    "pnt = follower.vertices[2]\n",
    "print(shiftRotate_L2F(*pnt,phi=-phi, theta=theta, psi=psi, Ol_x=0, Of_y=0, Of_z=0))\n",
    "print(shiftRotate_F2L(*pnt,phi=-phi, theta=theta, psi=psi, Ol_x=0, Of_y=0, Of_z=0))\n",
    "\n",
    "rotation = trimesh.transformations.euler_matrix(np.deg2rad(phi), np.deg2rad(theta), np.deg2rad(psi), \"sxyz\")\n",
    "\n",
    "\n",
    "follower.apply_transform(rotation)\n",
    "print(follower.vertices[2])\n",
    "\n",
    "\n",
    "merged = leader.intersection(follower)\n",
    "\n",
    "merged\n",
    "\n",
    "\n",
    "leader.visual.face_colors = [0.5, 0.5, 0.5, 0.5]\n",
    "follower.visual.face_colors = [0, 0, 1., 0.5]\n",
    "merged.visual.face_colors = [1., 0, 0, 0.5]\n",
    "\n",
    "scene = trimesh.Scene()\n",
    "scene.add_geometry(trimesh.creation.axis(axis_length=2))\n",
    "\n",
    "scene.add_geometry(leader)\n",
    "scene.add_geometry(follower)\n",
    "scene.add_geometry(merged)\n",
    "scene.show(viewer=\"notebook\")\n",
    "\n",
    "#red is x\n",
    "#green is y\n",
    "#blue is z"
   ]
  },
  {
   "cell_type": "code",
   "execution_count": null,
   "id": "948bc1bd",
   "metadata": {
    "ExecuteTime": {
     "end_time": "2022-12-07T15:03:05.386638Z",
     "start_time": "2022-12-07T15:03:05.386629Z"
    }
   },
   "outputs": [],
   "source": [
    "\n",
    "phi, theta, psi = (25.265006, 55.482963, 31.266505)\n",
    "Ol_x, Ol_y, Ol_z = (0,0,0)\n",
    "\n",
    "width = 1.280\n",
    "height = 1.024\n",
    "leader = trimesh.creation.box(extents=(width, 3*width, height))\n",
    "leader.apply_translation(np.array((width*0.5, width*0.5, height*0.5)))\n",
    "leader.vertices\n",
    "\n",
    "follower = trimesh.creation.box(extents=(3*width, width, height))\n",
    "follower.apply_translation(np.array((width*0.5, width*0.5, height*0.5)))\n",
    "\n",
    "pnt = follower.vertices[2]\n",
    "\n",
    "print(pnt)\n",
    "\n",
    "print(shiftRotate_L2F(*pnt,phi=phi, theta=theta, psi=psi, Ol_x=Ol_x, Of_y=Of_y, Of_z=Of_z))\n",
    "print(shiftRotate_F2L(*pnt,phi=phi, theta=theta, psi=psi, Ol_x=Ol_x, Of_y=Of_y, Of_z=Of_z))\n",
    "\n",
    "rotation = trimesh.transformations.euler_matrix(np.deg2rad(phi), np.deg2rad(theta), np.deg2rad(psi), \"rzyx\")\n",
    "\n",
    "\n",
    "follower.apply_transform(rotation)\n",
    "print(follower.vertices[2])\n",
    "\n",
    "\n",
    "merged = leader.intersection(follower)\n",
    "\n",
    "print(merged.volume)\n",
    "\n",
    "leader.visual.face_colors = [0.5, 0.5, 0.5, 0.5]\n",
    "follower.visual.face_colors = [0, 0, 1., 0.5]\n",
    "merged.visual.face_colors = [1., 0, 0, 0.5]\n",
    "\n",
    "scene = trimesh.Scene()\n",
    "scene.add_geometry(trimesh.creation.axis(axis_length=2))\n",
    "\n",
    "scene.add_geometry(leader)\n",
    "scene.add_geometry(follower)\n",
    "scene.add_geometry(merged)\n",
    "scene.show(viewer=\"notebook\")\n",
    "\n",
    "#red is x\n",
    "#green is y\n",
    "#blue is z"
   ]
  },
  {
   "cell_type": "code",
   "execution_count": null,
   "id": "fed91c25",
   "metadata": {
    "ExecuteTime": {
     "end_time": "2022-12-07T15:03:05.387418Z",
     "start_time": "2022-12-07T15:03:05.387409Z"
    }
   },
   "outputs": [],
   "source": [
    "rotation"
   ]
  },
  {
   "cell_type": "code",
   "execution_count": null,
   "id": "7d349d16",
   "metadata": {},
   "outputs": [],
   "source": []
  }
 ],
 "metadata": {
  "kernelspec": {
   "display_name": "py311",
   "language": "python",
   "name": "py311"
  },
  "language_info": {
   "codemirror_mode": {
    "name": "ipython",
    "version": 3
   },
   "file_extension": ".py",
   "mimetype": "text/x-python",
   "name": "python",
   "nbconvert_exporter": "python",
   "pygments_lexer": "ipython3",
   "version": "3.11.0"
  },
  "notify_time": "5",
  "toc": {
   "base_numbering": 1,
   "nav_menu": {},
   "number_sections": true,
   "sideBar": true,
   "skip_h1_title": false,
   "title_cell": "Table of Contents",
   "title_sidebar": "Contents",
   "toc_cell": false,
   "toc_position": {
    "height": "calc(100% - 180px)",
    "left": "10px",
    "top": "150px",
    "width": "165px"
   },
   "toc_section_display": true,
   "toc_window_display": true
  }
 },
 "nbformat": 4,
 "nbformat_minor": 5
}

{
 "cells": [
  {
   "cell_type": "code",
   "execution_count": 25,
   "id": "38b95793",
   "metadata": {},
   "outputs": [],
   "source": [
    "import VISSSlib\n",
    "import yaml"
   ]
  },
  {
   "cell_type": "code",
   "execution_count": 36,
   "id": "1cbf536c",
   "metadata": {},
   "outputs": [],
   "source": [
    "settings = \"/projekt1//ag_maahn/VISSS_config/hyytiala_v1.yaml\"; case = \"20220331-104000\"\n",
    "settings = \"/projekt1//ag_maahn/VISSS_config/hyytiala_v1.yaml\"; case = \"20220402-223000\"\n",
    "settings = \"/projekt1//ag_maahn/VISSS_config/nyaalesund_v4.yaml\"; case = \"20220630-090000\"\n",
    "version = \"20220521\" \n"
   ]
  },
  {
   "cell_type": "code",
   "execution_count": 37,
   "id": "805b7caf",
   "metadata": {},
   "outputs": [
    {
     "data": {
      "text/plain": [
       "<module 'VISSSlib.tools' from '/home/mmaahn/projectsSrv/VISSSlib/src/VISSSlib/tools.py'>"
      ]
     },
     "execution_count": 37,
     "metadata": {},
     "output_type": "execute_result"
    }
   ],
   "source": [
    "\n",
    "from importlib import reload\n",
    "reload(VISSSlib.matching)\n",
    "reload(VISSSlib.fixes)\n",
    "reload(VISSSlib.tools)"
   ]
  },
  {
   "cell_type": "code",
   "execution_count": 38,
   "id": "9d8616d3",
   "metadata": {},
   "outputs": [],
   "source": [
    "config = VISSSlib.tools.readSettings(settings)\n",
    "fl = VISSSlib.files.FindFiles(case, config.leader, config, version)\n",
    "fname1L = fl.listFiles(\"level1detect\")[0]\n",
    "fname1Match = VISSSlib.files.FilenamesFromLevel(fname1L, config).fname[\"level1match\"]"
   ]
  },
  {
   "cell_type": "code",
   "execution_count": 39,
   "id": "851e7b56",
   "metadata": {},
   "outputs": [],
   "source": [
    "rotate_default = {\n",
    "    \"phi\": 0,\n",
    "    \"theta\": 0,\n",
    "    \"Ofz\": 0, \n",
    "}\n",
    "\n",
    "rotate_err_default = {\n",
    "    \"phi\":  5,\n",
    "    \"theta\":  5,\n",
    "    \"Ofz\":  50,\n",
    "}"
   ]
  },
  {
   "cell_type": "code",
   "execution_count": 40,
   "id": "b59d6dcf",
   "metadata": {},
   "outputs": [
    {
     "name": "stdout",
     "output_type": "stream",
     "text": [
      "opening /projekt4/ag_maahn/data_obs_nobackup/nyaalesund/visss/level1detect/2022/06/30/level1detect_V20220521_nyaalesund_visss01_visss2_leader_S1242799_20220630-090000.nc\n",
      "take default values for previous rotation {'phi': 0, 'theta': 0, 'Ofz': 0}\n",
      "opening ['/projekt4/ag_maahn/data_obs_nobackup/nyaalesund/visss/level1detect/2022/06/30/level1detect_V20220521_nyaalesund_visss02_visss2_follower_S1242357_20220630-090000.nc']\n",
      "0 of 1 slice for follower restart 2022-06-30T09:00:00.029292000 2022-06-30T09:09:59.604518000\n",
      "using 432 of 500\n",
      "estimateCaptureIdDiff statistic: {-1283: 408, -1282: 24}\n",
      "capture_id determined -1283, 94.44444444444444% have the same value\n",
      "rotation coefficients iteration 0 of 20\n",
      "slicing data into 6 pieces\n",
      "doMatch 1000 1180\n",
      "doMatch 1000 1375\n",
      "doMatch 1000 1498\n",
      "doMatch 1000 1360\n",
      "doMatch 1000 1274\n",
      "doMatch 1000 1280\n",
      "follower_S1242357 particles have been matched twice, fixing 0\n",
      "MATCH 0 0.003210179\n",
      "ROTATE 0 phi      0.084909\n",
      "theta   -0.155181\n",
      "Ofz     -3.420434\n",
      "dtype: float64\n",
      "rotation coefficients iteration 1 of 20\n",
      "slicing data into 6 pieces\n",
      "doMatch 1000 1180\n",
      "doMatch 1000 1375\n",
      "follower_S1242357 particles have been matched twice, fixing 0\n",
      "doMatch 1000 1498\n",
      "doMatch 1000 1360\n",
      "doMatch 1000 1274\n",
      "doMatch 1000 1280\n",
      "follower_S1242357 particles have been matched twice, fixing 0\n",
      "MATCH 1 0.0033936508\n",
      "ROTATE 1 phi      0.251330\n",
      "theta   -0.314503\n",
      "Ofz     -8.262854\n",
      "dtype: float64\n",
      "rotation coefficients iteration 2 of 20\n",
      "slicing data into 6 pieces\n",
      "doMatch 1000 1180\n",
      "doMatch 1000 1375\n",
      "follower_S1242357 particles have been matched twice, fixing 0\n",
      "doMatch 1000 1498\n",
      "doMatch 1000 1360\n",
      "follower_S1242357 particles have been matched twice, fixing 0\n",
      "doMatch 1000 1274\n",
      "doMatch 1000 1280\n",
      "follower_S1242357 particles have been matched twice, fixing 0\n",
      "MATCH 2 0.0035207532\n",
      "ROTATE 2 phi       0.316570\n",
      "theta    -0.417717\n",
      "Ofz     -11.192675\n",
      "dtype: float64\n",
      "rotation coefficients iteration 3 of 20\n",
      "slicing data into 6 pieces\n",
      "doMatch 1000 1180\n",
      "doMatch 1000 1375\n",
      "follower_S1242357 particles have been matched twice, fixing 0\n",
      "doMatch 1000 1498\n",
      "doMatch 1000 1360\n",
      "follower_S1242357 particles have been matched twice, fixing 0\n",
      "doMatch 1000 1274\n",
      "doMatch 1000 1280\n",
      "follower_S1242357 particles have been matched twice, fixing 0\n",
      "MATCH 3 0.004493123\n",
      "ROTATE 3 phi       0.315125\n",
      "theta    -0.461846\n",
      "Ofz     -12.474995\n",
      "dtype: float64\n",
      "rotation coefficients iteration 4 of 20\n",
      "slicing data into 6 pieces\n",
      "doMatch 1000 1180\n",
      "doMatch 1000 1375\n",
      "follower_S1242357 particles have been matched twice, fixing 0\n",
      "doMatch 1000 1498\n",
      "doMatch 1000 1360\n",
      "follower_S1242357 particles have been matched twice, fixing 0\n",
      "doMatch 1000 1274\n",
      "doMatch 1000 1280\n",
      "follower_S1242357 particles have been matched twice, fixing 0\n",
      "MATCH 4 0.004619679\n",
      "ROTATE 4 phi       0.362082\n",
      "theta    -0.544661\n",
      "Ofz     -14.448455\n",
      "dtype: float64\n",
      "rotation coefficients iteration 5 of 20\n",
      "slicing data into 6 pieces\n",
      "doMatch 1000 1180\n",
      "doMatch 1000 1375\n",
      "follower_S1242357 particles have been matched twice, fixing 0\n",
      "doMatch 1000 1498\n",
      "doMatch 1000 1360\n",
      "follower_S1242357 particles have been matched twice, fixing 0\n",
      "doMatch 1000 1274\n",
      "doMatch 1000 1280\n",
      "follower_S1242357 particles have been matched twice, fixing 0\n",
      "MATCH 5 0.0042552645\n",
      "ROTATE 5 phi       0.380472\n",
      "theta    -0.606765\n",
      "Ofz     -15.774203\n",
      "dtype: float64\n",
      "rotation coefficients iteration 6 of 20\n",
      "slicing data into 6 pieces\n",
      "doMatch 1000 1180\n",
      "doMatch 1000 1375\n",
      "follower_S1242357 particles have been matched twice, fixing 0\n",
      "doMatch 1000 1498\n",
      "doMatch 1000 1360\n",
      "follower_S1242357 particles have been matched twice, fixing 0\n",
      "doMatch 1000 1274\n",
      "doMatch 1000 1280\n",
      "follower_S1242357 particles have been matched twice, fixing 0\n",
      "MATCH 6 0.0041407733\n",
      "ROTATE 6 phi       0.372949\n",
      "theta    -0.630768\n",
      "Ofz     -16.162357\n",
      "dtype: float64\n",
      "rotation coefficients iteration 7 of 20\n",
      "slicing data into 6 pieces\n",
      "doMatch 1000 1180\n",
      "doMatch 1000 1375\n",
      "doMatch 1000 1498\n",
      "doMatch 1000 1360\n",
      "follower_S1242357 particles have been matched twice, fixing 0\n",
      "doMatch 1000 1274\n",
      "doMatch 1000 1280\n",
      "follower_S1242357 particles have been matched twice, fixing 0\n",
      "MATCH 7 0.0041039637\n",
      "ROTATE 7 phi       0.349043\n",
      "theta    -0.655590\n",
      "Ofz     -16.377885\n",
      "dtype: float64\n",
      "rotation coefficients iteration 8 of 20\n",
      "slicing data into 6 pieces\n",
      "doMatch 1000 1180\n",
      "doMatch 1000 1375\n",
      "doMatch 1000 1498\n",
      "doMatch 1000 1360\n",
      "follower_S1242357 particles have been matched twice, fixing 0\n",
      "doMatch 1000 1274\n",
      "doMatch 1000 1280\n",
      "follower_S1242357 particles have been matched twice, fixing 0\n",
      "MATCH 8 0.0042301584\n",
      "ROTATE 8 phi       0.332695\n",
      "theta    -0.692103\n",
      "Ofz     -16.898193\n",
      "dtype: float64\n",
      "rotation coefficients iteration 9 of 20\n",
      "slicing data into 6 pieces\n",
      "doMatch 1000 1180\n",
      "doMatch 1000 1375\n",
      "doMatch 1000 1498\n",
      "doMatch 1000 1360\n",
      "follower_S1242357 particles have been matched twice, fixing 0\n",
      "doMatch 1000 1274\n",
      "doMatch 1000 1280\n",
      "follower_S1242357 particles have been matched twice, fixing 0\n",
      "MATCH 9 0.0043753544\n",
      "ROTATE 9 phi       0.318161\n",
      "theta    -0.752895\n",
      "Ofz     -17.770435\n",
      "dtype: float64\n",
      "rotation coefficients iteration 10 of 20\n",
      "slicing data into 6 pieces\n",
      "doMatch 1000 1180\n",
      "doMatch 1000 1375\n",
      "doMatch 1000 1498\n",
      "doMatch 1000 1360\n",
      "follower_S1242357 particles have been matched twice, fixing 0\n",
      "doMatch 1000 1274\n",
      "doMatch 1000 1280\n",
      "follower_S1242357 particles have been matched twice, fixing 0\n",
      "MATCH 10 0.004408817\n",
      "ROTATE 10 phi       0.271219\n",
      "theta    -0.782520\n",
      "Ofz     -17.958147\n",
      "dtype: float64\n",
      "rotation coefficients iteration 11 of 20\n",
      "slicing data into 6 pieces\n",
      "doMatch 1000 1180\n",
      "doMatch 1000 1375\n",
      "doMatch 1000 1498\n",
      "doMatch 1000 1360\n",
      "follower_S1242357 particles have been matched twice, fixing 0\n",
      "doMatch 1000 1274\n",
      "doMatch 1000 1280\n",
      "follower_S1242357 particles have been matched twice, fixing 0\n",
      "MATCH 11 0.0044532204\n",
      "ROTATE 11 phi       0.240780\n",
      "theta    -0.805100\n",
      "Ofz     -18.021074\n",
      "dtype: float64\n",
      "rotation coefficients iteration 12 of 20\n",
      "slicing data into 6 pieces\n",
      "doMatch 1000 1180\n",
      "doMatch 1000 1375\n",
      "doMatch 1000 1498\n",
      "doMatch 1000 1360\n",
      "follower_S1242357 particles have been matched twice, fixing 0\n",
      "doMatch 1000 1274\n",
      "doMatch 1000 1280\n",
      "follower_S1242357 particles have been matched twice, fixing 0\n",
      "MATCH 12 0.0044696513\n",
      "ROTATE 12 phi       0.240470\n",
      "theta    -0.805392\n",
      "Ofz     -18.020733\n",
      "dtype: float64\n",
      "interupting loop\n",
      "phi       0.240470\n",
      "theta    -0.805392\n",
      "Ofz     -18.020733\n",
      "dtype: float64\n"
     ]
    }
   ],
   "source": [
    "fout, matchedDat, rot, rot_err = VISSSlib.matching.matchParticles(fname1L, config, rotationOnly=True, rotate=rotate_default, rotate_err=rotate_err_default, maxDiffMs=3.6, nPoints=500)\n"
   ]
  },
  {
   "cell_type": "code",
   "execution_count": 41,
   "id": "558021b8",
   "metadata": {},
   "outputs": [
    {
     "data": {
      "text/plain": [
       "(phi       0.240470\n",
       " theta    -0.805392\n",
       " Ofz     -18.020733\n",
       " dtype: float64,\n",
       " phi      0.023332\n",
       " theta    0.023724\n",
       " Ofz      0.351447\n",
       " dtype: float64)"
      ]
     },
     "execution_count": 41,
     "metadata": {},
     "output_type": "execute_result"
    }
   ],
   "source": [
    "rot, rot_err"
   ]
  },
  {
   "cell_type": "code",
   "execution_count": 42,
   "id": "6a50c91b",
   "metadata": {},
   "outputs": [
    {
     "name": "stdout",
     "output_type": "stream",
     "text": [
      "opening /projekt4/ag_maahn/data_obs_nobackup/nyaalesund/visss/level1detect/2022/06/30/level1detect_V20220521_nyaalesund_visss01_visss2_leader_S1242799_20220630-090000.nc\n",
      "take default values for previous rotation phi       0.240470\n",
      "theta    -0.805392\n",
      "Ofz     -18.020733\n",
      "dtype: float64\n",
      "opening ['/projekt4/ag_maahn/data_obs_nobackup/nyaalesund/visss/level1detect/2022/06/30/level1detect_V20220521_nyaalesund_visss02_visss2_follower_S1242357_20220630-090000.nc']\n",
      "0 of 1 slice for follower restart 2022-06-30T09:00:00.029292000 2022-06-30T09:09:59.604518000\n",
      "using 432 of 500\n",
      "estimateCaptureIdDiff statistic: {-1283: 408, -1282: 24}\n",
      "capture_id determined -1283, 94.44444444444444% have the same value\n",
      "rotation coefficients iteration 0 of 20\n",
      "slicing data into 6 pieces\n",
      "doMatch 1000 1180\n",
      "doMatch 1000 1375\n",
      "doMatch 1000 1498\n",
      "doMatch 1000 1360\n",
      "follower_S1242357 particles have been matched twice, fixing 0\n",
      "doMatch 1000 1274\n",
      "doMatch 1000 1280\n",
      "follower_S1242357 particles have been matched twice, fixing 0\n",
      "MATCH 0 0.0044696056\n",
      "ROTATE 0 phi       0.240466\n",
      "theta    -0.805395\n",
      "Ofz     -18.020725\n",
      "dtype: float64\n",
      "rotation coefficients iteration 1 of 20\n",
      "slicing data into 6 pieces\n",
      "doMatch 1000 1180\n",
      "doMatch 1000 1375\n",
      "doMatch 1000 1498\n",
      "doMatch 1000 1360\n",
      "follower_S1242357 particles have been matched twice, fixing 0\n",
      "doMatch 1000 1274\n",
      "doMatch 1000 1280\n",
      "follower_S1242357 particles have been matched twice, fixing 0\n",
      "MATCH 1 0.004469605\n",
      "ROTATE 1 phi       0.240466\n",
      "theta    -0.805395\n",
      "Ofz     -18.020725\n",
      "dtype: float64\n",
      "interupting loop\n",
      "phi       0.240466\n",
      "theta    -0.805395\n",
      "Ofz     -18.020725\n",
      "dtype: float64\n"
     ]
    },
    {
     "data": {
      "text/plain": [
       "(phi       0.240466\n",
       " theta    -0.805395\n",
       " Ofz     -18.020725\n",
       " dtype: float64,\n",
       " phi      0.023332\n",
       " theta    0.023724\n",
       " Ofz      0.351447\n",
       " dtype: float64)"
      ]
     },
     "execution_count": 42,
     "metadata": {},
     "output_type": "execute_result"
    }
   ],
   "source": [
    "fout, matchedDat, rot2, rot_err2 = VISSSlib.matching.matchParticles(fname1L, config, rotationOnly=True, rotate=rot, rotate_err=rot_err, maxDiffMs=3.6, nPoints=500)\n",
    "rot2, rot_err2"
   ]
  },
  {
   "cell_type": "code",
   "execution_count": 43,
   "id": "f997b040",
   "metadata": {},
   "outputs": [
    {
     "name": "stdout",
     "output_type": "stream",
     "text": [
      "opening /projekt4/ag_maahn/data_obs_nobackup/nyaalesund/visss/level1detect/2022/06/30/level1detect_V20220521_nyaalesund_visss01_visss2_leader_S1242799_20220630-090000.nc\n",
      "take default values for previous rotation phi       0.240466\n",
      "theta    -0.805395\n",
      "Ofz     -18.020725\n",
      "dtype: float64\n",
      "opening ['/projekt4/ag_maahn/data_obs_nobackup/nyaalesund/visss/level1detect/2022/06/30/level1detect_V20220521_nyaalesund_visss02_visss2_follower_S1242357_20220630-090000.nc']\n",
      "0 of 1 slice for follower restart 2022-06-30T09:00:00.029292000 2022-06-30T09:09:59.604518000\n",
      "using 432 of 500\n",
      "estimateCaptureIdDiff statistic: {-1283: 408, -1282: 24}\n",
      "capture_id determined -1283, 94.44444444444444% have the same value\n",
      "rotation coefficients iteration 0 of 20\n",
      "slicing data into 6 pieces\n",
      "doMatch 1000 1180\n",
      "doMatch 1000 1375\n",
      "doMatch 1000 1498\n",
      "doMatch 1000 1360\n",
      "follower_S1242357 particles have been matched twice, fixing 0\n",
      "doMatch 1000 1274\n",
      "doMatch 1000 1280\n",
      "follower_S1242357 particles have been matched twice, fixing 0\n",
      "MATCH 0 0.004469605\n",
      "ROTATE 0 phi       0.240466\n",
      "theta    -0.805395\n",
      "Ofz     -18.020725\n",
      "dtype: float64\n",
      "rotation coefficients iteration 1 of 20\n",
      "slicing data into 6 pieces\n",
      "doMatch 1000 1180\n",
      "doMatch 1000 1375\n",
      "doMatch 1000 1498\n",
      "doMatch 1000 1360\n",
      "follower_S1242357 particles have been matched twice, fixing 0\n",
      "doMatch 1000 1274\n",
      "doMatch 1000 1280\n",
      "follower_S1242357 particles have been matched twice, fixing 0\n",
      "MATCH 1 0.004469605\n",
      "ROTATE 1 phi       0.240466\n",
      "theta    -0.805395\n",
      "Ofz     -18.020725\n",
      "dtype: float64\n",
      "interupting loop\n",
      "phi       0.240466\n",
      "theta    -0.805395\n",
      "Ofz     -18.020725\n",
      "dtype: float64\n"
     ]
    }
   ],
   "source": [
    "fout, matchedDat, rot3, rot_err3 = VISSSlib.matching.matchParticles(fname1L, config, rotationOnly=True, rotate=rot2, rotate_err=rot_err2, maxDiffMs=3.6, nPoints=500)\n"
   ]
  },
  {
   "cell_type": "code",
   "execution_count": 44,
   "id": "424c84e4",
   "metadata": {},
   "outputs": [
    {
     "name": "stdout",
     "output_type": "stream",
     "text": [
      "rotate:\n",
      "  Ofz: -18.020725\n",
      "  phi: 0.240466\n",
      "  theta: -0.805395\n",
      "rotate_err:\n",
      "  Ofz: 0.351447\n",
      "  phi: 0.023332\n",
      "  theta: 0.023724\n",
      "\n"
     ]
    }
   ],
   "source": [
    "print(yaml.dump({\"rotate\":rot3.round(6).to_dict(), \"rotate_err\": rot_err3.round(6).to_dict()}))"
   ]
  },
  {
   "cell_type": "code",
   "execution_count": 35,
   "id": "d0581558",
   "metadata": {},
   "outputs": [
    {
     "name": "stdout",
     "output_type": "stream",
     "text": [
      "\n"
     ]
    }
   ],
   "source": [
    "print()"
   ]
  },
  {
   "cell_type": "code",
   "execution_count": null,
   "id": "3227e18e",
   "metadata": {},
   "outputs": [],
   "source": []
  }
 ],
 "metadata": {
  "kernelspec": {
   "display_name": "py310",
   "language": "python",
   "name": "py310"
  },
  "language_info": {
   "codemirror_mode": {
    "name": "ipython",
    "version": 3
   },
   "file_extension": ".py",
   "mimetype": "text/x-python",
   "name": "python",
   "nbconvert_exporter": "python",
   "pygments_lexer": "ipython3",
   "version": "3.10.5"
  },
  "notify_time": "5",
  "toc": {
   "base_numbering": 1,
   "nav_menu": {},
   "number_sections": true,
   "sideBar": true,
   "skip_h1_title": false,
   "title_cell": "Table of Contents",
   "title_sidebar": "Contents",
   "toc_cell": false,
   "toc_position": {
    "height": "calc(100% - 180px)",
    "left": "10px",
    "top": "150px",
    "width": "165px"
   },
   "toc_section_display": true,
   "toc_window_display": true
  }
 },
 "nbformat": 4,
 "nbformat_minor": 5
}

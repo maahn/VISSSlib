{
 "cells": [
  {
   "cell_type": "code",
   "execution_count": 1,
   "id": "38b95793",
   "metadata": {
    "ExecuteTime": {
     "end_time": "2022-12-07T15:02:45.824558Z",
     "start_time": "2022-12-07T15:02:43.261011Z"
    }
   },
   "outputs": [
    {
     "name": "stdout",
     "output_type": "stream",
     "text": [
      "2023.11.11\n"
     ]
    }
   ],
   "source": [
    "import matplotlib.pyplot as plt\n",
    "import numpy as np\n",
    "import pandas as pd\n",
    "import VISSSlib\n",
    "import yaml\n",
    "\n",
    "print(VISSSlib.__version__)"
   ]
  },
  {
   "cell_type": "code",
   "execution_count": null,
   "id": "bc9e8334",
   "metadata": {},
   "outputs": [],
   "source": []
  },
  {
   "cell_type": "code",
   "execution_count": 2,
   "id": "1cbf536c",
   "metadata": {
    "ExecuteTime": {
     "end_time": "2022-12-07T15:36:29.689820Z",
     "start_time": "2022-12-07T15:36:29.686162Z"
    }
   },
   "outputs": [
    {
     "name": "stdout",
     "output_type": "stream",
     "text": [
      "20231212-0810\n"
     ]
    }
   ],
   "source": [
    "settings = \"/projekt1//ag_maahn/VISSS_config/hyytiala_v1.yaml\"; case = \"20211221-000000\"; \n",
    "case = \"20220117-070000\"\n",
    "case = \"20220225-090000\"\n",
    "case = \"20220404-000000\"\n",
    "settings = \"/projekt1//ag_maahn/VISSS_config/sail_v1.yaml\"; case = \"20221106-2000\"\n",
    "settings = \"/projekt1//ag_maahn/VISSS_config/sail_v1.yaml\"; case = \"20221114-151000\"  # backlight adjusted\n",
    "settings = \"/projekt1//ag_maahn/VISSS_config/sail_v1.yaml\"; case = \"20230120-180000\"  # snow removal\n",
    "settings = \"/projekt1//ag_maahn/VISSS_config/nyaalesund_v4.yaml\"; case = \"20221231-073000\"\n",
    "settings = \"/projekt1//ag_maahn/VISSS_config/hyytiala_v1.yaml\"; case = \"20210924-2100\"  # rain?\n",
    "settings = \"/projekt1//ag_maahn/VISSS_config/hyytiala_v1.yaml\"; case = \"20210909-1100\"  # rain?\n",
    "# settings = \"/projekt1//ag_maahn/VISSS_config/sail_v1.yaml\"; case = \"20230213-200000\" #backlight adjusted\n",
    "settings = \"/projekt1//ag_maahn/VISSS_config/nyaalesund_v3.yaml\"; case = \"20220504-183000\"\n",
    "settings = \"/projekt1//ag_maahn/VISSS_config/nyaalesund_v4.yaml\"; case = \"20230120-210000\"\n",
    "settings = \"/projekt1//ag_maahn/VISSS_config/sail_v1.yaml\"; case = \"20230414-064000\"\n",
    "settings = \"/projekt1//ag_maahn/VISSS_config/mosaic_v1.yaml\"; case = \"20200505-105000\"  # looks stable after 073500\n",
    "settings = \"/projekt1//ag_maahn/VISSS_config/mosaic_v1.yaml\"; case = \"20200521-161000\"\n",
    "settings = \"/projekt1//ag_maahn/VISSS_config/lim_particleCalibration_20231027.yaml\"; case = \"20231027-095000\"\n",
    "settings = \"/projekt1//ag_maahn/VISSS_config/lim_sphereCalibration_20231103.yaml\"; case = \"20231103-105215\"\n",
    "settings = \"/projekt1//ag_maahn/VISSS_config/hyytiala2_v1.yaml\"; case = \"20231124-093514\"\n",
    "settings = \"/projekt1//ag_maahn/VISSS_config/hyytiala2_v2.yaml\"; case = \"20231126-211000\"\n",
    "settings = \"/projekt1//ag_maahn/VISSS_config/eriswil_v1.yaml\"; case = \"20231129-1310\"\n",
    "settings = \"/projekt1//ag_maahn/VISSS_config/eriswil_v1.yaml\"; case = \"20231130-1600\"\n",
    "settings = \"/projekt1//ag_maahn/VISSS_config/hyytiala2_v3.yaml\"; case = \"20231205-0800\"\n",
    "settings = \"/projekt1//ag_maahn/VISSS_config/eriswil_v1.yaml\"; case = \"20231205-2000\"\n",
    "settings = \"/projekt1//ag_maahn/VISSS_config/hyytiala2_v3.yaml\"; case = \"20231207-2110\"\n",
    "settings = \"/projekt1//ag_maahn/VISSS_config/hyytiala2_v3.yaml\"; case = \"20231212-0810\"\n",
    "#settings = \"/projekt1//ag_maahn/VISSS_config/eriswil_v1.yaml\"; case = \"20231214-1820\"\n",
    "print(case)"
   ]
  },
  {
   "cell_type": "code",
   "execution_count": null,
   "id": "6adfad17",
   "metadata": {},
   "outputs": [],
   "source": []
  },
  {
   "cell_type": "code",
   "execution_count": 3,
   "id": "805b7caf",
   "metadata": {
    "ExecuteTime": {
     "end_time": "2022-12-07T15:36:29.870037Z",
     "start_time": "2022-12-07T15:36:29.860770Z"
    }
   },
   "outputs": [
    {
     "data": {
      "text/plain": [
       "<module 'VISSSlib.metadata' from '/home/mmaahn/projectsSrv/VISSSlib/src/VISSSlib/metadata.py'>"
      ]
     },
     "execution_count": 3,
     "metadata": {},
     "output_type": "execute_result"
    }
   ],
   "source": [
    "from importlib import reload\n",
    "\n",
    "reload(VISSSlib.matching)\n",
    "reload(VISSSlib.fixes)\n",
    "reload(VISSSlib.tools)\n",
    "reload(VISSSlib.metadata)"
   ]
  },
  {
   "cell_type": "code",
   "execution_count": 4,
   "id": "9d8616d3",
   "metadata": {
    "ExecuteTime": {
     "end_time": "2022-12-07T15:36:30.041564Z",
     "start_time": "2022-12-07T15:36:30.027432Z"
    }
   },
   "outputs": [],
   "source": [
    "config = VISSSlib.tools.readSettings(settings)\n",
    "fl = VISSSlib.files.FindFiles(case, config.leader, config)\n",
    "fname1L = fl.listFiles(\"level1detect\")[0]\n",
    "fname1Match = VISSSlib.files.FilenamesFromLevel(fname1L, config).fname[\"level1match\"]"
   ]
  },
  {
   "cell_type": "code",
   "execution_count": 5,
   "id": "851e7b56",
   "metadata": {
    "ExecuteTime": {
     "end_time": "2022-12-07T15:36:30.207856Z",
     "start_time": "2022-12-07T15:36:30.204228Z"
    }
   },
   "outputs": [],
   "source": [
    "rotate_default = pd.Series(\n",
    "    {\n",
    "        \"camera_phi\": 0.0,\n",
    "        \"camera_theta\": 0.0,\n",
    "        \"camera_Ofz\": 0,\n",
    "    }\n",
    ")\n",
    "#\n",
    "rotate_err_default = pd.Series(\n",
    "    {\n",
    "        \"camera_phi\": 1,\n",
    "        \"camera_theta\": 1,\n",
    "        \"camera_Ofz\": 50,\n",
    "    }\n",
    ")"
   ]
  },
  {
   "cell_type": "code",
   "execution_count": null,
   "id": "05104b37-af26-4196-826e-e812776a3670",
   "metadata": {},
   "outputs": [],
   "source": []
  },
  {
   "cell_type": "markdown",
   "id": "1c1ec73f",
   "metadata": {},
   "source": [
    "## in the first step, use only large particles and do not use Z difference at all!\n",
    "\n",
    "set minDMax4rot so that matched twice does appear not that often\n",
    "\n",
    "do not choose a case where more than one particle is seen at the sma etime - filter this data ??"
   ]
  },
  {
   "cell_type": "code",
   "execution_count": 6,
   "id": "0336aac3-5a81-412e-b143-f59e2957dc35",
   "metadata": {
    "ExecuteTime": {
     "end_time": "2022-12-07T15:37:14.934524Z",
     "start_time": "2022-12-07T15:36:33.134186Z"
    }
   },
   "outputs": [
    {
     "name": "stdout",
     "output_type": "stream",
     "text": [
      "2023-12-20 09:37:07,304: INFO: VISSSlib.matching.matchParticles: opening /projekt6/ag_maahn/data_obs_nobackup/hyytiala/visss3_2023.11.11/level1detect/2023/12/12/level1detect_V2023.11.11_hyytiala_VISSS3t_visss3_leader_H2212557_20231212-081000.nc\n",
      "2023-12-20 09:37:07,830: INFO: VISSSlib.matching.matchParticles: 38070\n"
     ]
    },
    {
     "ename": "FileNotFoundError",
     "evalue": "[Errno 2] No such file or directory: '/projekt6/ag_maahn/data_obs_nobackup/hyytiala/visss3_2023.11.11/metaEvents/2023/metaEvents_V2023.11.11_hyytiala_VISSS3t_visss3_leader_H2212557_20231212.nc'",
     "output_type": "error",
     "traceback": [
      "\u001b[0;31m---------------------------------------------------------------------------\u001b[0m",
      "\u001b[0;31mKeyError\u001b[0m                                  Traceback (most recent call last)",
      "File \u001b[0;32m/projekt4/ag_maahn/mmaahn/miniforge/envs/py310/lib/python3.10/site-packages/xarray/backends/file_manager.py:211\u001b[0m, in \u001b[0;36mCachingFileManager._acquire_with_cache_info\u001b[0;34m(self, needs_lock)\u001b[0m\n\u001b[1;32m    210\u001b[0m \u001b[38;5;28;01mtry\u001b[39;00m:\n\u001b[0;32m--> 211\u001b[0m     file \u001b[38;5;241m=\u001b[39m \u001b[38;5;28;43mself\u001b[39;49m\u001b[38;5;241;43m.\u001b[39;49m\u001b[43m_cache\u001b[49m\u001b[43m[\u001b[49m\u001b[38;5;28;43mself\u001b[39;49m\u001b[38;5;241;43m.\u001b[39;49m\u001b[43m_key\u001b[49m\u001b[43m]\u001b[49m\n\u001b[1;32m    212\u001b[0m \u001b[38;5;28;01mexcept\u001b[39;00m \u001b[38;5;167;01mKeyError\u001b[39;00m:\n",
      "File \u001b[0;32m/projekt4/ag_maahn/mmaahn/miniforge/envs/py310/lib/python3.10/site-packages/xarray/backends/lru_cache.py:56\u001b[0m, in \u001b[0;36mLRUCache.__getitem__\u001b[0;34m(self, key)\u001b[0m\n\u001b[1;32m     55\u001b[0m \u001b[38;5;28;01mwith\u001b[39;00m \u001b[38;5;28mself\u001b[39m\u001b[38;5;241m.\u001b[39m_lock:\n\u001b[0;32m---> 56\u001b[0m     value \u001b[38;5;241m=\u001b[39m \u001b[38;5;28;43mself\u001b[39;49m\u001b[38;5;241;43m.\u001b[39;49m\u001b[43m_cache\u001b[49m\u001b[43m[\u001b[49m\u001b[43mkey\u001b[49m\u001b[43m]\u001b[49m\n\u001b[1;32m     57\u001b[0m     \u001b[38;5;28mself\u001b[39m\u001b[38;5;241m.\u001b[39m_cache\u001b[38;5;241m.\u001b[39mmove_to_end(key)\n",
      "\u001b[0;31mKeyError\u001b[0m: [<class 'netCDF4._netCDF4.Dataset'>, ('/projekt6/ag_maahn/data_obs_nobackup/hyytiala/visss3_2023.11.11/metaEvents/2023/metaEvents_V2023.11.11_hyytiala_VISSS3t_visss3_leader_H2212557_20231212.nc',), 'r', (('clobber', True), ('diskless', False), ('format', 'NETCDF4'), ('persist', False)), '4bce231e-25ff-4b62-a4c3-077a4b012e94']",
      "\nDuring handling of the above exception, another exception occurred:\n",
      "\u001b[0;31mFileNotFoundError\u001b[0m                         Traceback (most recent call last)",
      "Cell \u001b[0;32mIn[6], line 5\u001b[0m\n\u001b[1;32m      2\u001b[0m reload(VISSSlib\u001b[38;5;241m.\u001b[39mtools)\n\u001b[1;32m      3\u001b[0m reload(VISSSlib\u001b[38;5;241m.\u001b[39mfixes)\n\u001b[0;32m----> 5\u001b[0m fout, matchedDat, rot, rot_err \u001b[38;5;241m=\u001b[39m \u001b[43mVISSSlib\u001b[49m\u001b[38;5;241;43m.\u001b[39;49m\u001b[43mmatching\u001b[49m\u001b[38;5;241;43m.\u001b[39;49m\u001b[43mmatchParticles\u001b[49m\u001b[43m(\u001b[49m\n\u001b[1;32m      6\u001b[0m \u001b[43m    \u001b[49m\u001b[43mfname1L\u001b[49m\u001b[43m,\u001b[49m\n\u001b[1;32m      7\u001b[0m \u001b[43m    \u001b[49m\u001b[43mconfig\u001b[49m\u001b[43m,\u001b[49m\n\u001b[1;32m      8\u001b[0m \u001b[43m    \u001b[49m\u001b[43mdoRot\u001b[49m\u001b[38;5;241;43m=\u001b[39;49m\u001b[38;5;28;43;01mTrue\u001b[39;49;00m\u001b[43m,\u001b[49m\n\u001b[1;32m      9\u001b[0m \u001b[43m    \u001b[49m\u001b[43mrotationOnly\u001b[49m\u001b[38;5;241;43m=\u001b[39;49m\u001b[38;5;28;43;01mTrue\u001b[39;49;00m\u001b[43m,\u001b[49m\n\u001b[1;32m     10\u001b[0m \u001b[43m    \u001b[49m\u001b[43mrotate\u001b[49m\u001b[38;5;241;43m=\u001b[39;49m\u001b[43mrotate_default\u001b[49m\u001b[43m,\u001b[49m\n\u001b[1;32m     11\u001b[0m \u001b[43m    \u001b[49m\u001b[43mrotate_err\u001b[49m\u001b[38;5;241;43m=\u001b[39;49m\u001b[43mrotate_err_default\u001b[49m\u001b[43m,\u001b[49m\n\u001b[1;32m     12\u001b[0m \u001b[43m    \u001b[49m\u001b[43mmaxDiffMs\u001b[49m\u001b[38;5;241;43m=\u001b[39;49m\u001b[38;5;124;43m\"\u001b[39;49m\u001b[38;5;124;43mconfig\u001b[39;49m\u001b[38;5;124;43m\"\u001b[39;49m\u001b[43m,\u001b[49m\n\u001b[1;32m     13\u001b[0m \u001b[43m    \u001b[49m\u001b[43mnPoints\u001b[49m\u001b[38;5;241;43m=\u001b[39;49m\u001b[38;5;241;43m500\u001b[39;49m\u001b[43m,\u001b[49m\n\u001b[1;32m     14\u001b[0m \u001b[43m    \u001b[49m\u001b[43mtesting\u001b[49m\u001b[38;5;241;43m=\u001b[39;49m\u001b[38;5;28;43;01mFalse\u001b[39;49;00m\u001b[43m,\u001b[49m\n\u001b[1;32m     15\u001b[0m \u001b[43m    \u001b[49m\u001b[43mchunckSize\u001b[49m\u001b[38;5;241;43m=\u001b[39;49m\u001b[38;5;241;43m50000\u001b[39;49m\u001b[43m,\u001b[49m\n\u001b[1;32m     16\u001b[0m \u001b[43m    \u001b[49m\u001b[43mminSamples4rot\u001b[49m\u001b[38;5;241;43m=\u001b[39;49m\u001b[38;5;241;43m100\u001b[39;49m\u001b[43m,\u001b[49m\n\u001b[1;32m     17\u001b[0m \u001b[43m    \u001b[49m\u001b[38;5;66;43;03m# minBlur4rot=1000,\u001b[39;49;00m\n\u001b[1;32m     18\u001b[0m \u001b[43m    \u001b[49m\u001b[43mminDMax4rot\u001b[49m\u001b[38;5;241;43m=\u001b[39;49m\u001b[38;5;241;43m15\u001b[39;49m\u001b[43m,\u001b[49m\n\u001b[1;32m     19\u001b[0m \u001b[43m    \u001b[49m\u001b[43msingleParticleFramesOnly\u001b[49m\u001b[38;5;241;43m=\u001b[39;49m\u001b[38;5;28;43;01mTrue\u001b[39;49;00m\u001b[43m,\u001b[49m\n\u001b[1;32m     20\u001b[0m \u001b[43m    \u001b[49m\u001b[43mnSamples4rot\u001b[49m\u001b[38;5;241;43m=\u001b[39;49m\u001b[38;5;241;43m50000\u001b[39;49m\u001b[43m,\u001b[49m\n\u001b[1;32m     21\u001b[0m \u001b[43m    \u001b[49m\u001b[43msigma\u001b[49m\u001b[38;5;241;43m=\u001b[39;49m\u001b[43m{\u001b[49m\n\u001b[1;32m     22\u001b[0m \u001b[43m        \u001b[49m\u001b[38;5;66;43;03m#             \"Z\" : 1.7, # estimated from OE results\u001b[39;49;00m\n\u001b[1;32m     23\u001b[0m \u001b[43m        \u001b[49m\u001b[38;5;124;43m\"\u001b[39;49m\u001b[38;5;124;43mH\u001b[39;49m\u001b[38;5;124;43m\"\u001b[39;49m\u001b[43m:\u001b[49m\u001b[43m \u001b[49m\u001b[38;5;241;43m1.2\u001b[39;49m\u001b[43m,\u001b[49m\u001b[43m  \u001b[49m\u001b[38;5;66;43;03m# estimated from OE results\u001b[39;49;00m\n\u001b[1;32m     24\u001b[0m \u001b[43m        \u001b[49m\u001b[38;5;124;43m\"\u001b[39;49m\u001b[38;5;124;43mI\u001b[39;49m\u001b[38;5;124;43m\"\u001b[39;49m\u001b[43m:\u001b[49m\u001b[43m \u001b[49m\u001b[38;5;241;43m0.01\u001b[39;49m\u001b[43m,\u001b[49m\n\u001b[1;32m     25\u001b[0m \u001b[43m    \u001b[49m\u001b[43m}\u001b[49m\u001b[43m,\u001b[49m\n\u001b[1;32m     26\u001b[0m \u001b[43m)\u001b[49m\n\u001b[1;32m     27\u001b[0m rot, rot_err\n",
      "File \u001b[0;32m~/projectsSrv/VISSSlib/src/VISSSlib/matching.py:1051\u001b[0m, in \u001b[0;36mmatchParticles\u001b[0;34m(fnameLv1Detect, config, y_cov_diag, version, chunckSize, rotate, rotate_err, maxDiffMs, rotationOnly, nPoints, sigma, nSamples4rot, minSamples4rot, testing, minDMax4rot, singleParticleFramesOnly, doRot, writeNc, offsetsOnly, subset)\u001b[0m\n\u001b[1;32m   1045\u001b[0m \u001b[38;5;66;03m# just in case\u001b[39;00m\n\u001b[1;32m   1046\u001b[0m \u001b[38;5;66;03m# metadata.createEvent(ffl1.case.split(\"-\")[0], config.leader, config, skipExisting=True)\u001b[39;00m\n\u001b[1;32m   1047\u001b[0m \u001b[38;5;66;03m# for fCase in fCases:\u001b[39;00m\n\u001b[1;32m   1048\u001b[0m \u001b[38;5;66;03m#     metadata.createEvent(fCase, config.follower, config, skipExisting=True)\u001b[39;00m\n\u001b[1;32m   1050\u001b[0m lEvents \u001b[38;5;241m=\u001b[39m ffl1\u001b[38;5;241m.\u001b[39mfname\u001b[38;5;241m.\u001b[39mmetaEvents\n\u001b[0;32m-> 1051\u001b[0m lEvents \u001b[38;5;241m=\u001b[39m \u001b[43mxr\u001b[49m\u001b[38;5;241;43m.\u001b[39;49m\u001b[43mopen_dataset\u001b[49m\u001b[43m(\u001b[49m\u001b[43mlEvents\u001b[49m\u001b[43m)\u001b[49m\n\u001b[1;32m   1053\u001b[0m fEvents \u001b[38;5;241m=\u001b[39m np\u001b[38;5;241m.\u001b[39munique([f\u001b[38;5;241m.\u001b[39mfname\u001b[38;5;241m.\u001b[39mmetaEvents \u001b[38;5;28;01mfor\u001b[39;00m f \u001b[38;5;129;01min\u001b[39;00m fClass])\n\u001b[1;32m   1054\u001b[0m fEvents \u001b[38;5;241m=\u001b[39m xr\u001b[38;5;241m.\u001b[39mopen_mfdataset(fEvents)\u001b[38;5;241m.\u001b[39mload()\n",
      "File \u001b[0;32m/projekt4/ag_maahn/mmaahn/miniforge/envs/py310/lib/python3.10/site-packages/xarray/backends/api.py:572\u001b[0m, in \u001b[0;36mopen_dataset\u001b[0;34m(filename_or_obj, engine, chunks, cache, decode_cf, mask_and_scale, decode_times, decode_timedelta, use_cftime, concat_characters, decode_coords, drop_variables, inline_array, chunked_array_type, from_array_kwargs, backend_kwargs, **kwargs)\u001b[0m\n\u001b[1;32m    560\u001b[0m decoders \u001b[38;5;241m=\u001b[39m _resolve_decoders_kwargs(\n\u001b[1;32m    561\u001b[0m     decode_cf,\n\u001b[1;32m    562\u001b[0m     open_backend_dataset_parameters\u001b[38;5;241m=\u001b[39mbackend\u001b[38;5;241m.\u001b[39mopen_dataset_parameters,\n\u001b[0;32m   (...)\u001b[0m\n\u001b[1;32m    568\u001b[0m     decode_coords\u001b[38;5;241m=\u001b[39mdecode_coords,\n\u001b[1;32m    569\u001b[0m )\n\u001b[1;32m    571\u001b[0m overwrite_encoded_chunks \u001b[38;5;241m=\u001b[39m kwargs\u001b[38;5;241m.\u001b[39mpop(\u001b[38;5;124m\"\u001b[39m\u001b[38;5;124moverwrite_encoded_chunks\u001b[39m\u001b[38;5;124m\"\u001b[39m, \u001b[38;5;28;01mNone\u001b[39;00m)\n\u001b[0;32m--> 572\u001b[0m backend_ds \u001b[38;5;241m=\u001b[39m \u001b[43mbackend\u001b[49m\u001b[38;5;241;43m.\u001b[39;49m\u001b[43mopen_dataset\u001b[49m\u001b[43m(\u001b[49m\n\u001b[1;32m    573\u001b[0m \u001b[43m    \u001b[49m\u001b[43mfilename_or_obj\u001b[49m\u001b[43m,\u001b[49m\n\u001b[1;32m    574\u001b[0m \u001b[43m    \u001b[49m\u001b[43mdrop_variables\u001b[49m\u001b[38;5;241;43m=\u001b[39;49m\u001b[43mdrop_variables\u001b[49m\u001b[43m,\u001b[49m\n\u001b[1;32m    575\u001b[0m \u001b[43m    \u001b[49m\u001b[38;5;241;43m*\u001b[39;49m\u001b[38;5;241;43m*\u001b[39;49m\u001b[43mdecoders\u001b[49m\u001b[43m,\u001b[49m\n\u001b[1;32m    576\u001b[0m \u001b[43m    \u001b[49m\u001b[38;5;241;43m*\u001b[39;49m\u001b[38;5;241;43m*\u001b[39;49m\u001b[43mkwargs\u001b[49m\u001b[43m,\u001b[49m\n\u001b[1;32m    577\u001b[0m \u001b[43m\u001b[49m\u001b[43m)\u001b[49m\n\u001b[1;32m    578\u001b[0m ds \u001b[38;5;241m=\u001b[39m _dataset_from_backend_dataset(\n\u001b[1;32m    579\u001b[0m     backend_ds,\n\u001b[1;32m    580\u001b[0m     filename_or_obj,\n\u001b[0;32m   (...)\u001b[0m\n\u001b[1;32m    590\u001b[0m     \u001b[38;5;241m*\u001b[39m\u001b[38;5;241m*\u001b[39mkwargs,\n\u001b[1;32m    591\u001b[0m )\n\u001b[1;32m    592\u001b[0m \u001b[38;5;28;01mreturn\u001b[39;00m ds\n",
      "File \u001b[0;32m/projekt4/ag_maahn/mmaahn/miniforge/envs/py310/lib/python3.10/site-packages/xarray/backends/netCDF4_.py:593\u001b[0m, in \u001b[0;36mNetCDF4BackendEntrypoint.open_dataset\u001b[0;34m(self, filename_or_obj, mask_and_scale, decode_times, concat_characters, decode_coords, drop_variables, use_cftime, decode_timedelta, group, mode, format, clobber, diskless, persist, lock, autoclose)\u001b[0m\n\u001b[1;32m    572\u001b[0m \u001b[38;5;28;01mdef\u001b[39;00m \u001b[38;5;21mopen_dataset\u001b[39m(  \u001b[38;5;66;03m# type: ignore[override]  # allow LSP violation, not supporting **kwargs\u001b[39;00m\n\u001b[1;32m    573\u001b[0m     \u001b[38;5;28mself\u001b[39m,\n\u001b[1;32m    574\u001b[0m     filename_or_obj: \u001b[38;5;28mstr\u001b[39m \u001b[38;5;241m|\u001b[39m os\u001b[38;5;241m.\u001b[39mPathLike[Any] \u001b[38;5;241m|\u001b[39m BufferedIOBase \u001b[38;5;241m|\u001b[39m AbstractDataStore,\n\u001b[0;32m   (...)\u001b[0m\n\u001b[1;32m    590\u001b[0m     autoclose\u001b[38;5;241m=\u001b[39m\u001b[38;5;28;01mFalse\u001b[39;00m,\n\u001b[1;32m    591\u001b[0m ) \u001b[38;5;241m-\u001b[39m\u001b[38;5;241m>\u001b[39m Dataset:\n\u001b[1;32m    592\u001b[0m     filename_or_obj \u001b[38;5;241m=\u001b[39m _normalize_path(filename_or_obj)\n\u001b[0;32m--> 593\u001b[0m     store \u001b[38;5;241m=\u001b[39m \u001b[43mNetCDF4DataStore\u001b[49m\u001b[38;5;241;43m.\u001b[39;49m\u001b[43mopen\u001b[49m\u001b[43m(\u001b[49m\n\u001b[1;32m    594\u001b[0m \u001b[43m        \u001b[49m\u001b[43mfilename_or_obj\u001b[49m\u001b[43m,\u001b[49m\n\u001b[1;32m    595\u001b[0m \u001b[43m        \u001b[49m\u001b[43mmode\u001b[49m\u001b[38;5;241;43m=\u001b[39;49m\u001b[43mmode\u001b[49m\u001b[43m,\u001b[49m\n\u001b[1;32m    596\u001b[0m \u001b[43m        \u001b[49m\u001b[38;5;28;43mformat\u001b[39;49m\u001b[38;5;241;43m=\u001b[39;49m\u001b[38;5;28;43mformat\u001b[39;49m\u001b[43m,\u001b[49m\n\u001b[1;32m    597\u001b[0m \u001b[43m        \u001b[49m\u001b[43mgroup\u001b[49m\u001b[38;5;241;43m=\u001b[39;49m\u001b[43mgroup\u001b[49m\u001b[43m,\u001b[49m\n\u001b[1;32m    598\u001b[0m \u001b[43m        \u001b[49m\u001b[43mclobber\u001b[49m\u001b[38;5;241;43m=\u001b[39;49m\u001b[43mclobber\u001b[49m\u001b[43m,\u001b[49m\n\u001b[1;32m    599\u001b[0m \u001b[43m        \u001b[49m\u001b[43mdiskless\u001b[49m\u001b[38;5;241;43m=\u001b[39;49m\u001b[43mdiskless\u001b[49m\u001b[43m,\u001b[49m\n\u001b[1;32m    600\u001b[0m \u001b[43m        \u001b[49m\u001b[43mpersist\u001b[49m\u001b[38;5;241;43m=\u001b[39;49m\u001b[43mpersist\u001b[49m\u001b[43m,\u001b[49m\n\u001b[1;32m    601\u001b[0m \u001b[43m        \u001b[49m\u001b[43mlock\u001b[49m\u001b[38;5;241;43m=\u001b[39;49m\u001b[43mlock\u001b[49m\u001b[43m,\u001b[49m\n\u001b[1;32m    602\u001b[0m \u001b[43m        \u001b[49m\u001b[43mautoclose\u001b[49m\u001b[38;5;241;43m=\u001b[39;49m\u001b[43mautoclose\u001b[49m\u001b[43m,\u001b[49m\n\u001b[1;32m    603\u001b[0m \u001b[43m    \u001b[49m\u001b[43m)\u001b[49m\n\u001b[1;32m    605\u001b[0m     store_entrypoint \u001b[38;5;241m=\u001b[39m StoreBackendEntrypoint()\n\u001b[1;32m    606\u001b[0m     \u001b[38;5;28;01mwith\u001b[39;00m close_on_error(store):\n",
      "File \u001b[0;32m/projekt4/ag_maahn/mmaahn/miniforge/envs/py310/lib/python3.10/site-packages/xarray/backends/netCDF4_.py:400\u001b[0m, in \u001b[0;36mNetCDF4DataStore.open\u001b[0;34m(cls, filename, mode, format, group, clobber, diskless, persist, lock, lock_maker, autoclose)\u001b[0m\n\u001b[1;32m    394\u001b[0m kwargs \u001b[38;5;241m=\u001b[39m \u001b[38;5;28mdict\u001b[39m(\n\u001b[1;32m    395\u001b[0m     clobber\u001b[38;5;241m=\u001b[39mclobber, diskless\u001b[38;5;241m=\u001b[39mdiskless, persist\u001b[38;5;241m=\u001b[39mpersist, \u001b[38;5;28mformat\u001b[39m\u001b[38;5;241m=\u001b[39m\u001b[38;5;28mformat\u001b[39m\n\u001b[1;32m    396\u001b[0m )\n\u001b[1;32m    397\u001b[0m manager \u001b[38;5;241m=\u001b[39m CachingFileManager(\n\u001b[1;32m    398\u001b[0m     netCDF4\u001b[38;5;241m.\u001b[39mDataset, filename, mode\u001b[38;5;241m=\u001b[39mmode, kwargs\u001b[38;5;241m=\u001b[39mkwargs\n\u001b[1;32m    399\u001b[0m )\n\u001b[0;32m--> 400\u001b[0m \u001b[38;5;28;01mreturn\u001b[39;00m \u001b[38;5;28;43mcls\u001b[39;49m\u001b[43m(\u001b[49m\u001b[43mmanager\u001b[49m\u001b[43m,\u001b[49m\u001b[43m \u001b[49m\u001b[43mgroup\u001b[49m\u001b[38;5;241;43m=\u001b[39;49m\u001b[43mgroup\u001b[49m\u001b[43m,\u001b[49m\u001b[43m \u001b[49m\u001b[43mmode\u001b[49m\u001b[38;5;241;43m=\u001b[39;49m\u001b[43mmode\u001b[49m\u001b[43m,\u001b[49m\u001b[43m \u001b[49m\u001b[43mlock\u001b[49m\u001b[38;5;241;43m=\u001b[39;49m\u001b[43mlock\u001b[49m\u001b[43m,\u001b[49m\u001b[43m \u001b[49m\u001b[43mautoclose\u001b[49m\u001b[38;5;241;43m=\u001b[39;49m\u001b[43mautoclose\u001b[49m\u001b[43m)\u001b[49m\n",
      "File \u001b[0;32m/projekt4/ag_maahn/mmaahn/miniforge/envs/py310/lib/python3.10/site-packages/xarray/backends/netCDF4_.py:347\u001b[0m, in \u001b[0;36mNetCDF4DataStore.__init__\u001b[0;34m(self, manager, group, mode, lock, autoclose)\u001b[0m\n\u001b[1;32m    345\u001b[0m \u001b[38;5;28mself\u001b[39m\u001b[38;5;241m.\u001b[39m_group \u001b[38;5;241m=\u001b[39m group\n\u001b[1;32m    346\u001b[0m \u001b[38;5;28mself\u001b[39m\u001b[38;5;241m.\u001b[39m_mode \u001b[38;5;241m=\u001b[39m mode\n\u001b[0;32m--> 347\u001b[0m \u001b[38;5;28mself\u001b[39m\u001b[38;5;241m.\u001b[39mformat \u001b[38;5;241m=\u001b[39m \u001b[38;5;28;43mself\u001b[39;49m\u001b[38;5;241;43m.\u001b[39;49m\u001b[43mds\u001b[49m\u001b[38;5;241m.\u001b[39mdata_model\n\u001b[1;32m    348\u001b[0m \u001b[38;5;28mself\u001b[39m\u001b[38;5;241m.\u001b[39m_filename \u001b[38;5;241m=\u001b[39m \u001b[38;5;28mself\u001b[39m\u001b[38;5;241m.\u001b[39mds\u001b[38;5;241m.\u001b[39mfilepath()\n\u001b[1;32m    349\u001b[0m \u001b[38;5;28mself\u001b[39m\u001b[38;5;241m.\u001b[39mis_remote \u001b[38;5;241m=\u001b[39m is_remote_uri(\u001b[38;5;28mself\u001b[39m\u001b[38;5;241m.\u001b[39m_filename)\n",
      "File \u001b[0;32m/projekt4/ag_maahn/mmaahn/miniforge/envs/py310/lib/python3.10/site-packages/xarray/backends/netCDF4_.py:409\u001b[0m, in \u001b[0;36mNetCDF4DataStore.ds\u001b[0;34m(self)\u001b[0m\n\u001b[1;32m    407\u001b[0m \u001b[38;5;129m@property\u001b[39m\n\u001b[1;32m    408\u001b[0m \u001b[38;5;28;01mdef\u001b[39;00m \u001b[38;5;21mds\u001b[39m(\u001b[38;5;28mself\u001b[39m):\n\u001b[0;32m--> 409\u001b[0m     \u001b[38;5;28;01mreturn\u001b[39;00m \u001b[38;5;28;43mself\u001b[39;49m\u001b[38;5;241;43m.\u001b[39;49m\u001b[43m_acquire\u001b[49m\u001b[43m(\u001b[49m\u001b[43m)\u001b[49m\n",
      "File \u001b[0;32m/projekt4/ag_maahn/mmaahn/miniforge/envs/py310/lib/python3.10/site-packages/xarray/backends/netCDF4_.py:403\u001b[0m, in \u001b[0;36mNetCDF4DataStore._acquire\u001b[0;34m(self, needs_lock)\u001b[0m\n\u001b[1;32m    402\u001b[0m \u001b[38;5;28;01mdef\u001b[39;00m \u001b[38;5;21m_acquire\u001b[39m(\u001b[38;5;28mself\u001b[39m, needs_lock\u001b[38;5;241m=\u001b[39m\u001b[38;5;28;01mTrue\u001b[39;00m):\n\u001b[0;32m--> 403\u001b[0m     \u001b[38;5;28;01mwith\u001b[39;00m \u001b[38;5;28mself\u001b[39m\u001b[38;5;241m.\u001b[39m_manager\u001b[38;5;241m.\u001b[39macquire_context(needs_lock) \u001b[38;5;28;01mas\u001b[39;00m root:\n\u001b[1;32m    404\u001b[0m         ds \u001b[38;5;241m=\u001b[39m _nc4_require_group(root, \u001b[38;5;28mself\u001b[39m\u001b[38;5;241m.\u001b[39m_group, \u001b[38;5;28mself\u001b[39m\u001b[38;5;241m.\u001b[39m_mode)\n\u001b[1;32m    405\u001b[0m     \u001b[38;5;28;01mreturn\u001b[39;00m ds\n",
      "File \u001b[0;32m/projekt4/ag_maahn/mmaahn/miniforge/envs/py310/lib/python3.10/contextlib.py:135\u001b[0m, in \u001b[0;36m_GeneratorContextManager.__enter__\u001b[0;34m(self)\u001b[0m\n\u001b[1;32m    133\u001b[0m \u001b[38;5;28;01mdel\u001b[39;00m \u001b[38;5;28mself\u001b[39m\u001b[38;5;241m.\u001b[39margs, \u001b[38;5;28mself\u001b[39m\u001b[38;5;241m.\u001b[39mkwds, \u001b[38;5;28mself\u001b[39m\u001b[38;5;241m.\u001b[39mfunc\n\u001b[1;32m    134\u001b[0m \u001b[38;5;28;01mtry\u001b[39;00m:\n\u001b[0;32m--> 135\u001b[0m     \u001b[38;5;28;01mreturn\u001b[39;00m \u001b[38;5;28;43mnext\u001b[39;49m\u001b[43m(\u001b[49m\u001b[38;5;28;43mself\u001b[39;49m\u001b[38;5;241;43m.\u001b[39;49m\u001b[43mgen\u001b[49m\u001b[43m)\u001b[49m\n\u001b[1;32m    136\u001b[0m \u001b[38;5;28;01mexcept\u001b[39;00m \u001b[38;5;167;01mStopIteration\u001b[39;00m:\n\u001b[1;32m    137\u001b[0m     \u001b[38;5;28;01mraise\u001b[39;00m \u001b[38;5;167;01mRuntimeError\u001b[39;00m(\u001b[38;5;124m\"\u001b[39m\u001b[38;5;124mgenerator didn\u001b[39m\u001b[38;5;124m'\u001b[39m\u001b[38;5;124mt yield\u001b[39m\u001b[38;5;124m\"\u001b[39m) \u001b[38;5;28;01mfrom\u001b[39;00m \u001b[38;5;28;01mNone\u001b[39;00m\n",
      "File \u001b[0;32m/projekt4/ag_maahn/mmaahn/miniforge/envs/py310/lib/python3.10/site-packages/xarray/backends/file_manager.py:199\u001b[0m, in \u001b[0;36mCachingFileManager.acquire_context\u001b[0;34m(self, needs_lock)\u001b[0m\n\u001b[1;32m    196\u001b[0m \u001b[38;5;129m@contextlib\u001b[39m\u001b[38;5;241m.\u001b[39mcontextmanager\n\u001b[1;32m    197\u001b[0m \u001b[38;5;28;01mdef\u001b[39;00m \u001b[38;5;21macquire_context\u001b[39m(\u001b[38;5;28mself\u001b[39m, needs_lock\u001b[38;5;241m=\u001b[39m\u001b[38;5;28;01mTrue\u001b[39;00m):\n\u001b[1;32m    198\u001b[0m \u001b[38;5;250m    \u001b[39m\u001b[38;5;124;03m\"\"\"Context manager for acquiring a file.\"\"\"\u001b[39;00m\n\u001b[0;32m--> 199\u001b[0m     file, cached \u001b[38;5;241m=\u001b[39m \u001b[38;5;28;43mself\u001b[39;49m\u001b[38;5;241;43m.\u001b[39;49m\u001b[43m_acquire_with_cache_info\u001b[49m\u001b[43m(\u001b[49m\u001b[43mneeds_lock\u001b[49m\u001b[43m)\u001b[49m\n\u001b[1;32m    200\u001b[0m     \u001b[38;5;28;01mtry\u001b[39;00m:\n\u001b[1;32m    201\u001b[0m         \u001b[38;5;28;01myield\u001b[39;00m file\n",
      "File \u001b[0;32m/projekt4/ag_maahn/mmaahn/miniforge/envs/py310/lib/python3.10/site-packages/xarray/backends/file_manager.py:217\u001b[0m, in \u001b[0;36mCachingFileManager._acquire_with_cache_info\u001b[0;34m(self, needs_lock)\u001b[0m\n\u001b[1;32m    215\u001b[0m     kwargs \u001b[38;5;241m=\u001b[39m kwargs\u001b[38;5;241m.\u001b[39mcopy()\n\u001b[1;32m    216\u001b[0m     kwargs[\u001b[38;5;124m\"\u001b[39m\u001b[38;5;124mmode\u001b[39m\u001b[38;5;124m\"\u001b[39m] \u001b[38;5;241m=\u001b[39m \u001b[38;5;28mself\u001b[39m\u001b[38;5;241m.\u001b[39m_mode\n\u001b[0;32m--> 217\u001b[0m file \u001b[38;5;241m=\u001b[39m \u001b[38;5;28;43mself\u001b[39;49m\u001b[38;5;241;43m.\u001b[39;49m\u001b[43m_opener\u001b[49m\u001b[43m(\u001b[49m\u001b[38;5;241;43m*\u001b[39;49m\u001b[38;5;28;43mself\u001b[39;49m\u001b[38;5;241;43m.\u001b[39;49m\u001b[43m_args\u001b[49m\u001b[43m,\u001b[49m\u001b[43m \u001b[49m\u001b[38;5;241;43m*\u001b[39;49m\u001b[38;5;241;43m*\u001b[39;49m\u001b[43mkwargs\u001b[49m\u001b[43m)\u001b[49m\n\u001b[1;32m    218\u001b[0m \u001b[38;5;28;01mif\u001b[39;00m \u001b[38;5;28mself\u001b[39m\u001b[38;5;241m.\u001b[39m_mode \u001b[38;5;241m==\u001b[39m \u001b[38;5;124m\"\u001b[39m\u001b[38;5;124mw\u001b[39m\u001b[38;5;124m\"\u001b[39m:\n\u001b[1;32m    219\u001b[0m     \u001b[38;5;66;03m# ensure file doesn't get overridden when opened again\u001b[39;00m\n\u001b[1;32m    220\u001b[0m     \u001b[38;5;28mself\u001b[39m\u001b[38;5;241m.\u001b[39m_mode \u001b[38;5;241m=\u001b[39m \u001b[38;5;124m\"\u001b[39m\u001b[38;5;124ma\u001b[39m\u001b[38;5;124m\"\u001b[39m\n",
      "File \u001b[0;32msrc/netCDF4/_netCDF4.pyx:2469\u001b[0m, in \u001b[0;36mnetCDF4._netCDF4.Dataset.__init__\u001b[0;34m()\u001b[0m\n",
      "File \u001b[0;32msrc/netCDF4/_netCDF4.pyx:2028\u001b[0m, in \u001b[0;36mnetCDF4._netCDF4._ensure_nc_success\u001b[0;34m()\u001b[0m\n",
      "\u001b[0;31mFileNotFoundError\u001b[0m: [Errno 2] No such file or directory: '/projekt6/ag_maahn/data_obs_nobackup/hyytiala/visss3_2023.11.11/metaEvents/2023/metaEvents_V2023.11.11_hyytiala_VISSS3t_visss3_leader_H2212557_20231212.nc'"
     ]
    }
   ],
   "source": [
    "# reload(VISSSlib.matching)\n",
    "reload(VISSSlib.tools)\n",
    "reload(VISSSlib.fixes)\n",
    "\n",
    "fout, matchedDat, rot, rot_err = VISSSlib.matching.matchParticles(\n",
    "    fname1L,\n",
    "    config,\n",
    "    doRot=True,\n",
    "    rotationOnly=True,\n",
    "    rotate=rotate_default,\n",
    "    rotate_err=rotate_err_default,\n",
    "    maxDiffMs=\"config\",\n",
    "    nPoints=500,\n",
    "    testing=False,\n",
    "    chunckSize=50000,\n",
    "    minSamples4rot=100,\n",
    "    # minBlur4rot=1000,\n",
    "    minDMax4rot=15,\n",
    "    singleParticleFramesOnly=True,\n",
    "    nSamples4rot=50000,\n",
    "    sigma={\n",
    "        #             \"Z\" : 1.7, # estimated from OE results\n",
    "        \"H\": 1.2,  # estimated from OE results\n",
    "        \"I\": 0.01,\n",
    "    },\n",
    ")\n",
    "rot, rot_err"
   ]
  },
  {
   "cell_type": "code",
   "execution_count": null,
   "id": "bb5f159d-8507-4617-9b8d-8f739b088fd5",
   "metadata": {},
   "outputs": [],
   "source": [
    "%debug\n"
   ]
  },
  {
   "cell_type": "code",
   "execution_count": null,
   "id": "becdc32a-0072-486d-b414-fc1d3f62739b",
   "metadata": {
    "scrolled": true
   },
   "outputs": [],
   "source": [
    "fout, matchedDat, rot2, rot_err2 = VISSSlib.matching.matchParticles(\n",
    "    fname1L,\n",
    "    config,\n",
    "    doRot=True,\n",
    "    rotationOnly=True,\n",
    "    rotate=rot,\n",
    "    rotate_err=rot_err,\n",
    "    nPoints=500,\n",
    "    minSamples4rot=5,\n",
    ")"
   ]
  },
  {
   "cell_type": "code",
   "execution_count": null,
   "id": "874cd8f6-1bd2-4f20-88a2-8713c4c5056a",
   "metadata": {},
   "outputs": [],
   "source": []
  },
  {
   "cell_type": "code",
   "execution_count": null,
   "id": "f997b040",
   "metadata": {
    "ExecuteTime": {
     "end_time": "2022-12-07T15:38:53.354719Z",
     "start_time": "2022-12-07T15:38:42.109053Z"
    }
   },
   "outputs": [],
   "source": [
    "fout, matchedDat, rot3, rot_err3 = VISSSlib.matching.matchParticles(\n",
    "    fname1L,\n",
    "    config,\n",
    "    doRot=True,\n",
    "    rotationOnly=True,\n",
    "    rotate=rot2,\n",
    "    rotate_err=rot_err2,\n",
    "    nPoints=500,\n",
    "    minSamples4rot=5,\n",
    ")"
   ]
  },
  {
   "cell_type": "code",
   "execution_count": null,
   "id": "424c84e4",
   "metadata": {
    "ExecuteTime": {
     "end_time": "2022-12-07T15:38:53.364816Z",
     "start_time": "2022-12-07T15:38:53.358962Z"
    }
   },
   "outputs": [],
   "source": [
    "print(\n",
    "    yaml.dump(\n",
    "        {\"rotate\": rot3.round(6).to_dict(), \"rotate_err\": rot_err3.round(6).to_dict()}\n",
    "    )\n",
    ")"
   ]
  },
  {
   "cell_type": "code",
   "execution_count": null,
   "id": "a75cccf3",
   "metadata": {
    "ExecuteTime": {
     "end_time": "2022-12-07T15:38:53.374338Z",
     "start_time": "2022-12-07T15:38:53.368130Z"
    }
   },
   "outputs": [],
   "source": [
    "print(\n",
    "    yaml.dump(\n",
    "        {\"rotate\": rot3.round(6).to_dict(), \"rotate_err\": rot_err3.round(6).to_dict()}\n",
    "    )\n",
    ")"
   ]
  },
  {
   "cell_type": "code",
   "execution_count": null,
   "id": "d0581558",
   "metadata": {
    "ExecuteTime": {
     "end_time": "2022-12-07T15:39:04.517541Z",
     "start_time": "2022-12-07T15:38:53.376214Z"
    }
   },
   "outputs": [],
   "source": [
    "fout, matchedDat, rot4, rot_err4 = VISSSlib.matching.matchParticles(\n",
    "    fname1L,\n",
    "    config,\n",
    "    doRot=True,\n",
    "    rotationOnly=True,\n",
    "    rotate=rot3,\n",
    "    rotate_err=rot_err3,\n",
    "    nPoints=500,\n",
    "    minSamples4rot=5,\n",
    ")"
   ]
  },
  {
   "cell_type": "code",
   "execution_count": null,
   "id": "0baa7279",
   "metadata": {
    "ExecuteTime": {
     "end_time": "2022-12-07T15:39:04.527218Z",
     "start_time": "2022-12-07T15:39:04.520958Z"
    }
   },
   "outputs": [],
   "source": [
    "print(\n",
    "    yaml.dump(\n",
    "        {\"rotate\": rot4.round(6).to_dict(), \"rotate_err\": rot_err4.round(6).to_dict()}\n",
    "    )\n",
    ")"
   ]
  },
  {
   "cell_type": "code",
   "execution_count": null,
   "id": "be0379cf",
   "metadata": {
    "ExecuteTime": {
     "end_time": "2022-12-07T15:39:04.536148Z",
     "start_time": "2022-12-07T15:39:04.530059Z"
    }
   },
   "outputs": [],
   "source": [
    "print(\n",
    "    yaml.dump(\n",
    "        {\n",
    "            \"rotate\": {\n",
    "                case: {\n",
    "                    \"transformation\": rot4.round(6).to_dict(),\n",
    "                    \"transformation_err\": rot_err4.round(6).to_dict(),\n",
    "                }\n",
    "            }  #\n",
    "        }\n",
    "    )\n",
    ")"
   ]
  },
  {
   "cell_type": "markdown",
   "id": "e69835b6-0ed1-4fb0-87d2-480c08414b67",
   "metadata": {},
   "source": [
    "    \n",
    "    \n",
    "    rotate:\n",
    "      20231212-0800:\n",
    "        transformation:\n",
    "          camera_Ofz: -18.82027\n",
    "          camera_phi: 0.981895\n",
    "          camera_theta: -0.916847\n",
    "        transformation_err:\n",
    "          camera_Ofz: 0.27861\n",
    "          camera_phi: 0.021061\n",
    "          camera_theta: 0.01966\n",
    "    \n"
   ]
  },
  {
   "cell_type": "markdown",
   "id": "6f7100b0",
   "metadata": {},
   "source": [
    "# check camera positions"
   ]
  },
  {
   "cell_type": "code",
   "execution_count": null,
   "id": "cbd05438-c58d-45c2-ab6d-85f27d6490e4",
   "metadata": {},
   "outputs": [],
   "source": [
    "rot4"
   ]
  },
  {
   "cell_type": "code",
   "execution_count": null,
   "id": "27b457aa-d8cd-4d2a-b715-49eb9de749e9",
   "metadata": {},
   "outputs": [],
   "source": [
    "fout, matchedDat, _, _ = VISSSlib.matching.matchParticles(\n",
    "    fname1L, config, doRot=True, rotate=rot4, rotate_err=rot_err4\n",
    ")"
   ]
  },
  {
   "cell_type": "markdown",
   "id": "0af8dd15-71cc-4a2a-8d8f-ccf52a53358b",
   "metadata": {},
   "source": [
    "#### matchedDat"
   ]
  },
  {
   "cell_type": "code",
   "execution_count": null,
   "id": "31a6669f",
   "metadata": {
    "ExecuteTime": {
     "end_time": "2022-12-07T15:35:33.333756Z",
     "start_time": "2022-12-07T15:35:33.333745Z"
    }
   },
   "outputs": [],
   "source": [
    "(\n",
    "    matchedDat.position3D_centroid.sel(dim3D=\"z\")\n",
    "    - matchedDat.position3D_centroid.sel(dim3D=\"z_rotated\")\n",
    ").plot.hist(bins=np.arange(-20, 21, 1))"
   ]
  },
  {
   "cell_type": "code",
   "execution_count": null,
   "id": "17bf7731-6925-4654-aebd-8f2abfb5668b",
   "metadata": {},
   "outputs": [],
   "source": [
    "matchedDat"
   ]
  },
  {
   "cell_type": "code",
   "execution_count": null,
   "id": "e210e9c5",
   "metadata": {
    "ExecuteTime": {
     "end_time": "2022-12-07T15:06:26.529836Z",
     "start_time": "2022-12-07T15:06:26.480587Z"
    }
   },
   "outputs": [],
   "source": [
    "ii = (matchedDat.Dmax.mean(\"camera\") < 35) & (matchedDat.blur.mean(\"camera\") > 1)\n",
    "matchedDat1 = matchedDat  # .isel(pair_id=ii)"
   ]
  },
  {
   "cell_type": "code",
   "execution_count": null,
   "id": "a7ea8f10",
   "metadata": {
    "ExecuteTime": {
     "end_time": "2022-12-07T15:06:26.535523Z",
     "start_time": "2022-12-07T15:06:26.532196Z"
    }
   },
   "outputs": [],
   "source": [
    "bins = np.linspace(0, config.frame_width, 21)"
   ]
  },
  {
   "cell_type": "code",
   "execution_count": null,
   "id": "5222089f-4901-43a2-9006-62a476ab0406",
   "metadata": {},
   "outputs": [],
   "source": [
    "matchedDat1"
   ]
  },
  {
   "cell_type": "code",
   "execution_count": null,
   "id": "0955ab18-656a-43cd-88bb-b59c8e618f86",
   "metadata": {},
   "outputs": [],
   "source": [
    "x = matchedDat1.position_centroid.sel(dim2D=\"x\", camera=config.follower)\n",
    "\n",
    "plt.scatter(x, matchedDat1.blur.sel(camera=config.leader))\n",
    "\n",
    "med = matchedDat1.blur.sel(camera=config.leader).groupby_bins(x, bins=bins).median()\n",
    "\n",
    "med.plot(color=\"C1\", label=\"median\")\n",
    "\n",
    "peakPos = med.position_centroid_bins[[med.argmax()]].values[0].mid\n",
    "plt.axvline(peakPos, color=\"C2\", label=\"actual peak position\")\n",
    "plt.axvline(config.frame_width // 2, color=\"C3\", label=\"best peak position\")\n",
    "\n",
    "plt.legend()\n",
    "plt.xlabel(\"X position in 2D coordinates (from follower)\")\n",
    "plt.ylabel(\"blur (from leader)\")\n",
    "distance = peakPos - config.frame_width // 2\n",
    "distanceMM = distance * config.resolution / 1000\n",
    "plt.title(\"follower aiming quality: %i px = %.1f mm\" % (distance, distanceMM))\n",
    "\n",
    "plt.xlim(0, config.frame_width)"
   ]
  },
  {
   "cell_type": "code",
   "execution_count": null,
   "id": "b8a02086-3654-4645-af24-796b17bf355b",
   "metadata": {},
   "outputs": [],
   "source": [
    "x = matchedDat1.position3D_centroid.sel(dim3D=\"y\")\n",
    "\n",
    "plt.scatter(x, matchedDat1.blur.sel(camera=config.leader))\n",
    "\n",
    "med = matchedDat1.blur.sel(camera=config.leader).groupby_bins(x, bins=bins).median()\n",
    "\n",
    "med.plot(color=\"C1\", label=\"median\")\n",
    "\n",
    "peakPos = med.position3D_centroid_bins[[med.argmax()]].values[0].mid\n",
    "plt.axvline(peakPos, color=\"C2\", label=\"actual peak position\")\n",
    "plt.axvline(config.frame_width // 2, color=\"C3\", label=\"best peak position\")\n",
    "\n",
    "plt.legend()\n",
    "plt.xlabel(\"y position in 3D coordinates (from follower)\")\n",
    "plt.ylabel(\"blur (from leader)\")\n",
    "distance = peakPos - config.frame_width // 2\n",
    "distanceMM = distance * config.resolution / 1000\n",
    "plt.title(\"follower aiming quality: %i px = %.1f mm\" % (distance, distanceMM))\n",
    "\n",
    "plt.xlim(0, config.frame_width)"
   ]
  },
  {
   "cell_type": "code",
   "execution_count": null,
   "id": "52dece34-f006-4b5c-a6d2-a5dbf7d18625",
   "metadata": {},
   "outputs": [],
   "source": [
    "x = matchedDat1.position3D_centroid.sel(dim3D=\"x\")\n",
    "\n",
    "plt.scatter(x, matchedDat1.blur.sel(camera=config.follower))\n",
    "\n",
    "med = matchedDat1.blur.sel(camera=config.follower).groupby_bins(x, bins=bins).median()\n",
    "\n",
    "med.plot(color=\"C1\", label=\"median\")\n",
    "\n",
    "peakPos = med.position3D_centroid_bins[[med.argmax()]].values[0].mid\n",
    "plt.axvline(peakPos, color=\"C2\", label=\"actual peak position\")\n",
    "plt.axvline(config.frame_width // 2, color=\"C3\", label=\"best peak position\")\n",
    "\n",
    "plt.legend()\n",
    "plt.xlabel(\"x position in 3D coordinates (from leader)\")\n",
    "plt.ylabel(\"blur (from follower)\")\n",
    "distance = peakPos - config.frame_width // 2\n",
    "distanceMM = distance * config.resolution / 1000\n",
    "plt.title(\"leader aiming quality: %i px = %.1f mm\" % (distance, distanceMM))\n",
    "\n",
    "plt.xlim(0, config.frame_width)\n",
    "plt.ylim(0, 10000)"
   ]
  },
  {
   "cell_type": "code",
   "execution_count": null,
   "id": "d04dcc8a-6065-456c-afc3-eb6c83c20533",
   "metadata": {},
   "outputs": [],
   "source": [
    "x = matchedDat1.position_centroid.sel(dim2D=\"x\", camera=config.leader)\n",
    "\n",
    "plt.scatter(x, matchedDat1.blur.sel(camera=config.follower))\n",
    "\n",
    "med = matchedDat1.blur.sel(camera=config.follower).groupby_bins(x, bins=bins).median()\n",
    "\n",
    "med.plot(color=\"C1\", label=\"median\")\n",
    "\n",
    "peakPos = med.position_centroid_bins[[med.argmax()]].values[0].mid\n",
    "plt.axvline(peakPos, color=\"C2\", label=\"actual peak position\")\n",
    "plt.axvline(config.frame_width // 2, color=\"C3\", label=\"best peak position\")\n",
    "\n",
    "plt.legend()\n",
    "plt.xlabel(\"x position in 2D coordinates (from leader)\")\n",
    "plt.ylabel(\"blur (from follower)\")\n",
    "distance = peakPos - config.frame_width // 2\n",
    "distanceMM = distance * config.resolution / 1000\n",
    "plt.title(\"leader aiming quality: %i px = %.1f mm\" % (distance, distanceMM))\n",
    "\n",
    "plt.xlim(0, config.frame_width)\n",
    "plt.ylim(0, 10000)"
   ]
  },
  {
   "cell_type": "code",
   "execution_count": null,
   "id": "1d6843f0-2219-4dd6-a519-ca5ce7860085",
   "metadata": {},
   "outputs": [],
   "source": []
  },
  {
   "cell_type": "code",
   "execution_count": null,
   "id": "b292a340-073f-41ca-a038-a0f989da5944",
   "metadata": {},
   "outputs": [],
   "source": []
  },
  {
   "cell_type": "code",
   "execution_count": null,
   "id": "3df00ab1-0335-48b7-b6e0-b9e4d637e717",
   "metadata": {},
   "outputs": [],
   "source": [
    "matchedDat1"
   ]
  },
  {
   "cell_type": "code",
   "execution_count": null,
   "id": "0d2ff2a3-2fc0-4601-a051-1744d4c2cdd4",
   "metadata": {},
   "outputs": [],
   "source": []
  },
  {
   "cell_type": "code",
   "execution_count": null,
   "id": "a3aa840f-e669-4769-817c-169488a68216",
   "metadata": {},
   "outputs": [],
   "source": []
  },
  {
   "cell_type": "code",
   "execution_count": null,
   "id": "0a4062e4-206f-4bb4-bec8-d4017a0a4b23",
   "metadata": {},
   "outputs": [],
   "source": []
  },
  {
   "cell_type": "code",
   "execution_count": null,
   "id": "2136a7c5-1e05-497d-a522-51395eaa47f3",
   "metadata": {},
   "outputs": [],
   "source": []
  }
 ],
 "metadata": {
  "kernelspec": {
   "display_name": "Python [conda env:py310]",
   "language": "python",
   "name": "conda-env-py310-py"
  },
  "language_info": {
   "codemirror_mode": {
    "name": "ipython",
    "version": 3
   },
   "file_extension": ".py",
   "mimetype": "text/x-python",
   "name": "python",
   "nbconvert_exporter": "python",
   "pygments_lexer": "ipython3",
   "version": "3.10.13"
  },
  "notify_time": "5",
  "toc": {
   "base_numbering": 1,
   "nav_menu": {},
   "number_sections": true,
   "sideBar": true,
   "skip_h1_title": false,
   "title_cell": "Table of Contents",
   "title_sidebar": "Contents",
   "toc_cell": false,
   "toc_position": {
    "height": "calc(100% - 180px)",
    "left": "10px",
    "top": "150px",
    "width": "165px"
   },
   "toc_section_display": true,
   "toc_window_display": true
  }
 },
 "nbformat": 4,
 "nbformat_minor": 5
}
